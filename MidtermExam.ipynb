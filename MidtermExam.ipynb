{
 "cells": [
  {
   "cell_type": "code",
   "execution_count": 36,
   "metadata": {},
   "outputs": [],
   "source": [
    "import os\n",
    "import glob\n",
    "import numpy as np\n",
    "import pandas as pd\n",
    "import matplotlib.pyplot as plt\n",
    "import seaborn as sns \n",
    "%matplotlib inline"
   ]
  },
  {
   "cell_type": "markdown",
   "metadata": {},
   "source": [
    "# 讀取資料"
   ]
  },
  {
   "cell_type": "code",
   "execution_count": 37,
   "metadata": {},
   "outputs": [],
   "source": [
    "def read_files(root):\n",
    "    dataset = {}\n",
    "    files = list(glob.glob(os.path.join(root, \"*.csv\")))\n",
    "    for file_path in files:\n",
    "        print(f'read file:{file_path}')\n",
    "        code = file_path.replace('stock_data\\\\','').replace('.csv','')\n",
    "        df = pd.read_csv(file_path)\n",
    "        dataset[code] = df\n",
    "    \n",
    "    return dataset"
   ]
  },
  {
   "cell_type": "code",
   "execution_count": 26,
   "metadata": {},
   "outputs": [
    {
     "name": "stdout",
     "output_type": "stream",
     "text": [
      "read file:stock_data\\0056.csv\n",
      "read file:stock_data\\1101.csv\n",
      "read file:stock_data\\2327.csv\n",
      "read file:stock_data\\2352.csv\n",
      "read file:stock_data\\2385.csv\n",
      "read file:stock_data\\2449.csv\n",
      "read file:stock_data\\2915.csv\n",
      "read file:stock_data\\3005.csv\n",
      "read file:stock_data\\3532.csv\n",
      "read file:stock_data\\6176.csv\n",
      "read file:stock_data\\9945.csv\n"
     ]
    }
   ],
   "source": [
    "ds = read_files('stock_data')"
   ]
  },
  {
   "cell_type": "code",
   "execution_count": 16,
   "metadata": {},
   "outputs": [
    {
     "data": {
      "text/plain": [
       "dict_keys(['0056', '1101', '2327', '2352', '2385', '2449', '2915', '3005', '3532', '6176', '9945'])"
      ]
     },
     "execution_count": 16,
     "metadata": {},
     "output_type": "execute_result"
    }
   ],
   "source": [
    "ds.keys()"
   ]
  },
  {
   "cell_type": "code",
   "execution_count": 100,
   "metadata": {},
   "outputs": [
    {
     "data": {
      "text/plain": [
       "11"
      ]
     },
     "execution_count": 100,
     "metadata": {},
     "output_type": "execute_result"
    }
   ],
   "source": [
    "len(ds.values())"
   ]
  },
  {
   "cell_type": "markdown",
   "metadata": {},
   "source": [
    "### 觀察0056.csv裡面有157筆空值，是我們要預測的"
   ]
  },
  {
   "cell_type": "code",
   "execution_count": 35,
   "metadata": {},
   "outputs": [
    {
     "data": {
      "text/plain": [
       "date              0\n",
       "0056_close_y    157\n",
       "dtype: int64"
      ]
     },
     "execution_count": 35,
     "metadata": {},
     "output_type": "execute_result"
    }
   ],
   "source": [
    "ds['0056'].isna().sum()"
   ]
  },
  {
   "cell_type": "markdown",
   "metadata": {},
   "source": [
    "### 觀察0056.csv的前5筆資料"
   ]
  },
  {
   "cell_type": "code",
   "execution_count": 52,
   "metadata": {},
   "outputs": [
    {
     "data": {
      "text/html": [
       "<div>\n",
       "<style scoped>\n",
       "    .dataframe tbody tr th:only-of-type {\n",
       "        vertical-align: middle;\n",
       "    }\n",
       "\n",
       "    .dataframe tbody tr th {\n",
       "        vertical-align: top;\n",
       "    }\n",
       "\n",
       "    .dataframe thead th {\n",
       "        text-align: right;\n",
       "    }\n",
       "</style>\n",
       "<table border=\"1\" class=\"dataframe\">\n",
       "  <thead>\n",
       "    <tr style=\"text-align: right;\">\n",
       "      <th></th>\n",
       "      <th>date</th>\n",
       "      <th>0056_close_y</th>\n",
       "    </tr>\n",
       "  </thead>\n",
       "  <tbody>\n",
       "    <tr>\n",
       "      <th>0</th>\n",
       "      <td>7691</td>\n",
       "      <td>343.558155</td>\n",
       "    </tr>\n",
       "    <tr>\n",
       "      <th>1</th>\n",
       "      <td>7330</td>\n",
       "      <td>334.585982</td>\n",
       "    </tr>\n",
       "    <tr>\n",
       "      <th>2</th>\n",
       "      <td>6825</td>\n",
       "      <td>308.877787</td>\n",
       "    </tr>\n",
       "    <tr>\n",
       "      <th>3</th>\n",
       "      <td>6978</td>\n",
       "      <td>311.482266</td>\n",
       "    </tr>\n",
       "    <tr>\n",
       "      <th>4</th>\n",
       "      <td>8041</td>\n",
       "      <td>NaN</td>\n",
       "    </tr>\n",
       "  </tbody>\n",
       "</table>\n",
       "</div>"
      ],
      "text/plain": [
       "   date  0056_close_y\n",
       "0  7691    343.558155\n",
       "1  7330    334.585982\n",
       "2  6825    308.877787\n",
       "3  6978    311.482266\n",
       "4  8041           NaN"
      ]
     },
     "execution_count": 52,
     "metadata": {},
     "output_type": "execute_result"
    }
   ],
   "source": [
    "ds['0056'].head()"
   ]
  },
  {
   "cell_type": "markdown",
   "metadata": {},
   "source": [
    "### 觀察1101.csv的前5筆資料"
   ]
  },
  {
   "cell_type": "code",
   "execution_count": 53,
   "metadata": {},
   "outputs": [
    {
     "data": {
      "text/html": [
       "<div>\n",
       "<style scoped>\n",
       "    .dataframe tbody tr th:only-of-type {\n",
       "        vertical-align: middle;\n",
       "    }\n",
       "\n",
       "    .dataframe tbody tr th {\n",
       "        vertical-align: top;\n",
       "    }\n",
       "\n",
       "    .dataframe thead th {\n",
       "        text-align: right;\n",
       "    }\n",
       "</style>\n",
       "<table border=\"1\" class=\"dataframe\">\n",
       "  <thead>\n",
       "    <tr style=\"text-align: right;\">\n",
       "      <th></th>\n",
       "      <th>date</th>\n",
       "      <th>1101_Turnover</th>\n",
       "      <th>1101_Volume</th>\n",
       "      <th>1101_close</th>\n",
       "      <th>1101_eps</th>\n",
       "      <th>1101_high</th>\n",
       "      <th>1101_low</th>\n",
       "      <th>1101_open</th>\n",
       "      <th>1101_ups_and_downs</th>\n",
       "      <th>1101_ups_percent</th>\n",
       "    </tr>\n",
       "  </thead>\n",
       "  <tbody>\n",
       "    <tr>\n",
       "      <th>0</th>\n",
       "      <td>6980</td>\n",
       "      <td>349769.0</td>\n",
       "      <td>9158.0</td>\n",
       "      <td>38.20</td>\n",
       "      <td>22.3400</td>\n",
       "      <td>38.40</td>\n",
       "      <td>37.95</td>\n",
       "      <td>38.15</td>\n",
       "      <td>0.20</td>\n",
       "      <td>0.53</td>\n",
       "    </tr>\n",
       "    <tr>\n",
       "      <th>1</th>\n",
       "      <td>7369</td>\n",
       "      <td>604662.0</td>\n",
       "      <td>15952.0</td>\n",
       "      <td>38.20</td>\n",
       "      <td>21.3400</td>\n",
       "      <td>38.40</td>\n",
       "      <td>37.25</td>\n",
       "      <td>37.25</td>\n",
       "      <td>0.85</td>\n",
       "      <td>2.28</td>\n",
       "    </tr>\n",
       "    <tr>\n",
       "      <th>2</th>\n",
       "      <td>7813</td>\n",
       "      <td>634441.0</td>\n",
       "      <td>13840.0</td>\n",
       "      <td>46.05</td>\n",
       "      <td>11.0167</td>\n",
       "      <td>46.05</td>\n",
       "      <td>45.60</td>\n",
       "      <td>46.00</td>\n",
       "      <td>0.10</td>\n",
       "      <td>0.22</td>\n",
       "    </tr>\n",
       "    <tr>\n",
       "      <th>3</th>\n",
       "      <td>7201</td>\n",
       "      <td>151159.0</td>\n",
       "      <td>4497.0</td>\n",
       "      <td>33.55</td>\n",
       "      <td>17.3800</td>\n",
       "      <td>33.75</td>\n",
       "      <td>33.50</td>\n",
       "      <td>33.65</td>\n",
       "      <td>-0.25</td>\n",
       "      <td>-0.74</td>\n",
       "    </tr>\n",
       "    <tr>\n",
       "      <th>4</th>\n",
       "      <td>7692</td>\n",
       "      <td>551092.0</td>\n",
       "      <td>14385.0</td>\n",
       "      <td>NaN</td>\n",
       "      <td>10.5495</td>\n",
       "      <td>38.45</td>\n",
       "      <td>38.15</td>\n",
       "      <td>38.20</td>\n",
       "      <td>0.20</td>\n",
       "      <td>0.52</td>\n",
       "    </tr>\n",
       "  </tbody>\n",
       "</table>\n",
       "</div>"
      ],
      "text/plain": [
       "   date  1101_Turnover  1101_Volume  1101_close  1101_eps  1101_high  \\\n",
       "0  6980       349769.0       9158.0       38.20   22.3400      38.40   \n",
       "1  7369       604662.0      15952.0       38.20   21.3400      38.40   \n",
       "2  7813       634441.0      13840.0       46.05   11.0167      46.05   \n",
       "3  7201       151159.0       4497.0       33.55   17.3800      33.75   \n",
       "4  7692       551092.0      14385.0         NaN   10.5495      38.45   \n",
       "\n",
       "   1101_low  1101_open  1101_ups_and_downs  1101_ups_percent  \n",
       "0     37.95      38.15                0.20              0.53  \n",
       "1     37.25      37.25                0.85              2.28  \n",
       "2     45.60      46.00                0.10              0.22  \n",
       "3     33.50      33.65               -0.25             -0.74  \n",
       "4     38.15      38.20                0.20              0.52  "
      ]
     },
     "execution_count": 53,
     "metadata": {},
     "output_type": "execute_result"
    }
   ],
   "source": [
    "ds['1101'].head()"
   ]
  },
  {
   "cell_type": "markdown",
   "metadata": {},
   "source": [
    "### 觀察1101.csv裡面的缺失值情形"
   ]
  },
  {
   "cell_type": "code",
   "execution_count": 97,
   "metadata": {},
   "outputs": [
    {
     "data": {
      "text/plain": [
       "date                   0\n",
       "1101_Turnover          8\n",
       "1101_Volume           13\n",
       "1101_close            11\n",
       "1101_eps              16\n",
       "1101_high             14\n",
       "1101_low               7\n",
       "1101_open             10\n",
       "1101_ups_and_downs     9\n",
       "1101_ups_percent      10\n",
       "dtype: int64"
      ]
     },
     "execution_count": 97,
     "metadata": {},
     "output_type": "execute_result"
    }
   ],
   "source": [
    "ds['1101'].isna().sum()"
   ]
  },
  {
   "cell_type": "markdown",
   "metadata": {},
   "source": [
    "# 把全部的資料集都合併在一起\n",
    "    merge dataframes by date"
   ]
  },
  {
   "cell_type": "code",
   "execution_count": 89,
   "metadata": {},
   "outputs": [],
   "source": [
    "def merge_ds(datasets):\n",
    "    result = pd.DataFrame()\n",
    "    for dt in datasets.values():\n",
    "        if result.empty:\n",
    "            result = dt\n",
    "        else:\n",
    "            result = pd.merge(result, dt, on='date')\n",
    "    \n",
    "    return result"
   ]
  },
  {
   "cell_type": "markdown",
   "metadata": {},
   "source": [
    "### 合併後的資料集(mds) 大小 (852, 92)"
   ]
  },
  {
   "cell_type": "code",
   "execution_count": 91,
   "metadata": {},
   "outputs": [
    {
     "data": {
      "text/plain": [
       "(852, 92)"
      ]
     },
     "execution_count": 91,
     "metadata": {},
     "output_type": "execute_result"
    }
   ],
   "source": [
    "mds = merge_ds(ds)\n",
    "mds.shape"
   ]
  },
  {
   "cell_type": "code",
   "execution_count": 92,
   "metadata": {},
   "outputs": [
    {
     "data": {
      "text/html": [
       "<div>\n",
       "<style scoped>\n",
       "    .dataframe tbody tr th:only-of-type {\n",
       "        vertical-align: middle;\n",
       "    }\n",
       "\n",
       "    .dataframe tbody tr th {\n",
       "        vertical-align: top;\n",
       "    }\n",
       "\n",
       "    .dataframe thead th {\n",
       "        text-align: right;\n",
       "    }\n",
       "</style>\n",
       "<table border=\"1\" class=\"dataframe\">\n",
       "  <thead>\n",
       "    <tr style=\"text-align: right;\">\n",
       "      <th></th>\n",
       "      <th>date</th>\n",
       "      <th>0056_close_y</th>\n",
       "      <th>1101_Turnover</th>\n",
       "      <th>1101_Volume</th>\n",
       "      <th>1101_close</th>\n",
       "      <th>1101_eps</th>\n",
       "      <th>1101_high</th>\n",
       "      <th>1101_low</th>\n",
       "      <th>1101_open</th>\n",
       "      <th>1101_ups_and_downs</th>\n",
       "      <th>...</th>\n",
       "      <th>6176_ups_percent</th>\n",
       "      <th>9945_Turnover</th>\n",
       "      <th>9945_Volume</th>\n",
       "      <th>9945_close</th>\n",
       "      <th>9945_eps</th>\n",
       "      <th>9945_high</th>\n",
       "      <th>9945_low</th>\n",
       "      <th>9945_open</th>\n",
       "      <th>9945_ups_and_downs</th>\n",
       "      <th>9945_ups_percent</th>\n",
       "    </tr>\n",
       "  </thead>\n",
       "  <tbody>\n",
       "    <tr>\n",
       "      <th>0</th>\n",
       "      <td>7691</td>\n",
       "      <td>343.558155</td>\n",
       "      <td>660458.0</td>\n",
       "      <td>17253.0</td>\n",
       "      <td>38.2</td>\n",
       "      <td>10.4945</td>\n",
       "      <td>38.50</td>\n",
       "      <td>38.20</td>\n",
       "      <td>38.25</td>\n",
       "      <td>-0.25</td>\n",
       "      <td>...</td>\n",
       "      <td>-0.22</td>\n",
       "      <td>55429.0</td>\n",
       "      <td>1139.0</td>\n",
       "      <td>48.70</td>\n",
       "      <td>3.0324</td>\n",
       "      <td>48.75</td>\n",
       "      <td>48.55</td>\n",
       "      <td>48.55</td>\n",
       "      <td>0.25</td>\n",
       "      <td>0.52</td>\n",
       "    </tr>\n",
       "    <tr>\n",
       "      <th>1</th>\n",
       "      <td>7330</td>\n",
       "      <td>334.585982</td>\n",
       "      <td>224111.0</td>\n",
       "      <td>6095.0</td>\n",
       "      <td>36.9</td>\n",
       "      <td>20.1600</td>\n",
       "      <td>37.00</td>\n",
       "      <td>36.50</td>\n",
       "      <td>36.50</td>\n",
       "      <td>-0.10</td>\n",
       "      <td>...</td>\n",
       "      <td>-1.45</td>\n",
       "      <td>97527.0</td>\n",
       "      <td>3014.0</td>\n",
       "      <td>32.40</td>\n",
       "      <td>7.3100</td>\n",
       "      <td>32.55</td>\n",
       "      <td>31.90</td>\n",
       "      <td>32.10</td>\n",
       "      <td>-0.10</td>\n",
       "      <td>-0.31</td>\n",
       "    </tr>\n",
       "    <tr>\n",
       "      <th>2</th>\n",
       "      <td>6825</td>\n",
       "      <td>308.877787</td>\n",
       "      <td>322056.0</td>\n",
       "      <td>9133.0</td>\n",
       "      <td>35.0</td>\n",
       "      <td>26.1200</td>\n",
       "      <td>36.05</td>\n",
       "      <td>35.00</td>\n",
       "      <td>36.05</td>\n",
       "      <td>-1.05</td>\n",
       "      <td>...</td>\n",
       "      <td>-1.17</td>\n",
       "      <td>101583.0</td>\n",
       "      <td>2744.0</td>\n",
       "      <td>36.95</td>\n",
       "      <td>6.6600</td>\n",
       "      <td>37.50</td>\n",
       "      <td>36.80</td>\n",
       "      <td>37.25</td>\n",
       "      <td>-0.30</td>\n",
       "      <td>-0.81</td>\n",
       "    </tr>\n",
       "    <tr>\n",
       "      <th>3</th>\n",
       "      <td>6978</td>\n",
       "      <td>311.482266</td>\n",
       "      <td>265164.0</td>\n",
       "      <td>6959.0</td>\n",
       "      <td>38.2</td>\n",
       "      <td>22.3400</td>\n",
       "      <td>38.40</td>\n",
       "      <td>37.55</td>\n",
       "      <td>37.70</td>\n",
       "      <td>0.40</td>\n",
       "      <td>...</td>\n",
       "      <td>0.33</td>\n",
       "      <td>55584.0</td>\n",
       "      <td>1425.0</td>\n",
       "      <td>38.95</td>\n",
       "      <td>8.3900</td>\n",
       "      <td>39.15</td>\n",
       "      <td>38.80</td>\n",
       "      <td>38.95</td>\n",
       "      <td>0.00</td>\n",
       "      <td>0.00</td>\n",
       "    </tr>\n",
       "    <tr>\n",
       "      <th>4</th>\n",
       "      <td>8041</td>\n",
       "      <td>NaN</td>\n",
       "      <td>656944.0</td>\n",
       "      <td>15381.0</td>\n",
       "      <td>42.6</td>\n",
       "      <td>10.4926</td>\n",
       "      <td>42.90</td>\n",
       "      <td>42.50</td>\n",
       "      <td>42.50</td>\n",
       "      <td>0.20</td>\n",
       "      <td>...</td>\n",
       "      <td>0.97</td>\n",
       "      <td>36133.0</td>\n",
       "      <td>853.0</td>\n",
       "      <td>42.30</td>\n",
       "      <td>3.8986</td>\n",
       "      <td>42.50</td>\n",
       "      <td>42.20</td>\n",
       "      <td>NaN</td>\n",
       "      <td>0.30</td>\n",
       "      <td>0.71</td>\n",
       "    </tr>\n",
       "  </tbody>\n",
       "</table>\n",
       "<p>5 rows × 92 columns</p>\n",
       "</div>"
      ],
      "text/plain": [
       "   date  0056_close_y  1101_Turnover  1101_Volume  1101_close  1101_eps  \\\n",
       "0  7691    343.558155       660458.0      17253.0        38.2   10.4945   \n",
       "1  7330    334.585982       224111.0       6095.0        36.9   20.1600   \n",
       "2  6825    308.877787       322056.0       9133.0        35.0   26.1200   \n",
       "3  6978    311.482266       265164.0       6959.0        38.2   22.3400   \n",
       "4  8041           NaN       656944.0      15381.0        42.6   10.4926   \n",
       "\n",
       "   1101_high  1101_low  1101_open  1101_ups_and_downs  ...  6176_ups_percent  \\\n",
       "0      38.50     38.20      38.25               -0.25  ...             -0.22   \n",
       "1      37.00     36.50      36.50               -0.10  ...             -1.45   \n",
       "2      36.05     35.00      36.05               -1.05  ...             -1.17   \n",
       "3      38.40     37.55      37.70                0.40  ...              0.33   \n",
       "4      42.90     42.50      42.50                0.20  ...              0.97   \n",
       "\n",
       "   9945_Turnover  9945_Volume  9945_close  9945_eps  9945_high  9945_low  \\\n",
       "0        55429.0       1139.0       48.70    3.0324      48.75     48.55   \n",
       "1        97527.0       3014.0       32.40    7.3100      32.55     31.90   \n",
       "2       101583.0       2744.0       36.95    6.6600      37.50     36.80   \n",
       "3        55584.0       1425.0       38.95    8.3900      39.15     38.80   \n",
       "4        36133.0        853.0       42.30    3.8986      42.50     42.20   \n",
       "\n",
       "   9945_open  9945_ups_and_downs  9945_ups_percent  \n",
       "0      48.55                0.25              0.52  \n",
       "1      32.10               -0.10             -0.31  \n",
       "2      37.25               -0.30             -0.81  \n",
       "3      38.95                0.00              0.00  \n",
       "4        NaN                0.30              0.71  \n",
       "\n",
       "[5 rows x 92 columns]"
      ]
     },
     "execution_count": 92,
     "metadata": {},
     "output_type": "execute_result"
    }
   ],
   "source": [
    "mds.head()"
   ]
  },
  {
   "cell_type": "code",
   "execution_count": 96,
   "metadata": {},
   "outputs": [
    {
     "data": {
      "text/plain": [
       "date                    0\n",
       "0056_close_y          157\n",
       "1101_Turnover           8\n",
       "1101_Volume            13\n",
       "1101_close             11\n",
       "                     ... \n",
       "9945_high              16\n",
       "9945_low               22\n",
       "9945_open              22\n",
       "9945_ups_and_downs     13\n",
       "9945_ups_percent       22\n",
       "Length: 92, dtype: int64"
      ]
     },
     "execution_count": 96,
     "metadata": {},
     "output_type": "execute_result"
    }
   ],
   "source": [
    "mds.isna().sum()"
   ]
  },
  {
   "cell_type": "markdown",
   "metadata": {},
   "source": [
    "### 把資料分成訓練部分(train_set) 和考試最終要預測的部分(test_set)"
   ]
  },
  {
   "cell_type": "code",
   "execution_count": 112,
   "metadata": {},
   "outputs": [],
   "source": [
    "train_set = mds[~mds['0056_close_y'].isna()]\n",
    "test_set = mds[mds['0056_close_y'].isna()]"
   ]
  },
  {
   "cell_type": "code",
   "execution_count": 118,
   "metadata": {},
   "outputs": [
    {
     "name": "stderr",
     "output_type": "stream",
     "text": [
      "D:\\anaconda3\\lib\\site-packages\\ipykernel_launcher.py:1: SettingWithCopyWarning: \n",
      "A value is trying to be set on a copy of a slice from a DataFrame\n",
      "\n",
      "See the caveats in the documentation: https://pandas.pydata.org/pandas-docs/stable/user_guide/indexing.html#returning-a-view-versus-a-copy\n",
      "  \"\"\"Entry point for launching an IPython kernel.\n"
     ]
    }
   ],
   "source": [
    "train_set.sort_values(by=['date'], axis=0, inplace=True)"
   ]
  },
  {
   "cell_type": "markdown",
   "metadata": {},
   "source": [
    "### 把訓練部分(train_set) 所有缺失值丟掉 (剩下529 rows)"
   ]
  },
  {
   "cell_type": "code",
   "execution_count": 120,
   "metadata": {},
   "outputs": [],
   "source": [
    "dts = train_set.dropna()"
   ]
  },
  {
   "cell_type": "code",
   "execution_count": 150,
   "metadata": {},
   "outputs": [
    {
     "data": {
      "text/html": [
       "<div>\n",
       "<style scoped>\n",
       "    .dataframe tbody tr th:only-of-type {\n",
       "        vertical-align: middle;\n",
       "    }\n",
       "\n",
       "    .dataframe tbody tr th {\n",
       "        vertical-align: top;\n",
       "    }\n",
       "\n",
       "    .dataframe thead th {\n",
       "        text-align: right;\n",
       "    }\n",
       "</style>\n",
       "<table border=\"1\" class=\"dataframe\">\n",
       "  <thead>\n",
       "    <tr style=\"text-align: right;\">\n",
       "      <th></th>\n",
       "      <th>date</th>\n",
       "      <th>0056_close_y</th>\n",
       "      <th>1101_Turnover</th>\n",
       "      <th>1101_Volume</th>\n",
       "      <th>1101_close</th>\n",
       "      <th>1101_eps</th>\n",
       "      <th>1101_high</th>\n",
       "      <th>1101_low</th>\n",
       "      <th>1101_open</th>\n",
       "      <th>1101_ups_and_downs</th>\n",
       "      <th>...</th>\n",
       "      <th>6176_ups_percent</th>\n",
       "      <th>9945_Turnover</th>\n",
       "      <th>9945_Volume</th>\n",
       "      <th>9945_close</th>\n",
       "      <th>9945_eps</th>\n",
       "      <th>9945_high</th>\n",
       "      <th>9945_low</th>\n",
       "      <th>9945_open</th>\n",
       "      <th>9945_ups_and_downs</th>\n",
       "      <th>9945_ups_percent</th>\n",
       "    </tr>\n",
       "  </thead>\n",
       "  <tbody>\n",
       "    <tr>\n",
       "      <th>605</th>\n",
       "      <td>6815</td>\n",
       "      <td>319.623136</td>\n",
       "      <td>93134.0</td>\n",
       "      <td>2589.0</td>\n",
       "      <td>35.75</td>\n",
       "      <td>26.6800</td>\n",
       "      <td>36.20</td>\n",
       "      <td>35.75</td>\n",
       "      <td>35.80</td>\n",
       "      <td>0.10</td>\n",
       "      <td>...</td>\n",
       "      <td>1.77</td>\n",
       "      <td>146528.0</td>\n",
       "      <td>3785.0</td>\n",
       "      <td>38.80</td>\n",
       "      <td>6.9900</td>\n",
       "      <td>39.00</td>\n",
       "      <td>38.20</td>\n",
       "      <td>38.25</td>\n",
       "      <td>0.65</td>\n",
       "      <td>1.70</td>\n",
       "    </tr>\n",
       "    <tr>\n",
       "      <th>569</th>\n",
       "      <td>6817</td>\n",
       "      <td>320.416337</td>\n",
       "      <td>147950.0</td>\n",
       "      <td>4092.0</td>\n",
       "      <td>36.40</td>\n",
       "      <td>27.1600</td>\n",
       "      <td>36.40</td>\n",
       "      <td>35.60</td>\n",
       "      <td>35.60</td>\n",
       "      <td>0.45</td>\n",
       "      <td>...</td>\n",
       "      <td>-0.58</td>\n",
       "      <td>240982.0</td>\n",
       "      <td>6526.0</td>\n",
       "      <td>37.25</td>\n",
       "      <td>6.7100</td>\n",
       "      <td>37.30</td>\n",
       "      <td>36.70</td>\n",
       "      <td>36.80</td>\n",
       "      <td>-0.45</td>\n",
       "      <td>-1.19</td>\n",
       "    </tr>\n",
       "    <tr>\n",
       "      <th>198</th>\n",
       "      <td>6818</td>\n",
       "      <td>319.358946</td>\n",
       "      <td>95754.0</td>\n",
       "      <td>2627.0</td>\n",
       "      <td>36.60</td>\n",
       "      <td>27.3100</td>\n",
       "      <td>36.65</td>\n",
       "      <td>36.05</td>\n",
       "      <td>36.40</td>\n",
       "      <td>0.20</td>\n",
       "      <td>...</td>\n",
       "      <td>-1.94</td>\n",
       "      <td>94300.0</td>\n",
       "      <td>2540.0</td>\n",
       "      <td>37.05</td>\n",
       "      <td>6.6800</td>\n",
       "      <td>37.50</td>\n",
       "      <td>37.00</td>\n",
       "      <td>37.35</td>\n",
       "      <td>-0.20</td>\n",
       "      <td>-0.54</td>\n",
       "    </tr>\n",
       "    <tr>\n",
       "      <th>531</th>\n",
       "      <td>6819</td>\n",
       "      <td>314.621555</td>\n",
       "      <td>145875.0</td>\n",
       "      <td>3990.0</td>\n",
       "      <td>36.65</td>\n",
       "      <td>27.3500</td>\n",
       "      <td>36.70</td>\n",
       "      <td>36.35</td>\n",
       "      <td>36.60</td>\n",
       "      <td>0.05</td>\n",
       "      <td>...</td>\n",
       "      <td>-2.96</td>\n",
       "      <td>105420.0</td>\n",
       "      <td>2829.0</td>\n",
       "      <td>37.40</td>\n",
       "      <td>6.7400</td>\n",
       "      <td>37.45</td>\n",
       "      <td>37.00</td>\n",
       "      <td>37.05</td>\n",
       "      <td>0.35</td>\n",
       "      <td>0.94</td>\n",
       "    </tr>\n",
       "    <tr>\n",
       "      <th>543</th>\n",
       "      <td>6823</td>\n",
       "      <td>316.985982</td>\n",
       "      <td>139724.0</td>\n",
       "      <td>3855.0</td>\n",
       "      <td>36.05</td>\n",
       "      <td>26.9000</td>\n",
       "      <td>36.85</td>\n",
       "      <td>35.80</td>\n",
       "      <td>36.85</td>\n",
       "      <td>-0.60</td>\n",
       "      <td>...</td>\n",
       "      <td>-6.31</td>\n",
       "      <td>116971.0</td>\n",
       "      <td>3145.0</td>\n",
       "      <td>37.15</td>\n",
       "      <td>6.6900</td>\n",
       "      <td>37.70</td>\n",
       "      <td>36.85</td>\n",
       "      <td>37.65</td>\n",
       "      <td>-0.25</td>\n",
       "      <td>-0.67</td>\n",
       "    </tr>\n",
       "    <tr>\n",
       "      <th>...</th>\n",
       "      <td>...</td>\n",
       "      <td>...</td>\n",
       "      <td>...</td>\n",
       "      <td>...</td>\n",
       "      <td>...</td>\n",
       "      <td>...</td>\n",
       "      <td>...</td>\n",
       "      <td>...</td>\n",
       "      <td>...</td>\n",
       "      <td>...</td>\n",
       "      <td>...</td>\n",
       "      <td>...</td>\n",
       "      <td>...</td>\n",
       "      <td>...</td>\n",
       "      <td>...</td>\n",
       "      <td>...</td>\n",
       "      <td>...</td>\n",
       "      <td>...</td>\n",
       "      <td>...</td>\n",
       "      <td>...</td>\n",
       "      <td>...</td>\n",
       "    </tr>\n",
       "    <tr>\n",
       "      <th>164</th>\n",
       "      <td>7840</td>\n",
       "      <td>384.052701</td>\n",
       "      <td>802204.0</td>\n",
       "      <td>18027.0</td>\n",
       "      <td>44.30</td>\n",
       "      <td>10.5981</td>\n",
       "      <td>44.80</td>\n",
       "      <td>44.30</td>\n",
       "      <td>44.80</td>\n",
       "      <td>-0.50</td>\n",
       "      <td>...</td>\n",
       "      <td>-0.81</td>\n",
       "      <td>40804.0</td>\n",
       "      <td>985.0</td>\n",
       "      <td>41.75</td>\n",
       "      <td>4.4180</td>\n",
       "      <td>41.75</td>\n",
       "      <td>41.10</td>\n",
       "      <td>41.15</td>\n",
       "      <td>0.70</td>\n",
       "      <td>1.71</td>\n",
       "    </tr>\n",
       "    <tr>\n",
       "      <th>668</th>\n",
       "      <td>7841</td>\n",
       "      <td>383.186772</td>\n",
       "      <td>474603.0</td>\n",
       "      <td>10694.0</td>\n",
       "      <td>44.65</td>\n",
       "      <td>10.6818</td>\n",
       "      <td>44.65</td>\n",
       "      <td>44.15</td>\n",
       "      <td>44.20</td>\n",
       "      <td>0.35</td>\n",
       "      <td>...</td>\n",
       "      <td>0.00</td>\n",
       "      <td>46111.0</td>\n",
       "      <td>1103.0</td>\n",
       "      <td>41.90</td>\n",
       "      <td>4.4339</td>\n",
       "      <td>42.10</td>\n",
       "      <td>41.50</td>\n",
       "      <td>41.80</td>\n",
       "      <td>0.15</td>\n",
       "      <td>0.36</td>\n",
       "    </tr>\n",
       "    <tr>\n",
       "      <th>617</th>\n",
       "      <td>7844</td>\n",
       "      <td>380.882266</td>\n",
       "      <td>610673.0</td>\n",
       "      <td>13588.0</td>\n",
       "      <td>44.85</td>\n",
       "      <td>10.7297</td>\n",
       "      <td>45.10</td>\n",
       "      <td>44.75</td>\n",
       "      <td>44.85</td>\n",
       "      <td>0.20</td>\n",
       "      <td>...</td>\n",
       "      <td>2.46</td>\n",
       "      <td>31829.0</td>\n",
       "      <td>760.0</td>\n",
       "      <td>42.00</td>\n",
       "      <td>4.4444</td>\n",
       "      <td>42.05</td>\n",
       "      <td>41.75</td>\n",
       "      <td>41.90</td>\n",
       "      <td>0.10</td>\n",
       "      <td>0.24</td>\n",
       "    </tr>\n",
       "    <tr>\n",
       "      <th>521</th>\n",
       "      <td>7845</td>\n",
       "      <td>378.297760</td>\n",
       "      <td>405662.0</td>\n",
       "      <td>9051.0</td>\n",
       "      <td>44.80</td>\n",
       "      <td>10.7177</td>\n",
       "      <td>44.95</td>\n",
       "      <td>44.60</td>\n",
       "      <td>44.95</td>\n",
       "      <td>-0.05</td>\n",
       "      <td>...</td>\n",
       "      <td>-0.80</td>\n",
       "      <td>47432.0</td>\n",
       "      <td>1136.0</td>\n",
       "      <td>41.50</td>\n",
       "      <td>4.3915</td>\n",
       "      <td>42.10</td>\n",
       "      <td>41.45</td>\n",
       "      <td>42.00</td>\n",
       "      <td>-0.50</td>\n",
       "      <td>-1.19</td>\n",
       "    </tr>\n",
       "    <tr>\n",
       "      <th>319</th>\n",
       "      <td>7846</td>\n",
       "      <td>375.436100</td>\n",
       "      <td>619984.0</td>\n",
       "      <td>13854.0</td>\n",
       "      <td>44.70</td>\n",
       "      <td>10.6938</td>\n",
       "      <td>44.90</td>\n",
       "      <td>44.65</td>\n",
       "      <td>44.80</td>\n",
       "      <td>-0.10</td>\n",
       "      <td>...</td>\n",
       "      <td>-0.81</td>\n",
       "      <td>34984.0</td>\n",
       "      <td>844.0</td>\n",
       "      <td>41.45</td>\n",
       "      <td>4.3862</td>\n",
       "      <td>41.75</td>\n",
       "      <td>41.30</td>\n",
       "      <td>41.50</td>\n",
       "      <td>-0.05</td>\n",
       "      <td>-0.12</td>\n",
       "    </tr>\n",
       "  </tbody>\n",
       "</table>\n",
       "<p>529 rows × 92 columns</p>\n",
       "</div>"
      ],
      "text/plain": [
       "     date  0056_close_y  1101_Turnover  1101_Volume  1101_close  1101_eps  \\\n",
       "605  6815    319.623136        93134.0       2589.0       35.75   26.6800   \n",
       "569  6817    320.416337       147950.0       4092.0       36.40   27.1600   \n",
       "198  6818    319.358946        95754.0       2627.0       36.60   27.3100   \n",
       "531  6819    314.621555       145875.0       3990.0       36.65   27.3500   \n",
       "543  6823    316.985982       139724.0       3855.0       36.05   26.9000   \n",
       "..    ...           ...            ...          ...         ...       ...   \n",
       "164  7840    384.052701       802204.0      18027.0       44.30   10.5981   \n",
       "668  7841    383.186772       474603.0      10694.0       44.65   10.6818   \n",
       "617  7844    380.882266       610673.0      13588.0       44.85   10.7297   \n",
       "521  7845    378.297760       405662.0       9051.0       44.80   10.7177   \n",
       "319  7846    375.436100       619984.0      13854.0       44.70   10.6938   \n",
       "\n",
       "     1101_high  1101_low  1101_open  1101_ups_and_downs  ...  \\\n",
       "605      36.20     35.75      35.80                0.10  ...   \n",
       "569      36.40     35.60      35.60                0.45  ...   \n",
       "198      36.65     36.05      36.40                0.20  ...   \n",
       "531      36.70     36.35      36.60                0.05  ...   \n",
       "543      36.85     35.80      36.85               -0.60  ...   \n",
       "..         ...       ...        ...                 ...  ...   \n",
       "164      44.80     44.30      44.80               -0.50  ...   \n",
       "668      44.65     44.15      44.20                0.35  ...   \n",
       "617      45.10     44.75      44.85                0.20  ...   \n",
       "521      44.95     44.60      44.95               -0.05  ...   \n",
       "319      44.90     44.65      44.80               -0.10  ...   \n",
       "\n",
       "     6176_ups_percent  9945_Turnover  9945_Volume  9945_close  9945_eps  \\\n",
       "605              1.77       146528.0       3785.0       38.80    6.9900   \n",
       "569             -0.58       240982.0       6526.0       37.25    6.7100   \n",
       "198             -1.94        94300.0       2540.0       37.05    6.6800   \n",
       "531             -2.96       105420.0       2829.0       37.40    6.7400   \n",
       "543             -6.31       116971.0       3145.0       37.15    6.6900   \n",
       "..                ...            ...          ...         ...       ...   \n",
       "164             -0.81        40804.0        985.0       41.75    4.4180   \n",
       "668              0.00        46111.0       1103.0       41.90    4.4339   \n",
       "617              2.46        31829.0        760.0       42.00    4.4444   \n",
       "521             -0.80        47432.0       1136.0       41.50    4.3915   \n",
       "319             -0.81        34984.0        844.0       41.45    4.3862   \n",
       "\n",
       "     9945_high  9945_low  9945_open  9945_ups_and_downs  9945_ups_percent  \n",
       "605      39.00     38.20      38.25                0.65              1.70  \n",
       "569      37.30     36.70      36.80               -0.45             -1.19  \n",
       "198      37.50     37.00      37.35               -0.20             -0.54  \n",
       "531      37.45     37.00      37.05                0.35              0.94  \n",
       "543      37.70     36.85      37.65               -0.25             -0.67  \n",
       "..         ...       ...        ...                 ...               ...  \n",
       "164      41.75     41.10      41.15                0.70              1.71  \n",
       "668      42.10     41.50      41.80                0.15              0.36  \n",
       "617      42.05     41.75      41.90                0.10              0.24  \n",
       "521      42.10     41.45      42.00               -0.50             -1.19  \n",
       "319      41.75     41.30      41.50               -0.05             -0.12  \n",
       "\n",
       "[529 rows x 92 columns]"
      ]
     },
     "execution_count": 150,
     "metadata": {},
     "output_type": "execute_result"
    }
   ],
   "source": [
    "dts"
   ]
  },
  {
   "cell_type": "markdown",
   "metadata": {},
   "source": [
    "### 把訓練部分 (train_set) 分成訓練集和測試集，等一下要跑模型用"
   ]
  },
  {
   "cell_type": "code",
   "execution_count": 143,
   "metadata": {},
   "outputs": [],
   "source": [
    "from sklearn.model_selection import train_test_split"
   ]
  },
  {
   "cell_type": "code",
   "execution_count": 155,
   "metadata": {},
   "outputs": [],
   "source": [
    "from sklearn.metrics import r2_score\n",
    "from sklearn.metrics import mean_absolute_error\n",
    "from sklearn.metrics import mean_squared_error"
   ]
  },
  {
   "cell_type": "code",
   "execution_count": 152,
   "metadata": {},
   "outputs": [
    {
     "name": "stdout",
     "output_type": "stream",
     "text": [
      "(354, 91)\n",
      "(175, 91)\n",
      "(354,)\n",
      "(175,)\n"
     ]
    }
   ],
   "source": [
    "X = dts.drop('0056_close_y', axis = 1)\n",
    "Y = dts['0056_close_y']\n",
    "X_train, X_test, Y_train, Y_test = train_test_split(X, Y, test_size = 0.33, random_state = 5)\n",
    "print(X_train.shape)\n",
    "print(X_test.shape)\n",
    "print(Y_train.shape)\n",
    "print(Y_test.shape)"
   ]
  },
  {
   "cell_type": "markdown",
   "metadata": {},
   "source": [
    "### 線性回歸模型"
   ]
  },
  {
   "cell_type": "code",
   "execution_count": 233,
   "metadata": {},
   "outputs": [
    {
     "data": {
      "text/plain": [
       "Text(0.5, 1.0, 'mse of lm = 200.2446931435705, r2=0.79935807618298')"
      ]
     },
     "execution_count": 233,
     "metadata": {},
     "output_type": "execute_result"
    },
    {
     "data": {
      "image/png": "[encoded data removed]",
      "text/plain": [
       "<Figure size 432x288 with 1 Axes>"
      ]
     },
     "metadata": {
      "needs_background": "light"
     },
     "output_type": "display_data"
    }
   ],
   "source": [
    "from sklearn.linear_model import LinearRegression\n",
    "model1 = LinearRegression()\n",
    "reg1 = model1.fit(X_train, Y_train)\n",
    "pred1 = model1.predict(X_test)\n",
    "\n",
    "plt.scatter(Y_test, pred1)\n",
    "plt.plot([200, 400], [200, 400], 'r')\n",
    "plt.title(f'mse of lm = {mean_squared_error(Y_test, pred1)}, r2={r2_score(Y_test, pred1)}')"
   ]
  },
  {
   "cell_type": "markdown",
   "metadata": {},
   "source": [
    "### 決策樹模型"
   ]
  },
  {
   "cell_type": "code",
   "execution_count": 157,
   "metadata": {},
   "outputs": [],
   "source": [
    "from sklearn.tree import DecisionTreeRegressor"
   ]
  },
  {
   "cell_type": "code",
   "execution_count": 175,
   "metadata": {
    "scrolled": true
   },
   "outputs": [
    {
     "data": {
      "text/plain": [
       "Text(0.5, 1.0, 'mse of decision tree = 103.21464130668373, r2=0.8965806090900561')"
      ]
     },
     "execution_count": 175,
     "metadata": {},
     "output_type": "execute_result"
    },
    {
     "data": {
      "image/png": "[encoded data removed]",
      "text/plain": [
       "<Figure size 432x288 with 1 Axes>"
      ]
     },
     "metadata": {
      "needs_background": "light"
     },
     "output_type": "display_data"
    }
   ],
   "source": [
    "model3 = DecisionTreeRegressor(max_depth=10)\n",
    "model3.fit(X_train, Y_train)\n",
    "pred3 = model3.predict(X_test)\n",
    "\n",
    "plt.scatter(Y_test, pred3)\n",
    "plt.plot([200, 400], [200, 400], 'r')\n",
    "plt.title(f'mse of decision tree = {mean_squared_error(Y_test, pred3)}, r2={r2_score(Y_test, pred3)}')"
   ]
  },
  {
   "cell_type": "markdown",
   "metadata": {},
   "source": [
    "### SVM模型"
   ]
  },
  {
   "cell_type": "code",
   "execution_count": 177,
   "metadata": {},
   "outputs": [],
   "source": [
    "from sklearn.svm import SVR"
   ]
  },
  {
   "cell_type": "code",
   "execution_count": 183,
   "metadata": {
    "scrolled": true
   },
   "outputs": [
    {
     "data": {
      "text/plain": [
       "Text(0.5, 1.0, 'mse of svm = 632.7356905004515, r2=0.3660091350402044')"
      ]
     },
     "execution_count": 183,
     "metadata": {},
     "output_type": "execute_result"
    },
    {
     "data": {
      "image/png": "[encoded data removed]",
      "text/plain": [
       "<Figure size 432x288 with 1 Axes>"
      ]
     },
     "metadata": {
      "needs_background": "light"
     },
     "output_type": "display_data"
    }
   ],
   "source": [
    "model4 = SVR(kernel='rbf', C=100)\n",
    "model4.fit(X_train, Y_train)\n",
    "pred4 = model4.predict(X_test)\n",
    "\n",
    "plt.scatter(Y_test, pred4)\n",
    "plt.plot([200, 400], [200, 400], 'r')\n",
    "plt.title(f'mse of svm = {mean_squared_error(Y_test, pred4)}, r2={r2_score(Y_test, pred4)}')"
   ]
  },
  {
   "cell_type": "markdown",
   "metadata": {},
   "source": [
    "### 隨機森林模型"
   ]
  },
  {
   "cell_type": "code",
   "execution_count": 184,
   "metadata": {},
   "outputs": [],
   "source": [
    "from sklearn.ensemble import RandomForestRegressor"
   ]
  },
  {
   "cell_type": "code",
   "execution_count": 186,
   "metadata": {},
   "outputs": [
    {
     "data": {
      "text/plain": [
       "Text(0.5, 1.0, 'mse of random forest = 59.62139070475869, r2=0.940260336771711')"
      ]
     },
     "execution_count": 186,
     "metadata": {},
     "output_type": "execute_result"
    },
    {
     "data": {
      "image/png": "[encoded data removed]",
      "text/plain": [
       "<Figure size 432x288 with 1 Axes>"
      ]
     },
     "metadata": {
      "needs_background": "light"
     },
     "output_type": "display_data"
    }
   ],
   "source": [
    "model5 = RandomForestRegressor(n_estimators=100)\n",
    "model5.fit(X_train, Y_train)\n",
    "pred5 = model5.predict(X_test)\n",
    "\n",
    "plt.scatter(Y_test, pred5)\n",
    "plt.plot([200, 400], [200, 400], 'r')\n",
    "plt.title(f'mse of random forest = {mean_squared_error(Y_test, pred5)}, r2={r2_score(Y_test, pred5)}')"
   ]
  },
  {
   "cell_type": "code",
   "execution_count": 187,
   "metadata": {},
   "outputs": [
    {
     "data": {
      "text/plain": [
       "<matplotlib.axes._subplots.AxesSubplot at 0x1947f451d68>"
      ]
     },
     "execution_count": 187,
     "metadata": {},
     "output_type": "execute_result"
    },
    {
     "data": {
      "image/png": "[encoded data removed]",
      "text/plain": [
       "<Figure size 432x288 with 1 Axes>"
      ]
     },
     "metadata": {
      "needs_background": "light"
     },
     "output_type": "display_data"
    }
   ],
   "source": [
    "feat_importances = pd.Series(model5.feature_importances_, index=X_train.columns)\n",
    "feat_importances.nlargest(10).plot(kind='bar')"
   ]
  },
  {
   "cell_type": "markdown",
   "metadata": {},
   "source": [
    "### 梯度提升模型"
   ]
  },
  {
   "cell_type": "code",
   "execution_count": 188,
   "metadata": {},
   "outputs": [],
   "source": [
    "from sklearn.ensemble import GradientBoostingRegressor"
   ]
  },
  {
   "cell_type": "code",
   "execution_count": 234,
   "metadata": {
    "scrolled": true
   },
   "outputs": [
    {
     "data": {
      "text/plain": [
       "Text(0.5, 1.0, 'mse of gradient boosting = 59.96508232691182, r2=0.9399159633594321')"
      ]
     },
     "execution_count": 234,
     "metadata": {},
     "output_type": "execute_result"
    },
    {
     "data": {
      "image/png": "[encoded data removed]",
      "text/plain": [
       "<Figure size 432x288 with 1 Axes>"
      ]
     },
     "metadata": {
      "needs_background": "light"
     },
     "output_type": "display_data"
    }
   ],
   "source": [
    "model6 = GradientBoostingRegressor(n_estimators=100)\n",
    "model6.fit(X_train, Y_train)\n",
    "pred6 = model6.predict(X_test)\n",
    "\n",
    "plt.scatter(Y_test, pred6)\n",
    "plt.plot([200, 400], [200, 400], 'r')\n",
    "plt.title(f'mse of gradient boosting = {mean_squared_error(Y_test, pred6)}, r2={r2_score(Y_test, pred6)}')"
   ]
  },
  {
   "cell_type": "markdown",
   "metadata": {},
   "source": [
    "### 把test_set裡面的0056_close_y丟掉，因為本來就是空的，等一下要用F_test來考試"
   ]
  },
  {
   "cell_type": "code",
   "execution_count": 232,
   "metadata": {},
   "outputs": [],
   "source": [
    "F_test = test_set.drop('0056_close_y', axis = 1)"
   ]
  },
  {
   "cell_type": "markdown",
   "metadata": {},
   "source": [
    "### 因為梯度提升模型看起來效果不錯，所以用此模型來考試\n",
    "    因為F_test裡面有缺失值，會沒辦法考試，所以暫時先用平均值補起來 \n",
    "    F_pred就是我們的預測結果"
   ]
  },
  {
   "cell_type": "code",
   "execution_count": 229,
   "metadata": {},
   "outputs": [],
   "source": [
    "F_pred = model6.predict(F_test.fillna(np.mean(F_test)))"
   ]
  },
  {
   "cell_type": "markdown",
   "metadata": {},
   "source": [
    "### 把預測結果輸出成 result.csv，並上傳到 kaggle"
   ]
  },
  {
   "cell_type": "code",
   "execution_count": 230,
   "metadata": {},
   "outputs": [],
   "source": [
    "F_pred = pd.DataFrame(F_pred)\n",
    "F_pred.columns = [\"prediction\"]\n",
    "F_pred.index = F_test.index\n",
    "output=pd.DataFrame(data={\"date\":F_test[\"date\"],\"0056_close_y\":F_pred[\"prediction\"]})\n",
    "output.to_csv(path_or_buf=\"results.csv\",index=False,quoting=3,sep=',')"
   ]
  },
  {
   "cell_type": "markdown",
   "metadata": {},
   "source": [
    "### 觀察 result.csv的結果"
   ]
  },
  {
   "cell_type": "code",
   "execution_count": 231,
   "metadata": {},
   "outputs": [
    {
     "data": {
      "text/html": [
       "<div>\n",
       "<style scoped>\n",
       "    .dataframe tbody tr th:only-of-type {\n",
       "        vertical-align: middle;\n",
       "    }\n",
       "\n",
       "    .dataframe tbody tr th {\n",
       "        vertical-align: top;\n",
       "    }\n",
       "\n",
       "    .dataframe thead th {\n",
       "        text-align: right;\n",
       "    }\n",
       "</style>\n",
       "<table border=\"1\" class=\"dataframe\">\n",
       "  <thead>\n",
       "    <tr style=\"text-align: right;\">\n",
       "      <th></th>\n",
       "      <th>date</th>\n",
       "      <th>0056_close_y</th>\n",
       "    </tr>\n",
       "  </thead>\n",
       "  <tbody>\n",
       "    <tr>\n",
       "      <th>4</th>\n",
       "      <td>8041</td>\n",
       "      <td>368.244734</td>\n",
       "    </tr>\n",
       "    <tr>\n",
       "      <th>12</th>\n",
       "      <td>7852</td>\n",
       "      <td>343.837282</td>\n",
       "    </tr>\n",
       "    <tr>\n",
       "      <th>17</th>\n",
       "      <td>8051</td>\n",
       "      <td>370.062312</td>\n",
       "    </tr>\n",
       "    <tr>\n",
       "      <th>20</th>\n",
       "      <td>8014</td>\n",
       "      <td>372.781999</td>\n",
       "    </tr>\n",
       "    <tr>\n",
       "      <th>23</th>\n",
       "      <td>8075</td>\n",
       "      <td>333.373230</td>\n",
       "    </tr>\n",
       "    <tr>\n",
       "      <th>...</th>\n",
       "      <td>...</td>\n",
       "      <td>...</td>\n",
       "    </tr>\n",
       "    <tr>\n",
       "      <th>823</th>\n",
       "      <td>8082</td>\n",
       "      <td>304.903094</td>\n",
       "    </tr>\n",
       "    <tr>\n",
       "      <th>829</th>\n",
       "      <td>7896</td>\n",
       "      <td>348.378870</td>\n",
       "    </tr>\n",
       "    <tr>\n",
       "      <th>837</th>\n",
       "      <td>7965</td>\n",
       "      <td>369.920674</td>\n",
       "    </tr>\n",
       "    <tr>\n",
       "      <th>841</th>\n",
       "      <td>7876</td>\n",
       "      <td>340.308916</td>\n",
       "    </tr>\n",
       "    <tr>\n",
       "      <th>844</th>\n",
       "      <td>7889</td>\n",
       "      <td>347.784757</td>\n",
       "    </tr>\n",
       "  </tbody>\n",
       "</table>\n",
       "<p>157 rows × 2 columns</p>\n",
       "</div>"
      ],
      "text/plain": [
       "     date  0056_close_y\n",
       "4    8041    368.244734\n",
       "12   7852    343.837282\n",
       "17   8051    370.062312\n",
       "20   8014    372.781999\n",
       "23   8075    333.373230\n",
       "..    ...           ...\n",
       "823  8082    304.903094\n",
       "829  7896    348.378870\n",
       "837  7965    369.920674\n",
       "841  7876    340.308916\n",
       "844  7889    347.784757\n",
       "\n",
       "[157 rows x 2 columns]"
      ]
     },
     "execution_count": 231,
     "metadata": {},
     "output_type": "execute_result"
    }
   ],
   "source": [
    "output"
   ]
  },
  {
   "cell_type": "code",
   "execution_count": null,
   "metadata": {},
   "outputs": [],
   "source": []
  }
 ],
 "metadata": {
  "kernelspec": {
   "display_name": "Python 3",
   "language": "python",
   "name": "python3"
  },
  "language_info": {
   "codemirror_mode": {
    "name": "ipython",
    "version": 3
   },
   "file_extension": ".py",
   "mimetype": "text/x-python",
   "name": "python",
   "nbconvert_exporter": "python",
   "pygments_lexer": "ipython3",
   "version": "3.6.10"
  }
 },
 "nbformat": 4,
 "nbformat_minor": 4
}
