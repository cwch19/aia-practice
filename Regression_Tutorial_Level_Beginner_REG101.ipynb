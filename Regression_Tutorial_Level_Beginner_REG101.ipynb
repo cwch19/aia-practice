{
  "nbformat": 4,
  "nbformat_minor": 0,
  "metadata": {
    "colab": {
      "name": "Regression Tutorial Level Beginner - REG101.ipynb",
      "provenance": [],
      "collapsed_sections": [
        "wwUzzm1YzZpz",
        "DxnJV14BzZqq",
        "xBqHzabEzZrT",
        "ZzpBazV1zZrx",
        "wxKHHQcbzZr5",
        "T-dvDHxCzZsU",
        "j8DvIuOrzZsm",
        "8RZB8YllzZs7",
        "5uUSmZLGzZtB",
        "3kvdvfdUzZtj",
        "Ovz73MkgzZtx",
        "HR-mHgtCzZuE",
        "HJCYRQj9zZuU",
        "rM9dWgfVzZuh",
        "dWu_EtTGzZuu",
        "CxKARgKAzZvJ",
        "J0PmhEQFzZvr",
        "CgKSkSsZzZwv",
        "os2dbiIrzZxJ",
        "9LsyznpCzZxb",
        "uE3tuIUHzZyL"
      ],
      "include_colab_link": true
    },
    "kernelspec": {
      "display_name": "Python 3",
      "language": "python",
      "name": "python3"
    },
    "language_info": {
      "codemirror_mode": {
        "name": "ipython",
        "version": 3
      },
      "file_extension": ".py",
      "mimetype": "text/x-python",
      "name": "python",
      "nbconvert_exporter": "python",
      "pygments_lexer": "ipython3",
      "version": "3.7.4"
    },
    "widgets": {
      "application/vnd.jupyter.widget-state+json": {
        "3166ea061bd84e7f9cf798924b2ad226": {
          "model_module": "@jupyter-widgets/controls",
          "model_name": "VBoxModel",
          "state": {
            "_view_name": "VBoxView",
            "_dom_classes": [
              "widget-interact"
            ],
            "_model_name": "VBoxModel",
            "_view_module": "@jupyter-widgets/controls",
            "_model_module_version": "1.5.0",
            "_view_count": null,
            "_view_module_version": "1.5.0",
            "box_style": "",
            "layout": "IPY_MODEL_ef66e01aaee04bb7a4804c5a7c353d35",
            "_model_module": "@jupyter-widgets/controls",
            "children": [
              "IPY_MODEL_972f045b48654b53ae641ea68fd1a628",
              "IPY_MODEL_fd5b73da32254b27a98d891557ea9632"
            ]
          },
          "model_module_version": "1.5.0"
        },
        "ef66e01aaee04bb7a4804c5a7c353d35": {
          "model_module": "@jupyter-widgets/base",
          "model_name": "LayoutModel",
          "state": {
            "_view_name": "LayoutView",
            "grid_template_rows": null,
            "right": null,
            "justify_content": null,
            "_view_module": "@jupyter-widgets/base",
            "overflow": null,
            "_model_module_version": "1.2.0",
            "_view_count": null,
            "flex_flow": null,
            "width": null,
            "min_width": null,
            "border": null,
            "align_items": null,
            "bottom": null,
            "_model_module": "@jupyter-widgets/base",
            "top": null,
            "grid_column": null,
            "overflow_y": null,
            "overflow_x": null,
            "grid_auto_flow": null,
            "grid_area": null,
            "grid_template_columns": null,
            "flex": null,
            "_model_name": "LayoutModel",
            "justify_items": null,
            "grid_row": null,
            "max_height": null,
            "align_content": null,
            "visibility": null,
            "align_self": null,
            "height": null,
            "min_height": null,
            "padding": null,
            "grid_auto_rows": null,
            "grid_gap": null,
            "max_width": null,
            "order": null,
            "_view_module_version": "1.2.0",
            "grid_template_areas": null,
            "object_position": null,
            "object_fit": null,
            "grid_auto_columns": null,
            "margin": null,
            "display": null,
            "left": null
          },
          "model_module_version": "1.2.0"
        },
        "972f045b48654b53ae641ea68fd1a628": {
          "model_module": "@jupyter-widgets/controls",
          "model_name": "ToggleButtonsModel",
          "state": {
            "_options_labels": [
              "Hyperparameters",
              "Residuals Plot",
              "Prediction Error Plot",
              "Cooks Distance Plot",
              "Recursive Feature Selection",
              "Learning Curve",
              "Validation Curve",
              "Manifold Learning",
              "Feature Importance"
            ],
            "_view_name": "ToggleButtonsView",
            "style": "IPY_MODEL_f2d3d754cc2a4cac81e64583ff214999",
            "_dom_classes": [],
            "description": "Plot Type:",
            "_model_name": "ToggleButtonsModel",
            "tooltips": [],
            "index": 0,
            "button_style": "",
            "_view_module": "@jupyter-widgets/controls",
            "_model_module_version": "1.5.0",
            "_view_count": null,
            "disabled": false,
            "_view_module_version": "1.5.0",
            "icons": [
              ""
            ],
            "description_tooltip": null,
            "_model_module": "@jupyter-widgets/controls",
            "layout": "IPY_MODEL_4401650760f541888d123201c172533b"
          },
          "model_module_version": "1.5.0"
        },
        "fd5b73da32254b27a98d891557ea9632": {
          "model_module": "@jupyter-widgets/output",
          "model_name": "OutputModel",
          "state": {
            "_view_name": "OutputView",
            "msg_id": "",
            "_dom_classes": [],
            "_model_name": "OutputModel",
            "outputs": [
              {
                "output_type": "display_data",
                "metadata": {
                  "tags": []
                },
                "text/html": "<div>\n<style scoped>\n    .dataframe tbody tr th:only-of-type {\n        vertical-align: middle;\n    }\n\n    .dataframe tbody tr th {\n        vertical-align: top;\n    }\n\n    .dataframe thead th {\n        text-align: right;\n    }\n</style>\n<table border=\"1\" class=\"dataframe\">\n  <thead>\n    <tr style=\"text-align: right;\">\n      <th></th>\n      <th>Parameters</th>\n    </tr>\n  </thead>\n  <tbody>\n    <tr>\n      <th>boosting_type</th>\n      <td>gbdt</td>\n    </tr>\n    <tr>\n      <th>class_weight</th>\n      <td>None</td>\n    </tr>\n    <tr>\n      <th>colsample_bytree</th>\n      <td>1</td>\n    </tr>\n    <tr>\n      <th>importance_type</th>\n      <td>split</td>\n    </tr>\n    <tr>\n      <th>learning_rate</th>\n      <td>0.4</td>\n    </tr>\n    <tr>\n      <th>max_depth</th>\n      <td>10</td>\n    </tr>\n    <tr>\n      <th>min_child_samples</th>\n      <td>20</td>\n    </tr>\n    <tr>\n      <th>min_child_weight</th>\n      <td>0.001</td>\n    </tr>\n    <tr>\n      <th>min_split_gain</th>\n      <td>0.9</td>\n    </tr>\n    <tr>\n      <th>n_estimators</th>\n      <td>90</td>\n    </tr>\n    <tr>\n      <th>n_jobs</th>\n      <td>-1</td>\n    </tr>\n    <tr>\n      <th>num_leaves</th>\n      <td>10</td>\n    </tr>\n    <tr>\n      <th>objective</th>\n      <td>None</td>\n    </tr>\n    <tr>\n      <th>random_state</th>\n      <td>123</td>\n    </tr>\n    <tr>\n      <th>reg_alpha</th>\n      <td>0.9</td>\n    </tr>\n    <tr>\n      <th>reg_lambda</th>\n      <td>0.2</td>\n    </tr>\n    <tr>\n      <th>silent</th>\n      <td>True</td>\n    </tr>\n    <tr>\n      <th>subsample</th>\n      <td>1</td>\n    </tr>\n    <tr>\n      <th>subsample_for_bin</th>\n      <td>200000</td>\n    </tr>\n    <tr>\n      <th>subsample_freq</th>\n      <td>0</td>\n    </tr>\n  </tbody>\n</table>\n</div>",
                "text/plain": "                  Parameters\nboosting_type           gbdt\nclass_weight            None\ncolsample_bytree           1\nimportance_type        split\nlearning_rate            0.4\nmax_depth                 10\nmin_child_samples         20\nmin_child_weight       0.001\nmin_split_gain           0.9\nn_estimators              90\nn_jobs                    -1\nnum_leaves                10\nobjective               None\nrandom_state             123\nreg_alpha                0.9\nreg_lambda               0.2\nsilent                  True\nsubsample                  1\nsubsample_for_bin     200000\nsubsample_freq             0"
              }
            ],
            "_view_module": "@jupyter-widgets/output",
            "_model_module_version": "1.0.0",
            "_view_count": null,
            "_view_module_version": "1.0.0",
            "layout": "IPY_MODEL_8bc61814cf164fd49d1a5a9964ec4d57",
            "_model_module": "@jupyter-widgets/output"
          },
          "model_module_version": "1.0.0"
        },
        "f2d3d754cc2a4cac81e64583ff214999": {
          "model_module": "@jupyter-widgets/controls",
          "model_name": "ToggleButtonsStyleModel",
          "state": {
            "_view_name": "StyleView",
            "button_width": "",
            "_model_name": "ToggleButtonsStyleModel",
            "description_width": "",
            "_view_module": "@jupyter-widgets/base",
            "_model_module_version": "1.5.0",
            "_view_count": null,
            "font_weight": "",
            "_view_module_version": "1.2.0",
            "_model_module": "@jupyter-widgets/controls"
          },
          "model_module_version": "1.5.0"
        },
        "4401650760f541888d123201c172533b": {
          "model_module": "@jupyter-widgets/base",
          "model_name": "LayoutModel",
          "state": {
            "_view_name": "LayoutView",
            "grid_template_rows": null,
            "right": null,
            "justify_content": null,
            "_view_module": "@jupyter-widgets/base",
            "overflow": null,
            "_model_module_version": "1.2.0",
            "_view_count": null,
            "flex_flow": null,
            "width": null,
            "min_width": null,
            "border": null,
            "align_items": null,
            "bottom": null,
            "_model_module": "@jupyter-widgets/base",
            "top": null,
            "grid_column": null,
            "overflow_y": null,
            "overflow_x": null,
            "grid_auto_flow": null,
            "grid_area": null,
            "grid_template_columns": null,
            "flex": null,
            "_model_name": "LayoutModel",
            "justify_items": null,
            "grid_row": null,
            "max_height": null,
            "align_content": null,
            "visibility": null,
            "align_self": null,
            "height": null,
            "min_height": null,
            "padding": null,
            "grid_auto_rows": null,
            "grid_gap": null,
            "max_width": null,
            "order": null,
            "_view_module_version": "1.2.0",
            "grid_template_areas": null,
            "object_position": null,
            "object_fit": null,
            "grid_auto_columns": null,
            "margin": null,
            "display": null,
            "left": null
          },
          "model_module_version": "1.2.0"
        },
        "82bff948c67f44718348fedf46d5e0a2": {
          "model_module": "@jupyter-widgets/controls",
          "model_name": "IntProgressModel",
          "state": {
            "_view_name": "ProgressView",
            "style": "IPY_MODEL_a3c8715dbf5a43039fc7c1bb8759bffd",
            "_dom_classes": [],
            "description": "Processing: ",
            "_model_name": "IntProgressModel",
            "bar_style": "",
            "max": 5,
            "_view_module": "@jupyter-widgets/controls",
            "_model_module_version": "1.5.0",
            "value": 1,
            "_view_count": null,
            "_view_module_version": "1.5.0",
            "orientation": "horizontal",
            "min": 0,
            "description_tooltip": null,
            "_model_module": "@jupyter-widgets/controls",
            "layout": "IPY_MODEL_eedad0df55ee44f5bf013b09a68aacf9"
          },
          "model_module_version": "1.5.0"
        },
        "a3c8715dbf5a43039fc7c1bb8759bffd": {
          "model_module": "@jupyter-widgets/controls",
          "model_name": "ProgressStyleModel",
          "state": {
            "_view_name": "StyleView",
            "_model_name": "ProgressStyleModel",
            "description_width": "",
            "_view_module": "@jupyter-widgets/base",
            "_model_module_version": "1.5.0",
            "_view_count": null,
            "_view_module_version": "1.2.0",
            "bar_color": null,
            "_model_module": "@jupyter-widgets/controls"
          },
          "model_module_version": "1.5.0"
        },
        "eedad0df55ee44f5bf013b09a68aacf9": {
          "model_module": "@jupyter-widgets/base",
          "model_name": "LayoutModel",
          "state": {
            "_view_name": "LayoutView",
            "grid_template_rows": null,
            "right": null,
            "justify_content": null,
            "_view_module": "@jupyter-widgets/base",
            "overflow": null,
            "_model_module_version": "1.2.0",
            "_view_count": null,
            "flex_flow": null,
            "width": null,
            "min_width": null,
            "border": null,
            "align_items": null,
            "bottom": null,
            "_model_module": "@jupyter-widgets/base",
            "top": null,
            "grid_column": null,
            "overflow_y": null,
            "overflow_x": null,
            "grid_auto_flow": null,
            "grid_area": null,
            "grid_template_columns": null,
            "flex": null,
            "_model_name": "LayoutModel",
            "justify_items": null,
            "grid_row": null,
            "max_height": null,
            "align_content": null,
            "visibility": null,
            "align_self": null,
            "height": null,
            "min_height": null,
            "padding": null,
            "grid_auto_rows": null,
            "grid_gap": null,
            "max_width": null,
            "order": null,
            "_view_module_version": "1.2.0",
            "grid_template_areas": null,
            "object_position": null,
            "object_fit": null,
            "grid_auto_columns": null,
            "margin": null,
            "display": null,
            "left": null
          },
          "model_module_version": "1.2.0"
        }
      }
    }
  },
  "cells": [
    {
      "cell_type": "markdown",
      "metadata": {
        "id": "view-in-github",
        "colab_type": "text"
      },
      "source": [
        "<a href=\"https://colab.research.google.com/github/cwch19/aia-practice/blob/master/Regression_Tutorial_Level_Beginner_REG101.ipynb\" target=\"_parent\"><img src=\"https://colab.research.google.com/assets/colab-badge.svg\" alt=\"Open In Colab\"/></a>"
      ]
    },
    {
      "cell_type": "markdown",
      "metadata": {
        "id": "SAd865lNzZpT"
      },
      "source": [
        "#  <span style=\"color:orange\">Regression Tutorial (REG101) - Level Beginner</span>"
      ]
    },
    {
      "cell_type": "markdown",
      "metadata": {
        "id": "yXN8UznszZpc"
      },
      "source": [
        "**Date Updated: Feb 25, 2020**\n",
        "\n",
        "# 1.0  Tutorial Objective\n",
        "Welcome to Regression Tutorial (REG101) - Level Beginner. This tutorial assumes that you are new to PyCaret and looking to get started with Regression using the `pycaret.regression` Module.\n",
        "\n",
        "In this tutorial we will learn:\n",
        "\n",
        "\n",
        "* **Getting Data:**  How to import data from PyCaret repository\n",
        "* **Setting up Environment:**  How to setup an experiment in PyCaret and get started with building regression models\n",
        "* **Create Model:**  How to create a model, perform cross validation and evaluate regression metrics\n",
        "* **Tune Model:**  How to automatically tune the hyper-parameters of a regression model\n",
        "* **Plot Model:**  How to analyze model performance using various plots\n",
        "* **Finalize Model:** How to finalize the best model at the end of the experiment\n",
        "* **Predict Model:**  How to make prediction on new / unseen data\n",
        "* **Save / Load Model:**  How to save / load a model for future use\n",
        "\n",
        "Read Time : Approx. 30 Minutes\n",
        "\n",
        "\n",
        "## 1.1 Installing PyCaret\n",
        "The first step to get started with PyCaret is to install pycaret. Installation is easy and will only take a few minutes. Follow the instructions below:\n",
        "\n",
        "#### Installing PyCaret in Local Jupyter Notebook\n",
        "`pip install pycaret`  <br />\n",
        "\n",
        "#### Installing PyCaret on Google Colab or Azure Notebooks\n",
        "`!pip install pycaret`\n",
        "\n",
        "\n",
        "## 1.2 Pre-Requisites\n",
        "- Python 3.x\n",
        "- Latest version of pycaret\n",
        "- Internet connection to load data from pycaret's repository\n",
        "- Basic Knowledge of Regression\n",
        "\n",
        "## 1.3 For Google colab users:\n",
        "If you are running this notebook on Google colab, run the following code at top of your notebook to display interactive visuals.<br/>\n",
        "<br/>\n",
        "`from pycaret.utils import enable_colab` <br/>\n",
        "`enable_colab()`\n",
        "\n",
        "## 1.4 See also:\n",
        "- __[Regression Tutorial (REG102) - Level Intermediate](https://github.com/pycaret/pycaret/blob/master/Tutorials/Regression%20Tutorial%20Level%20Intermediate%20-%20REG102.ipynb)__\n",
        "- __[Regression Tutorial (REG103) - Level Expert](https://github.com/pycaret/pycaret/blob/master/Tutorials/Regression%20Tutorial%20Level%20Expert%20-%20REG103.ipynb)__"
      ]
    },
    {
      "cell_type": "markdown",
      "metadata": {
        "id": "HuEUiXXhzZpi"
      },
      "source": [
        "# 2.0 What is Regression?\n",
        "\n",
        "Regression analysis is a set of statistical processes for estimating the relationships between a dependent variable (often called the 'outcome variable', or 'target') and one or more independent variables (often called 'features', 'predictors', or 'covariates'). The objective of regression in machine learning is to predict continuous values such as sales amount, quantity, temperature etc.\n",
        "\n",
        "__[Learn More about Regression](https://hbr.org/2015/11/a-refresher-on-regression-analysis)__"
      ]
    },
    {
      "cell_type": "markdown",
      "metadata": {
        "id": "xnEk7n5ZzZpm"
      },
      "source": [
        "# 3.0 Overview of the Regression Module in PyCaret\n",
        "PyCaret's Regression module (`pycaret.regression`) is a supervised machine learning module which is used for predicting continuous values / outcomes using various techniques and algorithms. Regression can be used for predicting values / outcomes such as sales, units sold, temperature or any number which is continuous.\n",
        "\n",
        "PyCaret's regression module has over 25 algorithms and 10 plots to analyze the performance of models. Be it hyper-parameter tuning, ensembling or advanced techniques like stacking, PyCaret's regression module has it all."
      ]
    },
    {
      "cell_type": "markdown",
      "metadata": {
        "id": "uN95Uqo6zZpq"
      },
      "source": [
        "# 4.0 Dataset for the Tutorial"
      ]
    },
    {
      "cell_type": "markdown",
      "metadata": {
        "id": "Guj8GFIJzZpu"
      },
      "source": [
        "For this tutorial we will use a dataset based on a case study called **\"Sarah Gets a Diamond\"**. This case was presented in the first year decision analysis course at Darden School of Business (University of Virginia). The basis for the data is a case regarding a hopeless romantic MBA student choosing the right diamond for his bride-to-be, Sarah. The data contains 6000 records for training. Short descriptions of each column are as follows:\n",
        "\n",
        "- **ID:** Uniquely identifies each observation (diamond)\n",
        "- **Carat Weight:** The weight of the diamond in metric carats. One carat is equal to 0.2 grams, roughly the same weight as a paperclip\n",
        "- **Cut:** One of five values indicating the cut of the diamond in the following order of desirability (Signature-Ideal, Ideal, Very Good, Good, Fair)\n",
        "- **Color:** One of six values indicating the diamond's color in the following order of desirability (D, E, F - Colorless, G, H, I - Near colorless)\n",
        "- **Clarity:** One of seven values indicating the diamond's clarity in the following order of desirability (F - Flawless, IF - Internally Flawless, VVS1 or VVS2 - Very, Very Slightly Included, or VS1 or VS2 - Very Slightly Included, SI1 - Slightly Included)\n",
        "- **Polish:** One of four values indicating the diamond's polish (ID - Ideal, EX - Excellent, VG - Very Good, G - Good)\n",
        "- **Symmetry:** One of four values indicating the diamond's symmetry (ID - Ideal, EX - Excellent, VG - Very Good, G - Good)\n",
        "- **Report:** One of of two values \"AGSL\" or \"GIA\" indicating which grading agency reported the qualities of the diamond qualities\n",
        "- **Price:** The amount in USD that the diamond is valued `Target Column`\n",
        "\n",
        "\n",
        "#### Dataset Acknowledgement:\n",
        "This case was prepared by Greg Mills (MBA ’07) under the supervision of Phillip E. Pfeifer, Alumni Research Professor of Business Administration. Copyright (c) 2007 by the University of Virginia Darden School Foundation, Charlottesville, VA. All rights reserved.\n",
        "\n",
        "The original dataset and description can be __[found here.](https://github.com/DardenDSC/sarah-gets-a-diamond)__ "
      ]
    },
    {
      "cell_type": "markdown",
      "metadata": {
        "id": "wwUzzm1YzZpz"
      },
      "source": [
        "# 5.0 Getting the Data"
      ]
    },
    {
      "cell_type": "markdown",
      "metadata": {
        "id": "PFCSZ_NKzZp3"
      },
      "source": [
        "You can download the data from the original source __[found here](https://github.com/DardenDSC/sarah-gets-a-diamond)__ and load it using pandas __[(Learn How)](https://pandas.pydata.org/pandas-docs/stable/reference/api/pandas.read_csv.html)__ or you can use PyCaret's data respository to load the data using the `get_data()` function (This will require internet connection)."
      ]
    },
    {
      "cell_type": "code",
      "metadata": {
        "id": "H6qS5U--zZp7",
        "outputId": "0387adb8-ba5f-4abe-930a-5ff0786e7314",
        "colab": {
          "base_uri": "https://localhost:8080/",
          "height": 195
        }
      },
      "source": [
        "from pycaret.datasets import get_data\n",
        "dataset = get_data('diamond')"
      ],
      "execution_count": null,
      "outputs": [
        {
          "output_type": "display_data",
          "data": {
            "text/html": [
              "<div>\n",
              "<style scoped>\n",
              "    .dataframe tbody tr th:only-of-type {\n",
              "        vertical-align: middle;\n",
              "    }\n",
              "\n",
              "    .dataframe tbody tr th {\n",
              "        vertical-align: top;\n",
              "    }\n",
              "\n",
              "    .dataframe thead th {\n",
              "        text-align: right;\n",
              "    }\n",
              "</style>\n",
              "<table border=\"1\" class=\"dataframe\">\n",
              "  <thead>\n",
              "    <tr style=\"text-align: right;\">\n",
              "      <th></th>\n",
              "      <th>Carat Weight</th>\n",
              "      <th>Cut</th>\n",
              "      <th>Color</th>\n",
              "      <th>Clarity</th>\n",
              "      <th>Polish</th>\n",
              "      <th>Symmetry</th>\n",
              "      <th>Report</th>\n",
              "      <th>Price</th>\n",
              "    </tr>\n",
              "  </thead>\n",
              "  <tbody>\n",
              "    <tr>\n",
              "      <th>0</th>\n",
              "      <td>1.10</td>\n",
              "      <td>Ideal</td>\n",
              "      <td>H</td>\n",
              "      <td>SI1</td>\n",
              "      <td>VG</td>\n",
              "      <td>EX</td>\n",
              "      <td>GIA</td>\n",
              "      <td>5169</td>\n",
              "    </tr>\n",
              "    <tr>\n",
              "      <th>1</th>\n",
              "      <td>0.83</td>\n",
              "      <td>Ideal</td>\n",
              "      <td>H</td>\n",
              "      <td>VS1</td>\n",
              "      <td>ID</td>\n",
              "      <td>ID</td>\n",
              "      <td>AGSL</td>\n",
              "      <td>3470</td>\n",
              "    </tr>\n",
              "    <tr>\n",
              "      <th>2</th>\n",
              "      <td>0.85</td>\n",
              "      <td>Ideal</td>\n",
              "      <td>H</td>\n",
              "      <td>SI1</td>\n",
              "      <td>EX</td>\n",
              "      <td>EX</td>\n",
              "      <td>GIA</td>\n",
              "      <td>3183</td>\n",
              "    </tr>\n",
              "    <tr>\n",
              "      <th>3</th>\n",
              "      <td>0.91</td>\n",
              "      <td>Ideal</td>\n",
              "      <td>E</td>\n",
              "      <td>SI1</td>\n",
              "      <td>VG</td>\n",
              "      <td>VG</td>\n",
              "      <td>GIA</td>\n",
              "      <td>4370</td>\n",
              "    </tr>\n",
              "    <tr>\n",
              "      <th>4</th>\n",
              "      <td>0.83</td>\n",
              "      <td>Ideal</td>\n",
              "      <td>G</td>\n",
              "      <td>SI1</td>\n",
              "      <td>EX</td>\n",
              "      <td>EX</td>\n",
              "      <td>GIA</td>\n",
              "      <td>3171</td>\n",
              "    </tr>\n",
              "  </tbody>\n",
              "</table>\n",
              "</div>"
            ],
            "text/plain": [
              "   Carat Weight    Cut Color Clarity Polish Symmetry Report  Price\n",
              "0          1.10  Ideal     H     SI1     VG       EX    GIA   5169\n",
              "1          0.83  Ideal     H     VS1     ID       ID   AGSL   3470\n",
              "2          0.85  Ideal     H     SI1     EX       EX    GIA   3183\n",
              "3          0.91  Ideal     E     SI1     VG       VG    GIA   4370\n",
              "4          0.83  Ideal     G     SI1     EX       EX    GIA   3171"
            ]
          },
          "metadata": {
            "tags": []
          }
        }
      ]
    },
    {
      "cell_type": "code",
      "metadata": {
        "id": "D5PerU66zZqK",
        "outputId": "8560e961-03d8-4216-e2f6-3ee332581db0",
        "colab": {
          "base_uri": "https://localhost:8080/",
          "height": 34
        }
      },
      "source": [
        "#check the shape of data\n",
        "dataset.shape"
      ],
      "execution_count": null,
      "outputs": [
        {
          "output_type": "execute_result",
          "data": {
            "text/plain": [
              "(6000, 8)"
            ]
          },
          "metadata": {
            "tags": []
          },
          "execution_count": 2
        }
      ]
    },
    {
      "cell_type": "markdown",
      "metadata": {
        "id": "7eWmeLvYzZqY"
      },
      "source": [
        "In order to demonstrate the `predict_model()` function on unseen data, a sample of 600 records has been withheld from the original dataset to be used for predictions. This should not be confused with a train/test split as this particular split is performed to simulate a real life scenario. Another way to think about this is that these 600 records are not available at the time when the machine learning experiment was performed."
      ]
    },
    {
      "cell_type": "code",
      "metadata": {
        "id": "R4K9F7BXzZqc",
        "outputId": "1ef10809-0080-4798-a21c-513ae442c9ae",
        "colab": {
          "base_uri": "https://localhost:8080/",
          "height": 50
        }
      },
      "source": [
        "data = dataset.sample(frac=0.9, random_state=786).reset_index(drop=True)\n",
        "data_unseen = dataset.drop(data.index).reset_index(drop=True)\n",
        "\n",
        "print('Data for Modeling: ' + str(data.shape))\n",
        "print('Unseen Data For Predictions: ' + str(data_unseen.shape))"
      ],
      "execution_count": null,
      "outputs": [
        {
          "output_type": "stream",
          "text": [
            "Data for Modeling: (5400, 8)\n",
            "Unseen Data For Predictions: (600, 8)\n"
          ],
          "name": "stdout"
        }
      ]
    },
    {
      "cell_type": "markdown",
      "metadata": {
        "id": "DxnJV14BzZqq"
      },
      "source": [
        "# 6.0 Setting up Environment in PyCaret"
      ]
    },
    {
      "cell_type": "markdown",
      "metadata": {
        "id": "15-blMPOzZqw"
      },
      "source": [
        "The `setup()` function initializes the environment in pycaret and creates the transformation pipeline to prepare the data for modeling and deployment. `setup()` must be called before executing any other function in pycaret. It takes two mandatory parameters: a pandas dataframe and the name of the target column. All other parameters are optional and are used to customize the pre-processing pipeline (we will see them in later tutorials).\n",
        "\n",
        "When `setup()` is executed, PyCaret's inference algorithm will automatically infer the data types for all features based on certain properties. The data type should be inferred correctly but this is not always the case. To account for this, PyCaret displays a table containing the features and their inferred data types after `setup()` is executed. If all of the data types are correctly identified `enter` can be pressed to continue or `quit` can be typed to end the expriment. Ensuring that the data types are correct is of fundamental importance in PyCaret as it automatically performs a few pre-processing tasks which are imperative to any machine learning experiment. These tasks are performed differently for each data type which means it is very important for them to be correctly configured.\n",
        "\n",
        "In later tutorials we will learn how to overwrite PyCaret's infered data type using the `numeric_features` and `categorical_features` parameters in `setup()`."
      ]
    },
    {
      "cell_type": "code",
      "metadata": {
        "id": "LgT-XURDzZqz"
      },
      "source": [
        "from pycaret.regression import *"
      ],
      "execution_count": null,
      "outputs": []
    },
    {
      "cell_type": "code",
      "metadata": {
        "id": "7V2FN4KQzZrA",
        "outputId": "d8434016-2cc3-4907-9285-f5cc933f3686",
        "scrolled": false,
        "colab": {
          "base_uri": "https://localhost:8080/",
          "height": 912
        }
      },
      "source": [
        "exp_reg101 = setup(data = data, target = 'Price', session_id=123) "
      ],
      "execution_count": null,
      "outputs": [
        {
          "output_type": "stream",
          "text": [
            " \n",
            "Setup Succesfully Completed!\n"
          ],
          "name": "stdout"
        },
        {
          "output_type": "display_data",
          "data": {
            "text/html": [
              "<style  type=\"text/css\" >\n",
              "</style><table id=\"T_e7f3c398_7115_11ea_bafa_0242ac1c0002\" ><thead>    <tr>        <th class=\"blank level0\" ></th>        <th class=\"col_heading level0 col0\" >Description</th>        <th class=\"col_heading level0 col1\" >Value</th>    </tr></thead><tbody>\n",
              "                <tr>\n",
              "                        <th id=\"T_e7f3c398_7115_11ea_bafa_0242ac1c0002level0_row0\" class=\"row_heading level0 row0\" >0</th>\n",
              "                        <td id=\"T_e7f3c398_7115_11ea_bafa_0242ac1c0002row0_col0\" class=\"data row0 col0\" >session_id</td>\n",
              "                        <td id=\"T_e7f3c398_7115_11ea_bafa_0242ac1c0002row0_col1\" class=\"data row0 col1\" >123</td>\n",
              "            </tr>\n",
              "            <tr>\n",
              "                        <th id=\"T_e7f3c398_7115_11ea_bafa_0242ac1c0002level0_row1\" class=\"row_heading level0 row1\" >1</th>\n",
              "                        <td id=\"T_e7f3c398_7115_11ea_bafa_0242ac1c0002row1_col0\" class=\"data row1 col0\" >Transform Target </td>\n",
              "                        <td id=\"T_e7f3c398_7115_11ea_bafa_0242ac1c0002row1_col1\" class=\"data row1 col1\" >False</td>\n",
              "            </tr>\n",
              "            <tr>\n",
              "                        <th id=\"T_e7f3c398_7115_11ea_bafa_0242ac1c0002level0_row2\" class=\"row_heading level0 row2\" >2</th>\n",
              "                        <td id=\"T_e7f3c398_7115_11ea_bafa_0242ac1c0002row2_col0\" class=\"data row2 col0\" >Transform Target Method</td>\n",
              "                        <td id=\"T_e7f3c398_7115_11ea_bafa_0242ac1c0002row2_col1\" class=\"data row2 col1\" >None</td>\n",
              "            </tr>\n",
              "            <tr>\n",
              "                        <th id=\"T_e7f3c398_7115_11ea_bafa_0242ac1c0002level0_row3\" class=\"row_heading level0 row3\" >3</th>\n",
              "                        <td id=\"T_e7f3c398_7115_11ea_bafa_0242ac1c0002row3_col0\" class=\"data row3 col0\" >Original Data</td>\n",
              "                        <td id=\"T_e7f3c398_7115_11ea_bafa_0242ac1c0002row3_col1\" class=\"data row3 col1\" >(5400, 8)</td>\n",
              "            </tr>\n",
              "            <tr>\n",
              "                        <th id=\"T_e7f3c398_7115_11ea_bafa_0242ac1c0002level0_row4\" class=\"row_heading level0 row4\" >4</th>\n",
              "                        <td id=\"T_e7f3c398_7115_11ea_bafa_0242ac1c0002row4_col0\" class=\"data row4 col0\" >Missing Values </td>\n",
              "                        <td id=\"T_e7f3c398_7115_11ea_bafa_0242ac1c0002row4_col1\" class=\"data row4 col1\" >False</td>\n",
              "            </tr>\n",
              "            <tr>\n",
              "                        <th id=\"T_e7f3c398_7115_11ea_bafa_0242ac1c0002level0_row5\" class=\"row_heading level0 row5\" >5</th>\n",
              "                        <td id=\"T_e7f3c398_7115_11ea_bafa_0242ac1c0002row5_col0\" class=\"data row5 col0\" >Numeric Features </td>\n",
              "                        <td id=\"T_e7f3c398_7115_11ea_bafa_0242ac1c0002row5_col1\" class=\"data row5 col1\" >1</td>\n",
              "            </tr>\n",
              "            <tr>\n",
              "                        <th id=\"T_e7f3c398_7115_11ea_bafa_0242ac1c0002level0_row6\" class=\"row_heading level0 row6\" >6</th>\n",
              "                        <td id=\"T_e7f3c398_7115_11ea_bafa_0242ac1c0002row6_col0\" class=\"data row6 col0\" >Categorical Features </td>\n",
              "                        <td id=\"T_e7f3c398_7115_11ea_bafa_0242ac1c0002row6_col1\" class=\"data row6 col1\" >6</td>\n",
              "            </tr>\n",
              "            <tr>\n",
              "                        <th id=\"T_e7f3c398_7115_11ea_bafa_0242ac1c0002level0_row7\" class=\"row_heading level0 row7\" >7</th>\n",
              "                        <td id=\"T_e7f3c398_7115_11ea_bafa_0242ac1c0002row7_col0\" class=\"data row7 col0\" >Ordinal Features </td>\n",
              "                        <td id=\"T_e7f3c398_7115_11ea_bafa_0242ac1c0002row7_col1\" class=\"data row7 col1\" >False</td>\n",
              "            </tr>\n",
              "            <tr>\n",
              "                        <th id=\"T_e7f3c398_7115_11ea_bafa_0242ac1c0002level0_row8\" class=\"row_heading level0 row8\" >8</th>\n",
              "                        <td id=\"T_e7f3c398_7115_11ea_bafa_0242ac1c0002row8_col0\" class=\"data row8 col0\" >High Cardinality Features </td>\n",
              "                        <td id=\"T_e7f3c398_7115_11ea_bafa_0242ac1c0002row8_col1\" class=\"data row8 col1\" >False</td>\n",
              "            </tr>\n",
              "            <tr>\n",
              "                        <th id=\"T_e7f3c398_7115_11ea_bafa_0242ac1c0002level0_row9\" class=\"row_heading level0 row9\" >9</th>\n",
              "                        <td id=\"T_e7f3c398_7115_11ea_bafa_0242ac1c0002row9_col0\" class=\"data row9 col0\" >High Cardinality Method </td>\n",
              "                        <td id=\"T_e7f3c398_7115_11ea_bafa_0242ac1c0002row9_col1\" class=\"data row9 col1\" >None</td>\n",
              "            </tr>\n",
              "            <tr>\n",
              "                        <th id=\"T_e7f3c398_7115_11ea_bafa_0242ac1c0002level0_row10\" class=\"row_heading level0 row10\" >10</th>\n",
              "                        <td id=\"T_e7f3c398_7115_11ea_bafa_0242ac1c0002row10_col0\" class=\"data row10 col0\" >Sampled Data</td>\n",
              "                        <td id=\"T_e7f3c398_7115_11ea_bafa_0242ac1c0002row10_col1\" class=\"data row10 col1\" >(5400, 8)</td>\n",
              "            </tr>\n",
              "            <tr>\n",
              "                        <th id=\"T_e7f3c398_7115_11ea_bafa_0242ac1c0002level0_row11\" class=\"row_heading level0 row11\" >11</th>\n",
              "                        <td id=\"T_e7f3c398_7115_11ea_bafa_0242ac1c0002row11_col0\" class=\"data row11 col0\" >Transformed Train Set</td>\n",
              "                        <td id=\"T_e7f3c398_7115_11ea_bafa_0242ac1c0002row11_col1\" class=\"data row11 col1\" >(3779, 28)</td>\n",
              "            </tr>\n",
              "            <tr>\n",
              "                        <th id=\"T_e7f3c398_7115_11ea_bafa_0242ac1c0002level0_row12\" class=\"row_heading level0 row12\" >12</th>\n",
              "                        <td id=\"T_e7f3c398_7115_11ea_bafa_0242ac1c0002row12_col0\" class=\"data row12 col0\" >Transformed Test Set</td>\n",
              "                        <td id=\"T_e7f3c398_7115_11ea_bafa_0242ac1c0002row12_col1\" class=\"data row12 col1\" >(1621, 28)</td>\n",
              "            </tr>\n",
              "            <tr>\n",
              "                        <th id=\"T_e7f3c398_7115_11ea_bafa_0242ac1c0002level0_row13\" class=\"row_heading level0 row13\" >13</th>\n",
              "                        <td id=\"T_e7f3c398_7115_11ea_bafa_0242ac1c0002row13_col0\" class=\"data row13 col0\" >Numeric Imputer </td>\n",
              "                        <td id=\"T_e7f3c398_7115_11ea_bafa_0242ac1c0002row13_col1\" class=\"data row13 col1\" >mean</td>\n",
              "            </tr>\n",
              "            <tr>\n",
              "                        <th id=\"T_e7f3c398_7115_11ea_bafa_0242ac1c0002level0_row14\" class=\"row_heading level0 row14\" >14</th>\n",
              "                        <td id=\"T_e7f3c398_7115_11ea_bafa_0242ac1c0002row14_col0\" class=\"data row14 col0\" >Categorical Imputer </td>\n",
              "                        <td id=\"T_e7f3c398_7115_11ea_bafa_0242ac1c0002row14_col1\" class=\"data row14 col1\" >constant</td>\n",
              "            </tr>\n",
              "            <tr>\n",
              "                        <th id=\"T_e7f3c398_7115_11ea_bafa_0242ac1c0002level0_row15\" class=\"row_heading level0 row15\" >15</th>\n",
              "                        <td id=\"T_e7f3c398_7115_11ea_bafa_0242ac1c0002row15_col0\" class=\"data row15 col0\" >Normalize </td>\n",
              "                        <td id=\"T_e7f3c398_7115_11ea_bafa_0242ac1c0002row15_col1\" class=\"data row15 col1\" >False</td>\n",
              "            </tr>\n",
              "            <tr>\n",
              "                        <th id=\"T_e7f3c398_7115_11ea_bafa_0242ac1c0002level0_row16\" class=\"row_heading level0 row16\" >16</th>\n",
              "                        <td id=\"T_e7f3c398_7115_11ea_bafa_0242ac1c0002row16_col0\" class=\"data row16 col0\" >Normalize Method </td>\n",
              "                        <td id=\"T_e7f3c398_7115_11ea_bafa_0242ac1c0002row16_col1\" class=\"data row16 col1\" >None</td>\n",
              "            </tr>\n",
              "            <tr>\n",
              "                        <th id=\"T_e7f3c398_7115_11ea_bafa_0242ac1c0002level0_row17\" class=\"row_heading level0 row17\" >17</th>\n",
              "                        <td id=\"T_e7f3c398_7115_11ea_bafa_0242ac1c0002row17_col0\" class=\"data row17 col0\" >Transformation </td>\n",
              "                        <td id=\"T_e7f3c398_7115_11ea_bafa_0242ac1c0002row17_col1\" class=\"data row17 col1\" >False</td>\n",
              "            </tr>\n",
              "            <tr>\n",
              "                        <th id=\"T_e7f3c398_7115_11ea_bafa_0242ac1c0002level0_row18\" class=\"row_heading level0 row18\" >18</th>\n",
              "                        <td id=\"T_e7f3c398_7115_11ea_bafa_0242ac1c0002row18_col0\" class=\"data row18 col0\" >Transformation Method </td>\n",
              "                        <td id=\"T_e7f3c398_7115_11ea_bafa_0242ac1c0002row18_col1\" class=\"data row18 col1\" >None</td>\n",
              "            </tr>\n",
              "            <tr>\n",
              "                        <th id=\"T_e7f3c398_7115_11ea_bafa_0242ac1c0002level0_row19\" class=\"row_heading level0 row19\" >19</th>\n",
              "                        <td id=\"T_e7f3c398_7115_11ea_bafa_0242ac1c0002row19_col0\" class=\"data row19 col0\" >PCA </td>\n",
              "                        <td id=\"T_e7f3c398_7115_11ea_bafa_0242ac1c0002row19_col1\" class=\"data row19 col1\" >False</td>\n",
              "            </tr>\n",
              "            <tr>\n",
              "                        <th id=\"T_e7f3c398_7115_11ea_bafa_0242ac1c0002level0_row20\" class=\"row_heading level0 row20\" >20</th>\n",
              "                        <td id=\"T_e7f3c398_7115_11ea_bafa_0242ac1c0002row20_col0\" class=\"data row20 col0\" >PCA Method </td>\n",
              "                        <td id=\"T_e7f3c398_7115_11ea_bafa_0242ac1c0002row20_col1\" class=\"data row20 col1\" >None</td>\n",
              "            </tr>\n",
              "            <tr>\n",
              "                        <th id=\"T_e7f3c398_7115_11ea_bafa_0242ac1c0002level0_row21\" class=\"row_heading level0 row21\" >21</th>\n",
              "                        <td id=\"T_e7f3c398_7115_11ea_bafa_0242ac1c0002row21_col0\" class=\"data row21 col0\" >PCA Components </td>\n",
              "                        <td id=\"T_e7f3c398_7115_11ea_bafa_0242ac1c0002row21_col1\" class=\"data row21 col1\" >None</td>\n",
              "            </tr>\n",
              "            <tr>\n",
              "                        <th id=\"T_e7f3c398_7115_11ea_bafa_0242ac1c0002level0_row22\" class=\"row_heading level0 row22\" >22</th>\n",
              "                        <td id=\"T_e7f3c398_7115_11ea_bafa_0242ac1c0002row22_col0\" class=\"data row22 col0\" >Ignore Low Variance </td>\n",
              "                        <td id=\"T_e7f3c398_7115_11ea_bafa_0242ac1c0002row22_col1\" class=\"data row22 col1\" >False</td>\n",
              "            </tr>\n",
              "            <tr>\n",
              "                        <th id=\"T_e7f3c398_7115_11ea_bafa_0242ac1c0002level0_row23\" class=\"row_heading level0 row23\" >23</th>\n",
              "                        <td id=\"T_e7f3c398_7115_11ea_bafa_0242ac1c0002row23_col0\" class=\"data row23 col0\" >Combine Rare Levels </td>\n",
              "                        <td id=\"T_e7f3c398_7115_11ea_bafa_0242ac1c0002row23_col1\" class=\"data row23 col1\" >False</td>\n",
              "            </tr>\n",
              "            <tr>\n",
              "                        <th id=\"T_e7f3c398_7115_11ea_bafa_0242ac1c0002level0_row24\" class=\"row_heading level0 row24\" >24</th>\n",
              "                        <td id=\"T_e7f3c398_7115_11ea_bafa_0242ac1c0002row24_col0\" class=\"data row24 col0\" >Rare Level Threshold </td>\n",
              "                        <td id=\"T_e7f3c398_7115_11ea_bafa_0242ac1c0002row24_col1\" class=\"data row24 col1\" >None</td>\n",
              "            </tr>\n",
              "            <tr>\n",
              "                        <th id=\"T_e7f3c398_7115_11ea_bafa_0242ac1c0002level0_row25\" class=\"row_heading level0 row25\" >25</th>\n",
              "                        <td id=\"T_e7f3c398_7115_11ea_bafa_0242ac1c0002row25_col0\" class=\"data row25 col0\" >Numeric Binning </td>\n",
              "                        <td id=\"T_e7f3c398_7115_11ea_bafa_0242ac1c0002row25_col1\" class=\"data row25 col1\" >False</td>\n",
              "            </tr>\n",
              "            <tr>\n",
              "                        <th id=\"T_e7f3c398_7115_11ea_bafa_0242ac1c0002level0_row26\" class=\"row_heading level0 row26\" >26</th>\n",
              "                        <td id=\"T_e7f3c398_7115_11ea_bafa_0242ac1c0002row26_col0\" class=\"data row26 col0\" >Remove Outliers </td>\n",
              "                        <td id=\"T_e7f3c398_7115_11ea_bafa_0242ac1c0002row26_col1\" class=\"data row26 col1\" >False</td>\n",
              "            </tr>\n",
              "            <tr>\n",
              "                        <th id=\"T_e7f3c398_7115_11ea_bafa_0242ac1c0002level0_row27\" class=\"row_heading level0 row27\" >27</th>\n",
              "                        <td id=\"T_e7f3c398_7115_11ea_bafa_0242ac1c0002row27_col0\" class=\"data row27 col0\" >Outliers Threshold </td>\n",
              "                        <td id=\"T_e7f3c398_7115_11ea_bafa_0242ac1c0002row27_col1\" class=\"data row27 col1\" >None</td>\n",
              "            </tr>\n",
              "            <tr>\n",
              "                        <th id=\"T_e7f3c398_7115_11ea_bafa_0242ac1c0002level0_row28\" class=\"row_heading level0 row28\" >28</th>\n",
              "                        <td id=\"T_e7f3c398_7115_11ea_bafa_0242ac1c0002row28_col0\" class=\"data row28 col0\" >Remove Multicollinearity </td>\n",
              "                        <td id=\"T_e7f3c398_7115_11ea_bafa_0242ac1c0002row28_col1\" class=\"data row28 col1\" >False</td>\n",
              "            </tr>\n",
              "            <tr>\n",
              "                        <th id=\"T_e7f3c398_7115_11ea_bafa_0242ac1c0002level0_row29\" class=\"row_heading level0 row29\" >29</th>\n",
              "                        <td id=\"T_e7f3c398_7115_11ea_bafa_0242ac1c0002row29_col0\" class=\"data row29 col0\" >Multicollinearity Threshold </td>\n",
              "                        <td id=\"T_e7f3c398_7115_11ea_bafa_0242ac1c0002row29_col1\" class=\"data row29 col1\" >None</td>\n",
              "            </tr>\n",
              "            <tr>\n",
              "                        <th id=\"T_e7f3c398_7115_11ea_bafa_0242ac1c0002level0_row30\" class=\"row_heading level0 row30\" >30</th>\n",
              "                        <td id=\"T_e7f3c398_7115_11ea_bafa_0242ac1c0002row30_col0\" class=\"data row30 col0\" >Clustering </td>\n",
              "                        <td id=\"T_e7f3c398_7115_11ea_bafa_0242ac1c0002row30_col1\" class=\"data row30 col1\" >False</td>\n",
              "            </tr>\n",
              "            <tr>\n",
              "                        <th id=\"T_e7f3c398_7115_11ea_bafa_0242ac1c0002level0_row31\" class=\"row_heading level0 row31\" >31</th>\n",
              "                        <td id=\"T_e7f3c398_7115_11ea_bafa_0242ac1c0002row31_col0\" class=\"data row31 col0\" >Clustering Iteration </td>\n",
              "                        <td id=\"T_e7f3c398_7115_11ea_bafa_0242ac1c0002row31_col1\" class=\"data row31 col1\" >None</td>\n",
              "            </tr>\n",
              "            <tr>\n",
              "                        <th id=\"T_e7f3c398_7115_11ea_bafa_0242ac1c0002level0_row32\" class=\"row_heading level0 row32\" >32</th>\n",
              "                        <td id=\"T_e7f3c398_7115_11ea_bafa_0242ac1c0002row32_col0\" class=\"data row32 col0\" >Polynomial Features </td>\n",
              "                        <td id=\"T_e7f3c398_7115_11ea_bafa_0242ac1c0002row32_col1\" class=\"data row32 col1\" >False</td>\n",
              "            </tr>\n",
              "            <tr>\n",
              "                        <th id=\"T_e7f3c398_7115_11ea_bafa_0242ac1c0002level0_row33\" class=\"row_heading level0 row33\" >33</th>\n",
              "                        <td id=\"T_e7f3c398_7115_11ea_bafa_0242ac1c0002row33_col0\" class=\"data row33 col0\" >Polynomial Degree </td>\n",
              "                        <td id=\"T_e7f3c398_7115_11ea_bafa_0242ac1c0002row33_col1\" class=\"data row33 col1\" >None</td>\n",
              "            </tr>\n",
              "            <tr>\n",
              "                        <th id=\"T_e7f3c398_7115_11ea_bafa_0242ac1c0002level0_row34\" class=\"row_heading level0 row34\" >34</th>\n",
              "                        <td id=\"T_e7f3c398_7115_11ea_bafa_0242ac1c0002row34_col0\" class=\"data row34 col0\" >Trignometry Features </td>\n",
              "                        <td id=\"T_e7f3c398_7115_11ea_bafa_0242ac1c0002row34_col1\" class=\"data row34 col1\" >False</td>\n",
              "            </tr>\n",
              "            <tr>\n",
              "                        <th id=\"T_e7f3c398_7115_11ea_bafa_0242ac1c0002level0_row35\" class=\"row_heading level0 row35\" >35</th>\n",
              "                        <td id=\"T_e7f3c398_7115_11ea_bafa_0242ac1c0002row35_col0\" class=\"data row35 col0\" >Polynomial Threshold </td>\n",
              "                        <td id=\"T_e7f3c398_7115_11ea_bafa_0242ac1c0002row35_col1\" class=\"data row35 col1\" >None</td>\n",
              "            </tr>\n",
              "            <tr>\n",
              "                        <th id=\"T_e7f3c398_7115_11ea_bafa_0242ac1c0002level0_row36\" class=\"row_heading level0 row36\" >36</th>\n",
              "                        <td id=\"T_e7f3c398_7115_11ea_bafa_0242ac1c0002row36_col0\" class=\"data row36 col0\" >Group Features </td>\n",
              "                        <td id=\"T_e7f3c398_7115_11ea_bafa_0242ac1c0002row36_col1\" class=\"data row36 col1\" >False</td>\n",
              "            </tr>\n",
              "            <tr>\n",
              "                        <th id=\"T_e7f3c398_7115_11ea_bafa_0242ac1c0002level0_row37\" class=\"row_heading level0 row37\" >37</th>\n",
              "                        <td id=\"T_e7f3c398_7115_11ea_bafa_0242ac1c0002row37_col0\" class=\"data row37 col0\" >Feature Selection </td>\n",
              "                        <td id=\"T_e7f3c398_7115_11ea_bafa_0242ac1c0002row37_col1\" class=\"data row37 col1\" >False</td>\n",
              "            </tr>\n",
              "            <tr>\n",
              "                        <th id=\"T_e7f3c398_7115_11ea_bafa_0242ac1c0002level0_row38\" class=\"row_heading level0 row38\" >38</th>\n",
              "                        <td id=\"T_e7f3c398_7115_11ea_bafa_0242ac1c0002row38_col0\" class=\"data row38 col0\" >Features Selection Threshold </td>\n",
              "                        <td id=\"T_e7f3c398_7115_11ea_bafa_0242ac1c0002row38_col1\" class=\"data row38 col1\" >None</td>\n",
              "            </tr>\n",
              "            <tr>\n",
              "                        <th id=\"T_e7f3c398_7115_11ea_bafa_0242ac1c0002level0_row39\" class=\"row_heading level0 row39\" >39</th>\n",
              "                        <td id=\"T_e7f3c398_7115_11ea_bafa_0242ac1c0002row39_col0\" class=\"data row39 col0\" >Feature Interaction </td>\n",
              "                        <td id=\"T_e7f3c398_7115_11ea_bafa_0242ac1c0002row39_col1\" class=\"data row39 col1\" >False</td>\n",
              "            </tr>\n",
              "            <tr>\n",
              "                        <th id=\"T_e7f3c398_7115_11ea_bafa_0242ac1c0002level0_row40\" class=\"row_heading level0 row40\" >40</th>\n",
              "                        <td id=\"T_e7f3c398_7115_11ea_bafa_0242ac1c0002row40_col0\" class=\"data row40 col0\" >Feature Ratio </td>\n",
              "                        <td id=\"T_e7f3c398_7115_11ea_bafa_0242ac1c0002row40_col1\" class=\"data row40 col1\" >False</td>\n",
              "            </tr>\n",
              "            <tr>\n",
              "                        <th id=\"T_e7f3c398_7115_11ea_bafa_0242ac1c0002level0_row41\" class=\"row_heading level0 row41\" >41</th>\n",
              "                        <td id=\"T_e7f3c398_7115_11ea_bafa_0242ac1c0002row41_col0\" class=\"data row41 col0\" >Interaction Threshold </td>\n",
              "                        <td id=\"T_e7f3c398_7115_11ea_bafa_0242ac1c0002row41_col1\" class=\"data row41 col1\" >None</td>\n",
              "            </tr>\n",
              "    </tbody></table>"
            ],
            "text/plain": [
              "<pandas.io.formats.style.Styler at 0x7fbcc99b51d0>"
            ]
          },
          "metadata": {
            "tags": []
          }
        }
      ]
    },
    {
      "cell_type": "markdown",
      "metadata": {
        "id": "nWBypX32zZrP"
      },
      "source": [
        "Once the setup has been succesfully executed it prints the information grid which contains several important pieces of information. Most of the information is related to the pre-processing pipeline which is constructed when `setup()` is executed. The majority of these features are out of scope for the purposes of this tutorial however a few important things to note at this stage include:\n",
        "\n",
        "- **session_id :**  A pseduo-random number distributed as a seed in all functions for later reproducibility. If no `session_id` is passed, a random number is automatically generated that is distributed to all functions. In this experiment, the `session_id` is set as `123` for later reproducibility.<br/>\n",
        "<br/>\n",
        "- **Original Data :**  Displays the original shape of dataset. In this experiment (5400, 8) means 5400 samples and 8 features including the target column. <br/>\n",
        "<br/>\n",
        "- **Missing Values :**  When there are missing values in the original data this will show as True. For this experiment there are no missing values in the dataset.<br/>\n",
        "<br/>\n",
        "- **Numeric Features :**  Number of features inferred as numeric. In this dataset, 1 out of 8 features are inferred as numeric. <br/>\n",
        "<br/>\n",
        "- **Categorical Features :**  Number of features inferred as categorical. In this dataset, 6 out of 8 features are inferred as categorical. <br/>\n",
        "<br/>\n",
        "- **Transformed Train Set :** Displays the shape of the transformed training set. Notice that the original shape of (5400, 8) is transformed into (3779, 28) for the transformed train set. The number of features has increased from 8 from 28 due to categorical encoding <br/>\n",
        "<br/>\n",
        "- **Transformed Test Set :** Displays the shape of transformed test/hold-out set. There are 1621 samples in test/hold-out set. This split is based on the default value of 70/30 that can be changed using `train_size` parameter in setup. <br/>\n",
        "\n",
        "Notice how a few tasks that are imperative to perform modeling are automatically handled such as missing value imputation (in this case there are no missing values in training data, but we still need imputers for unseen data), categorical encoding etc. Most of the parameters in `setup()` are optional and used for customizing the pre-processing pipeline. These parameters are out of scope for this tutorial but as you progress to the intermediate and expert levels, we will cover them in much greater detail.\n",
        "\n"
      ]
    },
    {
      "cell_type": "markdown",
      "metadata": {
        "id": "xBqHzabEzZrT"
      },
      "source": [
        "# 7.0 Comparing All Models"
      ]
    },
    {
      "cell_type": "markdown",
      "metadata": {
        "id": "QHiNl6UmzZrW"
      },
      "source": [
        "Comparing all models to evaluate performance is the recommended starting point for modeling once the setup is completed (unless you exactly know what kind of model you need, which is often not the case). This function trains all models in the model library and scores them using kfold cross validation for metric evaluation. The output prints a score grid that shows average MAE, MSE, RMSE, R2, RMSLE and MAPE accross the folds (10 by default) of all the available models in the model library."
      ]
    },
    {
      "cell_type": "code",
      "metadata": {
        "id": "atJfMGD6zZrb",
        "outputId": "54623a4e-99cc-4ee4-d8ac-1fcb47c63421",
        "scrolled": false,
        "colab": {
          "base_uri": "https://localhost:8080/",
          "height": 478
        }
      },
      "source": [
        "compare_models()"
      ],
      "execution_count": null,
      "outputs": [
        {
          "output_type": "execute_result",
          "data": {
            "text/html": [
              "<style  type=\"text/css\" >\n",
              "    #T_2b3e6252_7116_11ea_bafa_0242ac1c0002 th {\n",
              "          text-align: left;\n",
              "    }    #T_2b3e6252_7116_11ea_bafa_0242ac1c0002row0_col0 {\n",
              "            text-align:  left;\n",
              "        }    #T_2b3e6252_7116_11ea_bafa_0242ac1c0002row0_col1 {\n",
              "            background-color:  yellow;\n",
              "            text-align:  left;\n",
              "        }    #T_2b3e6252_7116_11ea_bafa_0242ac1c0002row0_col2 {\n",
              "            background-color:  yellow;\n",
              "            text-align:  left;\n",
              "        }    #T_2b3e6252_7116_11ea_bafa_0242ac1c0002row0_col3 {\n",
              "            background-color:  yellow;\n",
              "            text-align:  left;\n",
              "        }    #T_2b3e6252_7116_11ea_bafa_0242ac1c0002row0_col4 {\n",
              "            text-align:  left;\n",
              "        }    #T_2b3e6252_7116_11ea_bafa_0242ac1c0002row0_col5 {\n",
              "            background-color:  yellow;\n",
              "            text-align:  left;\n",
              "        }    #T_2b3e6252_7116_11ea_bafa_0242ac1c0002row0_col6 {\n",
              "            background-color:  yellow;\n",
              "            text-align:  left;\n",
              "        }    #T_2b3e6252_7116_11ea_bafa_0242ac1c0002row1_col0 {\n",
              "            text-align:  left;\n",
              "        }    #T_2b3e6252_7116_11ea_bafa_0242ac1c0002row1_col1 {\n",
              "            : ;\n",
              "            text-align:  left;\n",
              "        }    #T_2b3e6252_7116_11ea_bafa_0242ac1c0002row1_col2 {\n",
              "            : ;\n",
              "            text-align:  left;\n",
              "        }    #T_2b3e6252_7116_11ea_bafa_0242ac1c0002row1_col3 {\n",
              "            : ;\n",
              "            text-align:  left;\n",
              "        }    #T_2b3e6252_7116_11ea_bafa_0242ac1c0002row1_col4 {\n",
              "            text-align:  left;\n",
              "        }    #T_2b3e6252_7116_11ea_bafa_0242ac1c0002row1_col5 {\n",
              "            : ;\n",
              "            text-align:  left;\n",
              "        }    #T_2b3e6252_7116_11ea_bafa_0242ac1c0002row1_col6 {\n",
              "            : ;\n",
              "            text-align:  left;\n",
              "        }    #T_2b3e6252_7116_11ea_bafa_0242ac1c0002row2_col0 {\n",
              "            text-align:  left;\n",
              "        }    #T_2b3e6252_7116_11ea_bafa_0242ac1c0002row2_col1 {\n",
              "            : ;\n",
              "            text-align:  left;\n",
              "        }    #T_2b3e6252_7116_11ea_bafa_0242ac1c0002row2_col2 {\n",
              "            : ;\n",
              "            text-align:  left;\n",
              "        }    #T_2b3e6252_7116_11ea_bafa_0242ac1c0002row2_col3 {\n",
              "            : ;\n",
              "            text-align:  left;\n",
              "        }    #T_2b3e6252_7116_11ea_bafa_0242ac1c0002row2_col4 {\n",
              "            text-align:  left;\n",
              "        }    #T_2b3e6252_7116_11ea_bafa_0242ac1c0002row2_col5 {\n",
              "            : ;\n",
              "            text-align:  left;\n",
              "        }    #T_2b3e6252_7116_11ea_bafa_0242ac1c0002row2_col6 {\n",
              "            : ;\n",
              "            text-align:  left;\n",
              "        }    #T_2b3e6252_7116_11ea_bafa_0242ac1c0002row3_col0 {\n",
              "            text-align:  left;\n",
              "        }    #T_2b3e6252_7116_11ea_bafa_0242ac1c0002row3_col1 {\n",
              "            : ;\n",
              "            text-align:  left;\n",
              "        }    #T_2b3e6252_7116_11ea_bafa_0242ac1c0002row3_col2 {\n",
              "            : ;\n",
              "            text-align:  left;\n",
              "        }    #T_2b3e6252_7116_11ea_bafa_0242ac1c0002row3_col3 {\n",
              "            : ;\n",
              "            text-align:  left;\n",
              "        }    #T_2b3e6252_7116_11ea_bafa_0242ac1c0002row3_col4 {\n",
              "            text-align:  left;\n",
              "        }    #T_2b3e6252_7116_11ea_bafa_0242ac1c0002row3_col5 {\n",
              "            : ;\n",
              "            text-align:  left;\n",
              "        }    #T_2b3e6252_7116_11ea_bafa_0242ac1c0002row3_col6 {\n",
              "            : ;\n",
              "            text-align:  left;\n",
              "        }    #T_2b3e6252_7116_11ea_bafa_0242ac1c0002row4_col0 {\n",
              "            text-align:  left;\n",
              "        }    #T_2b3e6252_7116_11ea_bafa_0242ac1c0002row4_col1 {\n",
              "            : ;\n",
              "            text-align:  left;\n",
              "        }    #T_2b3e6252_7116_11ea_bafa_0242ac1c0002row4_col2 {\n",
              "            : ;\n",
              "            text-align:  left;\n",
              "        }    #T_2b3e6252_7116_11ea_bafa_0242ac1c0002row4_col3 {\n",
              "            : ;\n",
              "            text-align:  left;\n",
              "        }    #T_2b3e6252_7116_11ea_bafa_0242ac1c0002row4_col4 {\n",
              "            text-align:  left;\n",
              "        }    #T_2b3e6252_7116_11ea_bafa_0242ac1c0002row4_col5 {\n",
              "            : ;\n",
              "            text-align:  left;\n",
              "        }    #T_2b3e6252_7116_11ea_bafa_0242ac1c0002row4_col6 {\n",
              "            : ;\n",
              "            text-align:  left;\n",
              "        }    #T_2b3e6252_7116_11ea_bafa_0242ac1c0002row5_col0 {\n",
              "            text-align:  left;\n",
              "        }    #T_2b3e6252_7116_11ea_bafa_0242ac1c0002row5_col1 {\n",
              "            : ;\n",
              "            text-align:  left;\n",
              "        }    #T_2b3e6252_7116_11ea_bafa_0242ac1c0002row5_col2 {\n",
              "            : ;\n",
              "            text-align:  left;\n",
              "        }    #T_2b3e6252_7116_11ea_bafa_0242ac1c0002row5_col3 {\n",
              "            : ;\n",
              "            text-align:  left;\n",
              "        }    #T_2b3e6252_7116_11ea_bafa_0242ac1c0002row5_col4 {\n",
              "            text-align:  left;\n",
              "        }    #T_2b3e6252_7116_11ea_bafa_0242ac1c0002row5_col5 {\n",
              "            : ;\n",
              "            text-align:  left;\n",
              "        }    #T_2b3e6252_7116_11ea_bafa_0242ac1c0002row5_col6 {\n",
              "            : ;\n",
              "            text-align:  left;\n",
              "        }    #T_2b3e6252_7116_11ea_bafa_0242ac1c0002row6_col0 {\n",
              "            text-align:  left;\n",
              "        }    #T_2b3e6252_7116_11ea_bafa_0242ac1c0002row6_col1 {\n",
              "            : ;\n",
              "            text-align:  left;\n",
              "        }    #T_2b3e6252_7116_11ea_bafa_0242ac1c0002row6_col2 {\n",
              "            : ;\n",
              "            text-align:  left;\n",
              "        }    #T_2b3e6252_7116_11ea_bafa_0242ac1c0002row6_col3 {\n",
              "            : ;\n",
              "            text-align:  left;\n",
              "        }    #T_2b3e6252_7116_11ea_bafa_0242ac1c0002row6_col4 {\n",
              "            text-align:  left;\n",
              "        }    #T_2b3e6252_7116_11ea_bafa_0242ac1c0002row6_col5 {\n",
              "            : ;\n",
              "            text-align:  left;\n",
              "        }    #T_2b3e6252_7116_11ea_bafa_0242ac1c0002row6_col6 {\n",
              "            : ;\n",
              "            text-align:  left;\n",
              "        }    #T_2b3e6252_7116_11ea_bafa_0242ac1c0002row7_col0 {\n",
              "            text-align:  left;\n",
              "        }    #T_2b3e6252_7116_11ea_bafa_0242ac1c0002row7_col1 {\n",
              "            : ;\n",
              "            text-align:  left;\n",
              "        }    #T_2b3e6252_7116_11ea_bafa_0242ac1c0002row7_col2 {\n",
              "            : ;\n",
              "            text-align:  left;\n",
              "        }    #T_2b3e6252_7116_11ea_bafa_0242ac1c0002row7_col3 {\n",
              "            : ;\n",
              "            text-align:  left;\n",
              "        }    #T_2b3e6252_7116_11ea_bafa_0242ac1c0002row7_col4 {\n",
              "            text-align:  left;\n",
              "        }    #T_2b3e6252_7116_11ea_bafa_0242ac1c0002row7_col5 {\n",
              "            : ;\n",
              "            text-align:  left;\n",
              "        }    #T_2b3e6252_7116_11ea_bafa_0242ac1c0002row7_col6 {\n",
              "            : ;\n",
              "            text-align:  left;\n",
              "        }    #T_2b3e6252_7116_11ea_bafa_0242ac1c0002row8_col0 {\n",
              "            text-align:  left;\n",
              "        }    #T_2b3e6252_7116_11ea_bafa_0242ac1c0002row8_col1 {\n",
              "            : ;\n",
              "            text-align:  left;\n",
              "        }    #T_2b3e6252_7116_11ea_bafa_0242ac1c0002row8_col2 {\n",
              "            : ;\n",
              "            text-align:  left;\n",
              "        }    #T_2b3e6252_7116_11ea_bafa_0242ac1c0002row8_col3 {\n",
              "            : ;\n",
              "            text-align:  left;\n",
              "        }    #T_2b3e6252_7116_11ea_bafa_0242ac1c0002row8_col4 {\n",
              "            text-align:  left;\n",
              "        }    #T_2b3e6252_7116_11ea_bafa_0242ac1c0002row8_col5 {\n",
              "            : ;\n",
              "            text-align:  left;\n",
              "        }    #T_2b3e6252_7116_11ea_bafa_0242ac1c0002row8_col6 {\n",
              "            : ;\n",
              "            text-align:  left;\n",
              "        }    #T_2b3e6252_7116_11ea_bafa_0242ac1c0002row9_col0 {\n",
              "            text-align:  left;\n",
              "        }    #T_2b3e6252_7116_11ea_bafa_0242ac1c0002row9_col1 {\n",
              "            : ;\n",
              "            text-align:  left;\n",
              "        }    #T_2b3e6252_7116_11ea_bafa_0242ac1c0002row9_col2 {\n",
              "            : ;\n",
              "            text-align:  left;\n",
              "        }    #T_2b3e6252_7116_11ea_bafa_0242ac1c0002row9_col3 {\n",
              "            : ;\n",
              "            text-align:  left;\n",
              "        }    #T_2b3e6252_7116_11ea_bafa_0242ac1c0002row9_col4 {\n",
              "            text-align:  left;\n",
              "        }    #T_2b3e6252_7116_11ea_bafa_0242ac1c0002row9_col5 {\n",
              "            : ;\n",
              "            text-align:  left;\n",
              "        }    #T_2b3e6252_7116_11ea_bafa_0242ac1c0002row9_col6 {\n",
              "            : ;\n",
              "            text-align:  left;\n",
              "        }    #T_2b3e6252_7116_11ea_bafa_0242ac1c0002row10_col0 {\n",
              "            text-align:  left;\n",
              "        }    #T_2b3e6252_7116_11ea_bafa_0242ac1c0002row10_col1 {\n",
              "            : ;\n",
              "            text-align:  left;\n",
              "        }    #T_2b3e6252_7116_11ea_bafa_0242ac1c0002row10_col2 {\n",
              "            : ;\n",
              "            text-align:  left;\n",
              "        }    #T_2b3e6252_7116_11ea_bafa_0242ac1c0002row10_col3 {\n",
              "            : ;\n",
              "            text-align:  left;\n",
              "        }    #T_2b3e6252_7116_11ea_bafa_0242ac1c0002row10_col4 {\n",
              "            text-align:  left;\n",
              "        }    #T_2b3e6252_7116_11ea_bafa_0242ac1c0002row10_col5 {\n",
              "            : ;\n",
              "            text-align:  left;\n",
              "        }    #T_2b3e6252_7116_11ea_bafa_0242ac1c0002row10_col6 {\n",
              "            : ;\n",
              "            text-align:  left;\n",
              "        }    #T_2b3e6252_7116_11ea_bafa_0242ac1c0002row11_col0 {\n",
              "            text-align:  left;\n",
              "        }    #T_2b3e6252_7116_11ea_bafa_0242ac1c0002row11_col1 {\n",
              "            : ;\n",
              "            text-align:  left;\n",
              "        }    #T_2b3e6252_7116_11ea_bafa_0242ac1c0002row11_col2 {\n",
              "            : ;\n",
              "            text-align:  left;\n",
              "        }    #T_2b3e6252_7116_11ea_bafa_0242ac1c0002row11_col3 {\n",
              "            : ;\n",
              "            text-align:  left;\n",
              "        }    #T_2b3e6252_7116_11ea_bafa_0242ac1c0002row11_col4 {\n",
              "            text-align:  left;\n",
              "        }    #T_2b3e6252_7116_11ea_bafa_0242ac1c0002row11_col5 {\n",
              "            : ;\n",
              "            text-align:  left;\n",
              "        }    #T_2b3e6252_7116_11ea_bafa_0242ac1c0002row11_col6 {\n",
              "            : ;\n",
              "            text-align:  left;\n",
              "        }    #T_2b3e6252_7116_11ea_bafa_0242ac1c0002row12_col0 {\n",
              "            text-align:  left;\n",
              "        }    #T_2b3e6252_7116_11ea_bafa_0242ac1c0002row12_col1 {\n",
              "            : ;\n",
              "            text-align:  left;\n",
              "        }    #T_2b3e6252_7116_11ea_bafa_0242ac1c0002row12_col2 {\n",
              "            : ;\n",
              "            text-align:  left;\n",
              "        }    #T_2b3e6252_7116_11ea_bafa_0242ac1c0002row12_col3 {\n",
              "            : ;\n",
              "            text-align:  left;\n",
              "        }    #T_2b3e6252_7116_11ea_bafa_0242ac1c0002row12_col4 {\n",
              "            text-align:  left;\n",
              "        }    #T_2b3e6252_7116_11ea_bafa_0242ac1c0002row12_col5 {\n",
              "            : ;\n",
              "            text-align:  left;\n",
              "        }    #T_2b3e6252_7116_11ea_bafa_0242ac1c0002row12_col6 {\n",
              "            : ;\n",
              "            text-align:  left;\n",
              "        }    #T_2b3e6252_7116_11ea_bafa_0242ac1c0002row13_col0 {\n",
              "            text-align:  left;\n",
              "        }    #T_2b3e6252_7116_11ea_bafa_0242ac1c0002row13_col1 {\n",
              "            : ;\n",
              "            text-align:  left;\n",
              "        }    #T_2b3e6252_7116_11ea_bafa_0242ac1c0002row13_col2 {\n",
              "            : ;\n",
              "            text-align:  left;\n",
              "        }    #T_2b3e6252_7116_11ea_bafa_0242ac1c0002row13_col3 {\n",
              "            : ;\n",
              "            text-align:  left;\n",
              "        }    #T_2b3e6252_7116_11ea_bafa_0242ac1c0002row13_col4 {\n",
              "            text-align:  left;\n",
              "        }    #T_2b3e6252_7116_11ea_bafa_0242ac1c0002row13_col5 {\n",
              "            : ;\n",
              "            text-align:  left;\n",
              "        }    #T_2b3e6252_7116_11ea_bafa_0242ac1c0002row13_col6 {\n",
              "            : ;\n",
              "            text-align:  left;\n",
              "        }    #T_2b3e6252_7116_11ea_bafa_0242ac1c0002row14_col0 {\n",
              "            text-align:  left;\n",
              "        }    #T_2b3e6252_7116_11ea_bafa_0242ac1c0002row14_col1 {\n",
              "            : ;\n",
              "            text-align:  left;\n",
              "        }    #T_2b3e6252_7116_11ea_bafa_0242ac1c0002row14_col2 {\n",
              "            : ;\n",
              "            text-align:  left;\n",
              "        }    #T_2b3e6252_7116_11ea_bafa_0242ac1c0002row14_col3 {\n",
              "            : ;\n",
              "            text-align:  left;\n",
              "        }    #T_2b3e6252_7116_11ea_bafa_0242ac1c0002row14_col4 {\n",
              "            text-align:  left;\n",
              "        }    #T_2b3e6252_7116_11ea_bafa_0242ac1c0002row14_col5 {\n",
              "            : ;\n",
              "            text-align:  left;\n",
              "        }    #T_2b3e6252_7116_11ea_bafa_0242ac1c0002row14_col6 {\n",
              "            : ;\n",
              "            text-align:  left;\n",
              "        }    #T_2b3e6252_7116_11ea_bafa_0242ac1c0002row15_col0 {\n",
              "            text-align:  left;\n",
              "        }    #T_2b3e6252_7116_11ea_bafa_0242ac1c0002row15_col1 {\n",
              "            : ;\n",
              "            text-align:  left;\n",
              "        }    #T_2b3e6252_7116_11ea_bafa_0242ac1c0002row15_col2 {\n",
              "            : ;\n",
              "            text-align:  left;\n",
              "        }    #T_2b3e6252_7116_11ea_bafa_0242ac1c0002row15_col3 {\n",
              "            : ;\n",
              "            text-align:  left;\n",
              "        }    #T_2b3e6252_7116_11ea_bafa_0242ac1c0002row15_col4 {\n",
              "            text-align:  left;\n",
              "        }    #T_2b3e6252_7116_11ea_bafa_0242ac1c0002row15_col5 {\n",
              "            : ;\n",
              "            text-align:  left;\n",
              "        }    #T_2b3e6252_7116_11ea_bafa_0242ac1c0002row15_col6 {\n",
              "            : ;\n",
              "            text-align:  left;\n",
              "        }    #T_2b3e6252_7116_11ea_bafa_0242ac1c0002row16_col0 {\n",
              "            text-align:  left;\n",
              "        }    #T_2b3e6252_7116_11ea_bafa_0242ac1c0002row16_col1 {\n",
              "            : ;\n",
              "            text-align:  left;\n",
              "        }    #T_2b3e6252_7116_11ea_bafa_0242ac1c0002row16_col2 {\n",
              "            : ;\n",
              "            text-align:  left;\n",
              "        }    #T_2b3e6252_7116_11ea_bafa_0242ac1c0002row16_col3 {\n",
              "            : ;\n",
              "            text-align:  left;\n",
              "        }    #T_2b3e6252_7116_11ea_bafa_0242ac1c0002row16_col4 {\n",
              "            text-align:  left;\n",
              "        }    #T_2b3e6252_7116_11ea_bafa_0242ac1c0002row16_col5 {\n",
              "            : ;\n",
              "            text-align:  left;\n",
              "        }    #T_2b3e6252_7116_11ea_bafa_0242ac1c0002row16_col6 {\n",
              "            : ;\n",
              "            text-align:  left;\n",
              "        }    #T_2b3e6252_7116_11ea_bafa_0242ac1c0002row17_col0 {\n",
              "            text-align:  left;\n",
              "        }    #T_2b3e6252_7116_11ea_bafa_0242ac1c0002row17_col1 {\n",
              "            : ;\n",
              "            text-align:  left;\n",
              "        }    #T_2b3e6252_7116_11ea_bafa_0242ac1c0002row17_col2 {\n",
              "            : ;\n",
              "            text-align:  left;\n",
              "        }    #T_2b3e6252_7116_11ea_bafa_0242ac1c0002row17_col3 {\n",
              "            : ;\n",
              "            text-align:  left;\n",
              "        }    #T_2b3e6252_7116_11ea_bafa_0242ac1c0002row17_col4 {\n",
              "            text-align:  left;\n",
              "        }    #T_2b3e6252_7116_11ea_bafa_0242ac1c0002row17_col5 {\n",
              "            : ;\n",
              "            text-align:  left;\n",
              "        }    #T_2b3e6252_7116_11ea_bafa_0242ac1c0002row17_col6 {\n",
              "            : ;\n",
              "            text-align:  left;\n",
              "        }    #T_2b3e6252_7116_11ea_bafa_0242ac1c0002row18_col0 {\n",
              "            text-align:  left;\n",
              "        }    #T_2b3e6252_7116_11ea_bafa_0242ac1c0002row18_col1 {\n",
              "            : ;\n",
              "            text-align:  left;\n",
              "        }    #T_2b3e6252_7116_11ea_bafa_0242ac1c0002row18_col2 {\n",
              "            : ;\n",
              "            text-align:  left;\n",
              "        }    #T_2b3e6252_7116_11ea_bafa_0242ac1c0002row18_col3 {\n",
              "            : ;\n",
              "            text-align:  left;\n",
              "        }    #T_2b3e6252_7116_11ea_bafa_0242ac1c0002row18_col4 {\n",
              "            text-align:  left;\n",
              "        }    #T_2b3e6252_7116_11ea_bafa_0242ac1c0002row18_col5 {\n",
              "            : ;\n",
              "            text-align:  left;\n",
              "        }    #T_2b3e6252_7116_11ea_bafa_0242ac1c0002row18_col6 {\n",
              "            : ;\n",
              "            text-align:  left;\n",
              "        }    #T_2b3e6252_7116_11ea_bafa_0242ac1c0002row19_col0 {\n",
              "            text-align:  left;\n",
              "        }    #T_2b3e6252_7116_11ea_bafa_0242ac1c0002row19_col1 {\n",
              "            : ;\n",
              "            text-align:  left;\n",
              "        }    #T_2b3e6252_7116_11ea_bafa_0242ac1c0002row19_col2 {\n",
              "            : ;\n",
              "            text-align:  left;\n",
              "        }    #T_2b3e6252_7116_11ea_bafa_0242ac1c0002row19_col3 {\n",
              "            : ;\n",
              "            text-align:  left;\n",
              "        }    #T_2b3e6252_7116_11ea_bafa_0242ac1c0002row19_col4 {\n",
              "            text-align:  left;\n",
              "        }    #T_2b3e6252_7116_11ea_bafa_0242ac1c0002row19_col5 {\n",
              "            : ;\n",
              "            text-align:  left;\n",
              "        }    #T_2b3e6252_7116_11ea_bafa_0242ac1c0002row19_col6 {\n",
              "            : ;\n",
              "            text-align:  left;\n",
              "        }    #T_2b3e6252_7116_11ea_bafa_0242ac1c0002row20_col0 {\n",
              "            text-align:  left;\n",
              "        }    #T_2b3e6252_7116_11ea_bafa_0242ac1c0002row20_col1 {\n",
              "            : ;\n",
              "            text-align:  left;\n",
              "        }    #T_2b3e6252_7116_11ea_bafa_0242ac1c0002row20_col2 {\n",
              "            : ;\n",
              "            text-align:  left;\n",
              "        }    #T_2b3e6252_7116_11ea_bafa_0242ac1c0002row20_col3 {\n",
              "            : ;\n",
              "            text-align:  left;\n",
              "        }    #T_2b3e6252_7116_11ea_bafa_0242ac1c0002row20_col4 {\n",
              "            text-align:  left;\n",
              "        }    #T_2b3e6252_7116_11ea_bafa_0242ac1c0002row20_col5 {\n",
              "            : ;\n",
              "            text-align:  left;\n",
              "        }    #T_2b3e6252_7116_11ea_bafa_0242ac1c0002row20_col6 {\n",
              "            : ;\n",
              "            text-align:  left;\n",
              "        }    #T_2b3e6252_7116_11ea_bafa_0242ac1c0002row21_col0 {\n",
              "            text-align:  left;\n",
              "        }    #T_2b3e6252_7116_11ea_bafa_0242ac1c0002row21_col1 {\n",
              "            : ;\n",
              "            text-align:  left;\n",
              "        }    #T_2b3e6252_7116_11ea_bafa_0242ac1c0002row21_col2 {\n",
              "            : ;\n",
              "            text-align:  left;\n",
              "        }    #T_2b3e6252_7116_11ea_bafa_0242ac1c0002row21_col3 {\n",
              "            : ;\n",
              "            text-align:  left;\n",
              "        }    #T_2b3e6252_7116_11ea_bafa_0242ac1c0002row21_col4 {\n",
              "            text-align:  left;\n",
              "        }    #T_2b3e6252_7116_11ea_bafa_0242ac1c0002row21_col5 {\n",
              "            : ;\n",
              "            text-align:  left;\n",
              "        }    #T_2b3e6252_7116_11ea_bafa_0242ac1c0002row21_col6 {\n",
              "            : ;\n",
              "            text-align:  left;\n",
              "        }</style><table id=\"T_2b3e6252_7116_11ea_bafa_0242ac1c0002\" ><thead>    <tr>        <th class=\"blank level0\" ></th>        <th class=\"col_heading level0 col0\" >Model</th>        <th class=\"col_heading level0 col1\" >MAE</th>        <th class=\"col_heading level0 col2\" >MSE</th>        <th class=\"col_heading level0 col3\" >RMSE</th>        <th class=\"col_heading level0 col4\" >R2</th>        <th class=\"col_heading level0 col5\" >RMSLE</th>        <th class=\"col_heading level0 col6\" >MAPE</th>    </tr></thead><tbody>\n",
              "                <tr>\n",
              "                        <th id=\"T_2b3e6252_7116_11ea_bafa_0242ac1c0002level0_row0\" class=\"row_heading level0 row0\" >0</th>\n",
              "                        <td id=\"T_2b3e6252_7116_11ea_bafa_0242ac1c0002row0_col0\" class=\"data row0 col0\" >CatBoost Regressor</td>\n",
              "                        <td id=\"T_2b3e6252_7116_11ea_bafa_0242ac1c0002row0_col1\" class=\"data row0 col1\" >629.397</td>\n",
              "                        <td id=\"T_2b3e6252_7116_11ea_bafa_0242ac1c0002row0_col2\" class=\"data row0 col2\" >2.07934e+06</td>\n",
              "                        <td id=\"T_2b3e6252_7116_11ea_bafa_0242ac1c0002row0_col3\" class=\"data row0 col3\" >1376.31</td>\n",
              "                        <td id=\"T_2b3e6252_7116_11ea_bafa_0242ac1c0002row0_col4\" class=\"data row0 col4\" >0.9803</td>\n",
              "                        <td id=\"T_2b3e6252_7116_11ea_bafa_0242ac1c0002row0_col5\" class=\"data row0 col5\" >0.0676</td>\n",
              "                        <td id=\"T_2b3e6252_7116_11ea_bafa_0242ac1c0002row0_col6\" class=\"data row0 col6\" >0.0497</td>\n",
              "            </tr>\n",
              "            <tr>\n",
              "                        <th id=\"T_2b3e6252_7116_11ea_bafa_0242ac1c0002level0_row1\" class=\"row_heading level0 row1\" >1</th>\n",
              "                        <td id=\"T_2b3e6252_7116_11ea_bafa_0242ac1c0002row1_col0\" class=\"data row1 col0\" >Extra Trees Regressor</td>\n",
              "                        <td id=\"T_2b3e6252_7116_11ea_bafa_0242ac1c0002row1_col1\" class=\"data row1 col1\" >762.012</td>\n",
              "                        <td id=\"T_2b3e6252_7116_11ea_bafa_0242ac1c0002row1_col2\" class=\"data row1 col2\" >2.764e+06</td>\n",
              "                        <td id=\"T_2b3e6252_7116_11ea_bafa_0242ac1c0002row1_col3\" class=\"data row1 col3\" >1612.24</td>\n",
              "                        <td id=\"T_2b3e6252_7116_11ea_bafa_0242ac1c0002row1_col4\" class=\"data row1 col4\" >0.9729</td>\n",
              "                        <td id=\"T_2b3e6252_7116_11ea_bafa_0242ac1c0002row1_col5\" class=\"data row1 col5\" >0.0817</td>\n",
              "                        <td id=\"T_2b3e6252_7116_11ea_bafa_0242ac1c0002row1_col6\" class=\"data row1 col6\" >0.0607</td>\n",
              "            </tr>\n",
              "            <tr>\n",
              "                        <th id=\"T_2b3e6252_7116_11ea_bafa_0242ac1c0002level0_row2\" class=\"row_heading level0 row2\" >2</th>\n",
              "                        <td id=\"T_2b3e6252_7116_11ea_bafa_0242ac1c0002row2_col0\" class=\"data row2 col0\" >Random Forest</td>\n",
              "                        <td id=\"T_2b3e6252_7116_11ea_bafa_0242ac1c0002row2_col1\" class=\"data row2 col1\" >760.63</td>\n",
              "                        <td id=\"T_2b3e6252_7116_11ea_bafa_0242ac1c0002row2_col2\" class=\"data row2 col2\" >2.92968e+06</td>\n",
              "                        <td id=\"T_2b3e6252_7116_11ea_bafa_0242ac1c0002row2_col3\" class=\"data row2 col3\" >1663.01</td>\n",
              "                        <td id=\"T_2b3e6252_7116_11ea_bafa_0242ac1c0002row2_col4\" class=\"data row2 col4\" >0.9714</td>\n",
              "                        <td id=\"T_2b3e6252_7116_11ea_bafa_0242ac1c0002row2_col5\" class=\"data row2 col5\" >0.0818</td>\n",
              "                        <td id=\"T_2b3e6252_7116_11ea_bafa_0242ac1c0002row2_col6\" class=\"data row2 col6\" >0.0597</td>\n",
              "            </tr>\n",
              "            <tr>\n",
              "                        <th id=\"T_2b3e6252_7116_11ea_bafa_0242ac1c0002level0_row3\" class=\"row_heading level0 row3\" >3</th>\n",
              "                        <td id=\"T_2b3e6252_7116_11ea_bafa_0242ac1c0002row3_col0\" class=\"data row3 col0\" >Light Gradient Boosting Machine</td>\n",
              "                        <td id=\"T_2b3e6252_7116_11ea_bafa_0242ac1c0002row3_col1\" class=\"data row3 col1\" >752.236</td>\n",
              "                        <td id=\"T_2b3e6252_7116_11ea_bafa_0242ac1c0002row3_col2\" class=\"data row3 col2\" >3.05557e+06</td>\n",
              "                        <td id=\"T_2b3e6252_7116_11ea_bafa_0242ac1c0002row3_col3\" class=\"data row3 col3\" >1687.78</td>\n",
              "                        <td id=\"T_2b3e6252_7116_11ea_bafa_0242ac1c0002row3_col4\" class=\"data row3 col4\" >0.9711</td>\n",
              "                        <td id=\"T_2b3e6252_7116_11ea_bafa_0242ac1c0002row3_col5\" class=\"data row3 col5\" >0.0773</td>\n",
              "                        <td id=\"T_2b3e6252_7116_11ea_bafa_0242ac1c0002row3_col6\" class=\"data row3 col6\" >0.0567</td>\n",
              "            </tr>\n",
              "            <tr>\n",
              "                        <th id=\"T_2b3e6252_7116_11ea_bafa_0242ac1c0002level0_row4\" class=\"row_heading level0 row4\" >4</th>\n",
              "                        <td id=\"T_2b3e6252_7116_11ea_bafa_0242ac1c0002row4_col0\" class=\"data row4 col0\" >Extreme Gradient Boosting</td>\n",
              "                        <td id=\"T_2b3e6252_7116_11ea_bafa_0242ac1c0002row4_col1\" class=\"data row4 col1\" >932.797</td>\n",
              "                        <td id=\"T_2b3e6252_7116_11ea_bafa_0242ac1c0002row4_col2\" class=\"data row4 col2\" >3.53405e+06</td>\n",
              "                        <td id=\"T_2b3e6252_7116_11ea_bafa_0242ac1c0002row4_col3\" class=\"data row4 col3\" >1855.33</td>\n",
              "                        <td id=\"T_2b3e6252_7116_11ea_bafa_0242ac1c0002row4_col4\" class=\"data row4 col4\" >0.9652</td>\n",
              "                        <td id=\"T_2b3e6252_7116_11ea_bafa_0242ac1c0002row4_col5\" class=\"data row4 col5\" >0.1061</td>\n",
              "                        <td id=\"T_2b3e6252_7116_11ea_bafa_0242ac1c0002row4_col6\" class=\"data row4 col6\" >0.0801</td>\n",
              "            </tr>\n",
              "            <tr>\n",
              "                        <th id=\"T_2b3e6252_7116_11ea_bafa_0242ac1c0002level0_row5\" class=\"row_heading level0 row5\" >5</th>\n",
              "                        <td id=\"T_2b3e6252_7116_11ea_bafa_0242ac1c0002row5_col0\" class=\"data row5 col0\" >Gradient Boosting Regressor</td>\n",
              "                        <td id=\"T_2b3e6252_7116_11ea_bafa_0242ac1c0002row5_col1\" class=\"data row5 col1\" >920.291</td>\n",
              "                        <td id=\"T_2b3e6252_7116_11ea_bafa_0242ac1c0002row5_col2\" class=\"data row5 col2\" >3.7643e+06</td>\n",
              "                        <td id=\"T_2b3e6252_7116_11ea_bafa_0242ac1c0002row5_col3\" class=\"data row5 col3\" >1901.18</td>\n",
              "                        <td id=\"T_2b3e6252_7116_11ea_bafa_0242ac1c0002row5_col4\" class=\"data row5 col4\" >0.9633</td>\n",
              "                        <td id=\"T_2b3e6252_7116_11ea_bafa_0242ac1c0002row5_col5\" class=\"data row5 col5\" >0.1024</td>\n",
              "                        <td id=\"T_2b3e6252_7116_11ea_bafa_0242ac1c0002row5_col6\" class=\"data row5 col6\" >0.077</td>\n",
              "            </tr>\n",
              "            <tr>\n",
              "                        <th id=\"T_2b3e6252_7116_11ea_bafa_0242ac1c0002level0_row6\" class=\"row_heading level0 row6\" >6</th>\n",
              "                        <td id=\"T_2b3e6252_7116_11ea_bafa_0242ac1c0002row6_col0\" class=\"data row6 col0\" >Decision Tree</td>\n",
              "                        <td id=\"T_2b3e6252_7116_11ea_bafa_0242ac1c0002row6_col1\" class=\"data row6 col1\" >1003.12</td>\n",
              "                        <td id=\"T_2b3e6252_7116_11ea_bafa_0242ac1c0002row6_col2\" class=\"data row6 col2\" >5.30562e+06</td>\n",
              "                        <td id=\"T_2b3e6252_7116_11ea_bafa_0242ac1c0002row6_col3\" class=\"data row6 col3\" >2228.73</td>\n",
              "                        <td id=\"T_2b3e6252_7116_11ea_bafa_0242ac1c0002row6_col4\" class=\"data row6 col4\" >0.9476</td>\n",
              "                        <td id=\"T_2b3e6252_7116_11ea_bafa_0242ac1c0002row6_col5\" class=\"data row6 col5\" >0.1083</td>\n",
              "                        <td id=\"T_2b3e6252_7116_11ea_bafa_0242ac1c0002row6_col6\" class=\"data row6 col6\" >0.0775</td>\n",
              "            </tr>\n",
              "            <tr>\n",
              "                        <th id=\"T_2b3e6252_7116_11ea_bafa_0242ac1c0002level0_row7\" class=\"row_heading level0 row7\" >7</th>\n",
              "                        <td id=\"T_2b3e6252_7116_11ea_bafa_0242ac1c0002row7_col0\" class=\"data row7 col0\" >Ridge Regression</td>\n",
              "                        <td id=\"T_2b3e6252_7116_11ea_bafa_0242ac1c0002row7_col1\" class=\"data row7 col1\" >2413.57</td>\n",
              "                        <td id=\"T_2b3e6252_7116_11ea_bafa_0242ac1c0002row7_col2\" class=\"data row7 col2\" >1.41205e+07</td>\n",
              "                        <td id=\"T_2b3e6252_7116_11ea_bafa_0242ac1c0002row7_col3\" class=\"data row7 col3\" >3726.16</td>\n",
              "                        <td id=\"T_2b3e6252_7116_11ea_bafa_0242ac1c0002row7_col4\" class=\"data row7 col4\" >0.8621</td>\n",
              "                        <td id=\"T_2b3e6252_7116_11ea_bafa_0242ac1c0002row7_col5\" class=\"data row7 col5\" >0.6689</td>\n",
              "                        <td id=\"T_2b3e6252_7116_11ea_bafa_0242ac1c0002row7_col6\" class=\"data row7 col6\" >0.2875</td>\n",
              "            </tr>\n",
              "            <tr>\n",
              "                        <th id=\"T_2b3e6252_7116_11ea_bafa_0242ac1c0002level0_row8\" class=\"row_heading level0 row8\" >8</th>\n",
              "                        <td id=\"T_2b3e6252_7116_11ea_bafa_0242ac1c0002row8_col0\" class=\"data row8 col0\" >Lasso Regression</td>\n",
              "                        <td id=\"T_2b3e6252_7116_11ea_bafa_0242ac1c0002row8_col1\" class=\"data row8 col1\" >2412.19</td>\n",
              "                        <td id=\"T_2b3e6252_7116_11ea_bafa_0242ac1c0002row8_col2\" class=\"data row8 col2\" >1.42468e+07</td>\n",
              "                        <td id=\"T_2b3e6252_7116_11ea_bafa_0242ac1c0002row8_col3\" class=\"data row8 col3\" >3744.23</td>\n",
              "                        <td id=\"T_2b3e6252_7116_11ea_bafa_0242ac1c0002row8_col4\" class=\"data row8 col4\" >0.8608</td>\n",
              "                        <td id=\"T_2b3e6252_7116_11ea_bafa_0242ac1c0002row8_col5\" class=\"data row8 col5\" >0.6767</td>\n",
              "                        <td id=\"T_2b3e6252_7116_11ea_bafa_0242ac1c0002row8_col6\" class=\"data row8 col6\" >0.2866</td>\n",
              "            </tr>\n",
              "            <tr>\n",
              "                        <th id=\"T_2b3e6252_7116_11ea_bafa_0242ac1c0002level0_row9\" class=\"row_heading level0 row9\" >9</th>\n",
              "                        <td id=\"T_2b3e6252_7116_11ea_bafa_0242ac1c0002row9_col0\" class=\"data row9 col0\" >Least Angle Regression</td>\n",
              "                        <td id=\"T_2b3e6252_7116_11ea_bafa_0242ac1c0002row9_col1\" class=\"data row9 col1\" >2414.3</td>\n",
              "                        <td id=\"T_2b3e6252_7116_11ea_bafa_0242ac1c0002row9_col2\" class=\"data row9 col2\" >1.42432e+07</td>\n",
              "                        <td id=\"T_2b3e6252_7116_11ea_bafa_0242ac1c0002row9_col3\" class=\"data row9 col3\" >3744.16</td>\n",
              "                        <td id=\"T_2b3e6252_7116_11ea_bafa_0242ac1c0002row9_col4\" class=\"data row9 col4\" >0.8607</td>\n",
              "                        <td id=\"T_2b3e6252_7116_11ea_bafa_0242ac1c0002row9_col5\" class=\"data row9 col5\" >0.6682</td>\n",
              "                        <td id=\"T_2b3e6252_7116_11ea_bafa_0242ac1c0002row9_col6\" class=\"data row9 col6\" >0.2871</td>\n",
              "            </tr>\n",
              "            <tr>\n",
              "                        <th id=\"T_2b3e6252_7116_11ea_bafa_0242ac1c0002level0_row10\" class=\"row_heading level0 row10\" >10</th>\n",
              "                        <td id=\"T_2b3e6252_7116_11ea_bafa_0242ac1c0002row10_col0\" class=\"data row10 col0\" >Lasso Least Angle Regression</td>\n",
              "                        <td id=\"T_2b3e6252_7116_11ea_bafa_0242ac1c0002row10_col1\" class=\"data row10 col1\" >2355.61</td>\n",
              "                        <td id=\"T_2b3e6252_7116_11ea_bafa_0242ac1c0002row10_col2\" class=\"data row10 col2\" >1.4272e+07</td>\n",
              "                        <td id=\"T_2b3e6252_7116_11ea_bafa_0242ac1c0002row10_col3\" class=\"data row10 col3\" >3745.31</td>\n",
              "                        <td id=\"T_2b3e6252_7116_11ea_bafa_0242ac1c0002row10_col4\" class=\"data row10 col4\" >0.8607</td>\n",
              "                        <td id=\"T_2b3e6252_7116_11ea_bafa_0242ac1c0002row10_col5\" class=\"data row10 col5\" >0.6391</td>\n",
              "                        <td id=\"T_2b3e6252_7116_11ea_bafa_0242ac1c0002row10_col6\" class=\"data row10 col6\" >0.2728</td>\n",
              "            </tr>\n",
              "            <tr>\n",
              "                        <th id=\"T_2b3e6252_7116_11ea_bafa_0242ac1c0002level0_row11\" class=\"row_heading level0 row11\" >11</th>\n",
              "                        <td id=\"T_2b3e6252_7116_11ea_bafa_0242ac1c0002row11_col0\" class=\"data row11 col0\" >Bayesian Ridge</td>\n",
              "                        <td id=\"T_2b3e6252_7116_11ea_bafa_0242ac1c0002row11_col1\" class=\"data row11 col1\" >2415.8</td>\n",
              "                        <td id=\"T_2b3e6252_7116_11ea_bafa_0242ac1c0002row11_col2\" class=\"data row11 col2\" >1.42708e+07</td>\n",
              "                        <td id=\"T_2b3e6252_7116_11ea_bafa_0242ac1c0002row11_col3\" class=\"data row11 col3\" >3746.99</td>\n",
              "                        <td id=\"T_2b3e6252_7116_11ea_bafa_0242ac1c0002row11_col4\" class=\"data row11 col4\" >0.8606</td>\n",
              "                        <td id=\"T_2b3e6252_7116_11ea_bafa_0242ac1c0002row11_col5\" class=\"data row11 col5\" >0.6696</td>\n",
              "                        <td id=\"T_2b3e6252_7116_11ea_bafa_0242ac1c0002row11_col6\" class=\"data row11 col6\" >0.2873</td>\n",
              "            </tr>\n",
              "            <tr>\n",
              "                        <th id=\"T_2b3e6252_7116_11ea_bafa_0242ac1c0002level0_row12\" class=\"row_heading level0 row12\" >12</th>\n",
              "                        <td id=\"T_2b3e6252_7116_11ea_bafa_0242ac1c0002row12_col0\" class=\"data row12 col0\" >Linear Regression</td>\n",
              "                        <td id=\"T_2b3e6252_7116_11ea_bafa_0242ac1c0002row12_col1\" class=\"data row12 col1\" >2472.75</td>\n",
              "                        <td id=\"T_2b3e6252_7116_11ea_bafa_0242ac1c0002row12_col2\" class=\"data row12 col2\" >1.45804e+07</td>\n",
              "                        <td id=\"T_2b3e6252_7116_11ea_bafa_0242ac1c0002row12_col3\" class=\"data row12 col3\" >3787.32</td>\n",
              "                        <td id=\"T_2b3e6252_7116_11ea_bafa_0242ac1c0002row12_col4\" class=\"data row12 col4\" >0.8575</td>\n",
              "                        <td id=\"T_2b3e6252_7116_11ea_bafa_0242ac1c0002row12_col5\" class=\"data row12 col5\" >0.6877</td>\n",
              "                        <td id=\"T_2b3e6252_7116_11ea_bafa_0242ac1c0002row12_col6\" class=\"data row12 col6\" >0.2941</td>\n",
              "            </tr>\n",
              "            <tr>\n",
              "                        <th id=\"T_2b3e6252_7116_11ea_bafa_0242ac1c0002level0_row13\" class=\"row_heading level0 row13\" >13</th>\n",
              "                        <td id=\"T_2b3e6252_7116_11ea_bafa_0242ac1c0002row13_col0\" class=\"data row13 col0\" >TheilSen Regressor</td>\n",
              "                        <td id=\"T_2b3e6252_7116_11ea_bafa_0242ac1c0002row13_col1\" class=\"data row13 col1\" >2130.78</td>\n",
              "                        <td id=\"T_2b3e6252_7116_11ea_bafa_0242ac1c0002row13_col2\" class=\"data row13 col2\" >1.60278e+07</td>\n",
              "                        <td id=\"T_2b3e6252_7116_11ea_bafa_0242ac1c0002row13_col3\" class=\"data row13 col3\" >3942.55</td>\n",
              "                        <td id=\"T_2b3e6252_7116_11ea_bafa_0242ac1c0002row13_col4\" class=\"data row13 col4\" >0.8459</td>\n",
              "                        <td id=\"T_2b3e6252_7116_11ea_bafa_0242ac1c0002row13_col5\" class=\"data row13 col5\" >0.4814</td>\n",
              "                        <td id=\"T_2b3e6252_7116_11ea_bafa_0242ac1c0002row13_col6\" class=\"data row13 col6\" >0.2173</td>\n",
              "            </tr>\n",
              "            <tr>\n",
              "                        <th id=\"T_2b3e6252_7116_11ea_bafa_0242ac1c0002level0_row14\" class=\"row_heading level0 row14\" >14</th>\n",
              "                        <td id=\"T_2b3e6252_7116_11ea_bafa_0242ac1c0002row14_col0\" class=\"data row14 col0\" >Random Sample Consensus</td>\n",
              "                        <td id=\"T_2b3e6252_7116_11ea_bafa_0242ac1c0002row14_col1\" class=\"data row14 col1\" >2055.22</td>\n",
              "                        <td id=\"T_2b3e6252_7116_11ea_bafa_0242ac1c0002row14_col2\" class=\"data row14 col2\" >1.66274e+07</td>\n",
              "                        <td id=\"T_2b3e6252_7116_11ea_bafa_0242ac1c0002row14_col3\" class=\"data row14 col3\" >4036.4</td>\n",
              "                        <td id=\"T_2b3e6252_7116_11ea_bafa_0242ac1c0002row14_col4\" class=\"data row14 col4\" >0.8384</td>\n",
              "                        <td id=\"T_2b3e6252_7116_11ea_bafa_0242ac1c0002row14_col5\" class=\"data row14 col5\" >0.4694</td>\n",
              "                        <td id=\"T_2b3e6252_7116_11ea_bafa_0242ac1c0002row14_col6\" class=\"data row14 col6\" >0.2018</td>\n",
              "            </tr>\n",
              "            <tr>\n",
              "                        <th id=\"T_2b3e6252_7116_11ea_bafa_0242ac1c0002level0_row15\" class=\"row_heading level0 row15\" >15</th>\n",
              "                        <td id=\"T_2b3e6252_7116_11ea_bafa_0242ac1c0002row15_col0\" class=\"data row15 col0\" >Huber Regressor</td>\n",
              "                        <td id=\"T_2b3e6252_7116_11ea_bafa_0242ac1c0002row15_col1\" class=\"data row15 col1\" >1936.02</td>\n",
              "                        <td id=\"T_2b3e6252_7116_11ea_bafa_0242ac1c0002row15_col2\" class=\"data row15 col2\" >1.85883e+07</td>\n",
              "                        <td id=\"T_2b3e6252_7116_11ea_bafa_0242ac1c0002row15_col3\" class=\"data row15 col3\" >4251.78</td>\n",
              "                        <td id=\"T_2b3e6252_7116_11ea_bafa_0242ac1c0002row15_col4\" class=\"data row15 col4\" >0.821</td>\n",
              "                        <td id=\"T_2b3e6252_7116_11ea_bafa_0242ac1c0002row15_col5\" class=\"data row15 col5\" >0.4334</td>\n",
              "                        <td id=\"T_2b3e6252_7116_11ea_bafa_0242ac1c0002row15_col6\" class=\"data row15 col6\" >0.1657</td>\n",
              "            </tr>\n",
              "            <tr>\n",
              "                        <th id=\"T_2b3e6252_7116_11ea_bafa_0242ac1c0002level0_row16\" class=\"row_heading level0 row16\" >16</th>\n",
              "                        <td id=\"T_2b3e6252_7116_11ea_bafa_0242ac1c0002row16_col0\" class=\"data row16 col0\" >Passive Aggressive Regressor</td>\n",
              "                        <td id=\"T_2b3e6252_7116_11ea_bafa_0242ac1c0002row16_col1\" class=\"data row16 col1\" >1944.16</td>\n",
              "                        <td id=\"T_2b3e6252_7116_11ea_bafa_0242ac1c0002row16_col2\" class=\"data row16 col2\" >1.99557e+07</td>\n",
              "                        <td id=\"T_2b3e6252_7116_11ea_bafa_0242ac1c0002row16_col3\" class=\"data row16 col3\" >4400.21</td>\n",
              "                        <td id=\"T_2b3e6252_7116_11ea_bafa_0242ac1c0002row16_col4\" class=\"data row16 col4\" >0.8083</td>\n",
              "                        <td id=\"T_2b3e6252_7116_11ea_bafa_0242ac1c0002row16_col5\" class=\"data row16 col5\" >0.4317</td>\n",
              "                        <td id=\"T_2b3e6252_7116_11ea_bafa_0242ac1c0002row16_col6\" class=\"data row16 col6\" >0.1594</td>\n",
              "            </tr>\n",
              "            <tr>\n",
              "                        <th id=\"T_2b3e6252_7116_11ea_bafa_0242ac1c0002level0_row17\" class=\"row_heading level0 row17\" >17</th>\n",
              "                        <td id=\"T_2b3e6252_7116_11ea_bafa_0242ac1c0002row17_col0\" class=\"data row17 col0\" >Orthogonal Matching Pursuit</td>\n",
              "                        <td id=\"T_2b3e6252_7116_11ea_bafa_0242ac1c0002row17_col1\" class=\"data row17 col1\" >2792.73</td>\n",
              "                        <td id=\"T_2b3e6252_7116_11ea_bafa_0242ac1c0002row17_col2\" class=\"data row17 col2\" >2.37287e+07</td>\n",
              "                        <td id=\"T_2b3e6252_7116_11ea_bafa_0242ac1c0002row17_col3\" class=\"data row17 col3\" >4829.32</td>\n",
              "                        <td id=\"T_2b3e6252_7116_11ea_bafa_0242ac1c0002row17_col4\" class=\"data row17 col4\" >0.7678</td>\n",
              "                        <td id=\"T_2b3e6252_7116_11ea_bafa_0242ac1c0002row17_col5\" class=\"data row17 col5\" >0.5818</td>\n",
              "                        <td id=\"T_2b3e6252_7116_11ea_bafa_0242ac1c0002row17_col6\" class=\"data row17 col6\" >0.2654</td>\n",
              "            </tr>\n",
              "            <tr>\n",
              "                        <th id=\"T_2b3e6252_7116_11ea_bafa_0242ac1c0002level0_row18\" class=\"row_heading level0 row18\" >18</th>\n",
              "                        <td id=\"T_2b3e6252_7116_11ea_bafa_0242ac1c0002row18_col0\" class=\"data row18 col0\" >AdaBoost Regressor</td>\n",
              "                        <td id=\"T_2b3e6252_7116_11ea_bafa_0242ac1c0002row18_col1\" class=\"data row18 col1\" >4232.22</td>\n",
              "                        <td id=\"T_2b3e6252_7116_11ea_bafa_0242ac1c0002row18_col2\" class=\"data row18 col2\" >2.52014e+07</td>\n",
              "                        <td id=\"T_2b3e6252_7116_11ea_bafa_0242ac1c0002row18_col3\" class=\"data row18 col3\" >5012.42</td>\n",
              "                        <td id=\"T_2b3e6252_7116_11ea_bafa_0242ac1c0002row18_col4\" class=\"data row18 col4\" >0.7467</td>\n",
              "                        <td id=\"T_2b3e6252_7116_11ea_bafa_0242ac1c0002row18_col5\" class=\"data row18 col5\" >0.5102</td>\n",
              "                        <td id=\"T_2b3e6252_7116_11ea_bafa_0242ac1c0002row18_col6\" class=\"data row18 col6\" >0.597</td>\n",
              "            </tr>\n",
              "            <tr>\n",
              "                        <th id=\"T_2b3e6252_7116_11ea_bafa_0242ac1c0002level0_row19\" class=\"row_heading level0 row19\" >19</th>\n",
              "                        <td id=\"T_2b3e6252_7116_11ea_bafa_0242ac1c0002row19_col0\" class=\"data row19 col0\" >K Neighbors Regressor</td>\n",
              "                        <td id=\"T_2b3e6252_7116_11ea_bafa_0242ac1c0002row19_col1\" class=\"data row19 col1\" >2967.05</td>\n",
              "                        <td id=\"T_2b3e6252_7116_11ea_bafa_0242ac1c0002row19_col2\" class=\"data row19 col2\" >2.96249e+07</td>\n",
              "                        <td id=\"T_2b3e6252_7116_11ea_bafa_0242ac1c0002row19_col3\" class=\"data row19 col3\" >5421.44</td>\n",
              "                        <td id=\"T_2b3e6252_7116_11ea_bafa_0242ac1c0002row19_col4\" class=\"data row19 col4\" >0.7051</td>\n",
              "                        <td id=\"T_2b3e6252_7116_11ea_bafa_0242ac1c0002row19_col5\" class=\"data row19 col5\" >0.3663</td>\n",
              "                        <td id=\"T_2b3e6252_7116_11ea_bafa_0242ac1c0002row19_col6\" class=\"data row19 col6\" >0.2728</td>\n",
              "            </tr>\n",
              "            <tr>\n",
              "                        <th id=\"T_2b3e6252_7116_11ea_bafa_0242ac1c0002level0_row20\" class=\"row_heading level0 row20\" >20</th>\n",
              "                        <td id=\"T_2b3e6252_7116_11ea_bafa_0242ac1c0002row20_col0\" class=\"data row20 col0\" >Elastic Net</td>\n",
              "                        <td id=\"T_2b3e6252_7116_11ea_bafa_0242ac1c0002row20_col1\" class=\"data row20 col1\" >5029.59</td>\n",
              "                        <td id=\"T_2b3e6252_7116_11ea_bafa_0242ac1c0002row20_col2\" class=\"data row20 col2\" >5.63998e+07</td>\n",
              "                        <td id=\"T_2b3e6252_7116_11ea_bafa_0242ac1c0002row20_col3\" class=\"data row20 col3\" >7467.66</td>\n",
              "                        <td id=\"T_2b3e6252_7116_11ea_bafa_0242ac1c0002row20_col4\" class=\"data row20 col4\" >0.4472</td>\n",
              "                        <td id=\"T_2b3e6252_7116_11ea_bafa_0242ac1c0002row20_col5\" class=\"data row20 col5\" >0.5369</td>\n",
              "                        <td id=\"T_2b3e6252_7116_11ea_bafa_0242ac1c0002row20_col6\" class=\"data row20 col6\" >0.5845</td>\n",
              "            </tr>\n",
              "            <tr>\n",
              "                        <th id=\"T_2b3e6252_7116_11ea_bafa_0242ac1c0002level0_row21\" class=\"row_heading level0 row21\" >21</th>\n",
              "                        <td id=\"T_2b3e6252_7116_11ea_bafa_0242ac1c0002row21_col0\" class=\"data row21 col0\" >Support Vector Machine</td>\n",
              "                        <td id=\"T_2b3e6252_7116_11ea_bafa_0242ac1c0002row21_col1\" class=\"data row21 col1\" >6438.09</td>\n",
              "                        <td id=\"T_2b3e6252_7116_11ea_bafa_0242ac1c0002row21_col2\" class=\"data row21 col2\" >1.15316e+08</td>\n",
              "                        <td id=\"T_2b3e6252_7116_11ea_bafa_0242ac1c0002row21_col3\" class=\"data row21 col3\" >10710.4</td>\n",
              "                        <td id=\"T_2b3e6252_7116_11ea_bafa_0242ac1c0002row21_col4\" class=\"data row21 col4\" >-0.1422</td>\n",
              "                        <td id=\"T_2b3e6252_7116_11ea_bafa_0242ac1c0002row21_col5\" class=\"data row21 col5\" >0.7137</td>\n",
              "                        <td id=\"T_2b3e6252_7116_11ea_bafa_0242ac1c0002row21_col6\" class=\"data row21 col6\" >0.5281</td>\n",
              "            </tr>\n",
              "    </tbody></table>"
            ],
            "text/plain": [
              "<pandas.io.formats.style.Styler at 0x7fbcb5f32a20>"
            ]
          },
          "metadata": {
            "tags": []
          },
          "execution_count": 6
        }
      ]
    },
    {
      "cell_type": "markdown",
      "metadata": {
        "id": "epD0BEVyzZrr"
      },
      "source": [
        "Two simple words of code ***(not even a line)*** have created over 22 models using 10 fold cross validation and evaluated the 6 most commonly use regression metrics (MAE, MSE, RMSE, R2, RMSLE and MAPE). The score grid printed above highlights the highest performing metric for comparison purposes only. The grid by default is sorted using `R2` (highest to lowest) which can be changed by passing `sort` parameter. For example `compare_models(sort = 'RMSLE')` will sort the grid by RMSLE (lower to higher since lower is better). If you want to change the fold parameter from the default value of `10` to a different value then you can use the `fold` parameter. For example `compare_models(fold = 5)` will compare all models on 5 fold cross validation. Reducing the number of folds will improve the training time."
      ]
    },
    {
      "cell_type": "markdown",
      "metadata": {
        "id": "ZzpBazV1zZrx"
      },
      "source": [
        "# 8.0 Create a Model"
      ]
    },
    {
      "cell_type": "markdown",
      "metadata": {
        "id": "IPqPRp5OzZr1"
      },
      "source": [
        "While `compare_models()` is a powerful function and often a starting point in any experiment, it does not return any trained models. PyCaret's recommended experiment workflow is to use `compare_models()` right after setup to evaluate top performing models and finalize a few candidates for continued experimentation. As such, the function that actually allows to you create a model is unimaginatively called `create_model()`. This function creates a model and scores it using stratified cross validation. Similar to `compare_models()`, the output prints a score grid that shows MAE, MSE, RMSE, R2, RMSLE and MAPE by fold. \n",
        "\n",
        "For the remaining part of this tutorial, we will work with the below models as our candidate models. The selections are for illustration purposes only and do not necessarily mean they are the top performing or ideal for this type of data.\n",
        "\n",
        "- AdaBoost Regressor ('ada')\n",
        "- Light Gradient Boosting Machine ('lightgbm') \n",
        "- Decision Tree\t ('dt')\n",
        "\n",
        "There are 25 regressors available in the model library of PyCaret. Please view the `create_model()` docstring for the list of all available models."
      ]
    },
    {
      "cell_type": "markdown",
      "metadata": {
        "id": "wxKHHQcbzZr5"
      },
      "source": [
        "### 8.1 AdaBoost Regressor"
      ]
    },
    {
      "cell_type": "code",
      "metadata": {
        "id": "-NVGDCR3zZr8",
        "outputId": "bfd8af23-1506-4100-9d3b-5d9b7f40ec5b",
        "colab": {
          "base_uri": "https://localhost:8080/",
          "height": 402
        }
      },
      "source": [
        "ada = create_model('ada')"
      ],
      "execution_count": null,
      "outputs": [
        {
          "output_type": "display_data",
          "data": {
            "text/html": [
              "<div>\n",
              "<style scoped>\n",
              "    .dataframe tbody tr th:only-of-type {\n",
              "        vertical-align: middle;\n",
              "    }\n",
              "\n",
              "    .dataframe tbody tr th {\n",
              "        vertical-align: top;\n",
              "    }\n",
              "\n",
              "    .dataframe thead th {\n",
              "        text-align: right;\n",
              "    }\n",
              "</style>\n",
              "<table border=\"1\" class=\"dataframe\">\n",
              "  <thead>\n",
              "    <tr style=\"text-align: right;\">\n",
              "      <th></th>\n",
              "      <th>MAE</th>\n",
              "      <th>MSE</th>\n",
              "      <th>RMSE</th>\n",
              "      <th>R2</th>\n",
              "      <th>RMSLE</th>\n",
              "      <th>MAPE</th>\n",
              "    </tr>\n",
              "  </thead>\n",
              "  <tbody>\n",
              "    <tr>\n",
              "      <th>0</th>\n",
              "      <td>4101.8809</td>\n",
              "      <td>2.301383e+07</td>\n",
              "      <td>4797.2732</td>\n",
              "      <td>0.7473</td>\n",
              "      <td>0.4758</td>\n",
              "      <td>0.5470</td>\n",
              "    </tr>\n",
              "    <tr>\n",
              "      <th>1</th>\n",
              "      <td>4251.5693</td>\n",
              "      <td>2.929675e+07</td>\n",
              "      <td>5412.6474</td>\n",
              "      <td>0.7755</td>\n",
              "      <td>0.4940</td>\n",
              "      <td>0.5702</td>\n",
              "    </tr>\n",
              "    <tr>\n",
              "      <th>2</th>\n",
              "      <td>4047.8474</td>\n",
              "      <td>2.229166e+07</td>\n",
              "      <td>4721.4045</td>\n",
              "      <td>0.7955</td>\n",
              "      <td>0.5068</td>\n",
              "      <td>0.5871</td>\n",
              "    </tr>\n",
              "    <tr>\n",
              "      <th>3</th>\n",
              "      <td>4298.3867</td>\n",
              "      <td>2.348278e+07</td>\n",
              "      <td>4845.9038</td>\n",
              "      <td>0.7409</td>\n",
              "      <td>0.5089</td>\n",
              "      <td>0.5960</td>\n",
              "    </tr>\n",
              "    <tr>\n",
              "      <th>4</th>\n",
              "      <td>3888.5584</td>\n",
              "      <td>2.446181e+07</td>\n",
              "      <td>4945.8880</td>\n",
              "      <td>0.6949</td>\n",
              "      <td>0.4764</td>\n",
              "      <td>0.5461</td>\n",
              "    </tr>\n",
              "    <tr>\n",
              "      <th>5</th>\n",
              "      <td>4566.4889</td>\n",
              "      <td>2.973391e+07</td>\n",
              "      <td>5452.8813</td>\n",
              "      <td>0.7462</td>\n",
              "      <td>0.5462</td>\n",
              "      <td>0.6598</td>\n",
              "    </tr>\n",
              "    <tr>\n",
              "      <th>6</th>\n",
              "      <td>4628.7271</td>\n",
              "      <td>2.784109e+07</td>\n",
              "      <td>5276.4659</td>\n",
              "      <td>0.7384</td>\n",
              "      <td>0.5549</td>\n",
              "      <td>0.6676</td>\n",
              "    </tr>\n",
              "    <tr>\n",
              "      <th>7</th>\n",
              "      <td>4316.4317</td>\n",
              "      <td>2.597975e+07</td>\n",
              "      <td>5097.0336</td>\n",
              "      <td>0.6715</td>\n",
              "      <td>0.5034</td>\n",
              "      <td>0.5858</td>\n",
              "    </tr>\n",
              "    <tr>\n",
              "      <th>8</th>\n",
              "      <td>3931.2163</td>\n",
              "      <td>2.109707e+07</td>\n",
              "      <td>4593.1549</td>\n",
              "      <td>0.7928</td>\n",
              "      <td>0.4858</td>\n",
              "      <td>0.5513</td>\n",
              "    </tr>\n",
              "    <tr>\n",
              "      <th>9</th>\n",
              "      <td>4291.1097</td>\n",
              "      <td>2.481557e+07</td>\n",
              "      <td>4981.5225</td>\n",
              "      <td>0.7637</td>\n",
              "      <td>0.5495</td>\n",
              "      <td>0.6592</td>\n",
              "    </tr>\n",
              "    <tr>\n",
              "      <th>Mean</th>\n",
              "      <td>4232.2217</td>\n",
              "      <td>2.520142e+07</td>\n",
              "      <td>5012.4175</td>\n",
              "      <td>0.7467</td>\n",
              "      <td>0.5102</td>\n",
              "      <td>0.5970</td>\n",
              "    </tr>\n",
              "    <tr>\n",
              "      <th>SD</th>\n",
              "      <td>233.2282</td>\n",
              "      <td>2.804219e+06</td>\n",
              "      <td>277.6577</td>\n",
              "      <td>0.0375</td>\n",
              "      <td>0.0284</td>\n",
              "      <td>0.0457</td>\n",
              "    </tr>\n",
              "  </tbody>\n",
              "</table>\n",
              "</div>"
            ],
            "text/plain": [
              "            MAE           MSE       RMSE      R2   RMSLE    MAPE\n",
              "0     4101.8809  2.301383e+07  4797.2732  0.7473  0.4758  0.5470\n",
              "1     4251.5693  2.929675e+07  5412.6474  0.7755  0.4940  0.5702\n",
              "2     4047.8474  2.229166e+07  4721.4045  0.7955  0.5068  0.5871\n",
              "3     4298.3867  2.348278e+07  4845.9038  0.7409  0.5089  0.5960\n",
              "4     3888.5584  2.446181e+07  4945.8880  0.6949  0.4764  0.5461\n",
              "5     4566.4889  2.973391e+07  5452.8813  0.7462  0.5462  0.6598\n",
              "6     4628.7271  2.784109e+07  5276.4659  0.7384  0.5549  0.6676\n",
              "7     4316.4317  2.597975e+07  5097.0336  0.6715  0.5034  0.5858\n",
              "8     3931.2163  2.109707e+07  4593.1549  0.7928  0.4858  0.5513\n",
              "9     4291.1097  2.481557e+07  4981.5225  0.7637  0.5495  0.6592\n",
              "Mean  4232.2217  2.520142e+07  5012.4175  0.7467  0.5102  0.5970\n",
              "SD     233.2282  2.804219e+06   277.6577  0.0375  0.0284  0.0457"
            ]
          },
          "metadata": {
            "tags": []
          }
        }
      ]
    },
    {
      "cell_type": "code",
      "metadata": {
        "id": "NHL2zciizZsI",
        "outputId": "86159b18-6ed1-4609-cef2-162ab769b676",
        "colab": {
          "base_uri": "https://localhost:8080/",
          "height": 50
        }
      },
      "source": [
        "#trained model object is stored in the variable 'dt'. \n",
        "print(ada)"
      ],
      "execution_count": null,
      "outputs": [
        {
          "output_type": "stream",
          "text": [
            "AdaBoostRegressor(base_estimator=None, learning_rate=1.0, loss='linear',\n",
            "                  n_estimators=50, random_state=123)\n"
          ],
          "name": "stdout"
        }
      ]
    },
    {
      "cell_type": "markdown",
      "metadata": {
        "id": "T-dvDHxCzZsU"
      },
      "source": [
        "### 8.2 Light Gradient Boosting Machine "
      ]
    },
    {
      "cell_type": "code",
      "metadata": {
        "id": "NC7OVDVrzZsX",
        "outputId": "c9916dd8-3e73-4a13-f0b2-9f447ca0346c",
        "colab": {
          "base_uri": "https://localhost:8080/",
          "height": 402
        }
      },
      "source": [
        "lightgbm = create_model('lightgbm')"
      ],
      "execution_count": null,
      "outputs": [
        {
          "output_type": "display_data",
          "data": {
            "text/html": [
              "<div>\n",
              "<style scoped>\n",
              "    .dataframe tbody tr th:only-of-type {\n",
              "        vertical-align: middle;\n",
              "    }\n",
              "\n",
              "    .dataframe tbody tr th {\n",
              "        vertical-align: top;\n",
              "    }\n",
              "\n",
              "    .dataframe thead th {\n",
              "        text-align: right;\n",
              "    }\n",
              "</style>\n",
              "<table border=\"1\" class=\"dataframe\">\n",
              "  <thead>\n",
              "    <tr style=\"text-align: right;\">\n",
              "      <th></th>\n",
              "      <th>MAE</th>\n",
              "      <th>MSE</th>\n",
              "      <th>RMSE</th>\n",
              "      <th>R2</th>\n",
              "      <th>RMSLE</th>\n",
              "      <th>MAPE</th>\n",
              "    </tr>\n",
              "  </thead>\n",
              "  <tbody>\n",
              "    <tr>\n",
              "      <th>0</th>\n",
              "      <td>625.1813</td>\n",
              "      <td>1.051763e+06</td>\n",
              "      <td>1025.5550</td>\n",
              "      <td>0.9885</td>\n",
              "      <td>0.0715</td>\n",
              "      <td>0.0526</td>\n",
              "    </tr>\n",
              "    <tr>\n",
              "      <th>1</th>\n",
              "      <td>797.6185</td>\n",
              "      <td>5.638866e+06</td>\n",
              "      <td>2374.6297</td>\n",
              "      <td>0.9568</td>\n",
              "      <td>0.0727</td>\n",
              "      <td>0.0537</td>\n",
              "    </tr>\n",
              "    <tr>\n",
              "      <th>2</th>\n",
              "      <td>825.0215</td>\n",
              "      <td>3.318727e+06</td>\n",
              "      <td>1821.7374</td>\n",
              "      <td>0.9696</td>\n",
              "      <td>0.0857</td>\n",
              "      <td>0.0616</td>\n",
              "    </tr>\n",
              "    <tr>\n",
              "      <th>3</th>\n",
              "      <td>720.3923</td>\n",
              "      <td>1.697211e+06</td>\n",
              "      <td>1302.7707</td>\n",
              "      <td>0.9813</td>\n",
              "      <td>0.0714</td>\n",
              "      <td>0.0554</td>\n",
              "    </tr>\n",
              "    <tr>\n",
              "      <th>4</th>\n",
              "      <td>645.6800</td>\n",
              "      <td>1.799949e+06</td>\n",
              "      <td>1341.6218</td>\n",
              "      <td>0.9775</td>\n",
              "      <td>0.0745</td>\n",
              "      <td>0.0534</td>\n",
              "    </tr>\n",
              "    <tr>\n",
              "      <th>5</th>\n",
              "      <td>830.7176</td>\n",
              "      <td>6.423604e+06</td>\n",
              "      <td>2534.4830</td>\n",
              "      <td>0.9452</td>\n",
              "      <td>0.0810</td>\n",
              "      <td>0.0567</td>\n",
              "    </tr>\n",
              "    <tr>\n",
              "      <th>6</th>\n",
              "      <td>800.2611</td>\n",
              "      <td>3.355856e+06</td>\n",
              "      <td>1831.8996</td>\n",
              "      <td>0.9685</td>\n",
              "      <td>0.0793</td>\n",
              "      <td>0.0585</td>\n",
              "    </tr>\n",
              "    <tr>\n",
              "      <th>7</th>\n",
              "      <td>714.3607</td>\n",
              "      <td>1.930223e+06</td>\n",
              "      <td>1389.3245</td>\n",
              "      <td>0.9756</td>\n",
              "      <td>0.0732</td>\n",
              "      <td>0.0556</td>\n",
              "    </tr>\n",
              "    <tr>\n",
              "      <th>8</th>\n",
              "      <td>784.7648</td>\n",
              "      <td>2.211933e+06</td>\n",
              "      <td>1487.2569</td>\n",
              "      <td>0.9783</td>\n",
              "      <td>0.0766</td>\n",
              "      <td>0.0582</td>\n",
              "    </tr>\n",
              "    <tr>\n",
              "      <th>9</th>\n",
              "      <td>778.3590</td>\n",
              "      <td>3.127561e+06</td>\n",
              "      <td>1768.4913</td>\n",
              "      <td>0.9702</td>\n",
              "      <td>0.0872</td>\n",
              "      <td>0.0609</td>\n",
              "    </tr>\n",
              "    <tr>\n",
              "      <th>Mean</th>\n",
              "      <td>752.2357</td>\n",
              "      <td>3.055569e+06</td>\n",
              "      <td>1687.7770</td>\n",
              "      <td>0.9711</td>\n",
              "      <td>0.0773</td>\n",
              "      <td>0.0567</td>\n",
              "    </tr>\n",
              "    <tr>\n",
              "      <th>SD</th>\n",
              "      <td>68.9270</td>\n",
              "      <td>1.661228e+06</td>\n",
              "      <td>454.9486</td>\n",
              "      <td>0.0119</td>\n",
              "      <td>0.0055</td>\n",
              "      <td>0.0029</td>\n",
              "    </tr>\n",
              "  </tbody>\n",
              "</table>\n",
              "</div>"
            ],
            "text/plain": [
              "           MAE           MSE       RMSE      R2   RMSLE    MAPE\n",
              "0     625.1813  1.051763e+06  1025.5550  0.9885  0.0715  0.0526\n",
              "1     797.6185  5.638866e+06  2374.6297  0.9568  0.0727  0.0537\n",
              "2     825.0215  3.318727e+06  1821.7374  0.9696  0.0857  0.0616\n",
              "3     720.3923  1.697211e+06  1302.7707  0.9813  0.0714  0.0554\n",
              "4     645.6800  1.799949e+06  1341.6218  0.9775  0.0745  0.0534\n",
              "5     830.7176  6.423604e+06  2534.4830  0.9452  0.0810  0.0567\n",
              "6     800.2611  3.355856e+06  1831.8996  0.9685  0.0793  0.0585\n",
              "7     714.3607  1.930223e+06  1389.3245  0.9756  0.0732  0.0556\n",
              "8     784.7648  2.211933e+06  1487.2569  0.9783  0.0766  0.0582\n",
              "9     778.3590  3.127561e+06  1768.4913  0.9702  0.0872  0.0609\n",
              "Mean  752.2357  3.055569e+06  1687.7770  0.9711  0.0773  0.0567\n",
              "SD     68.9270  1.661228e+06   454.9486  0.0119  0.0055  0.0029"
            ]
          },
          "metadata": {
            "tags": []
          }
        }
      ]
    },
    {
      "cell_type": "markdown",
      "metadata": {
        "id": "j8DvIuOrzZsm"
      },
      "source": [
        "### 8.3 Decision Tree"
      ]
    },
    {
      "cell_type": "code",
      "metadata": {
        "id": "1Y_Czm6xzZsr",
        "outputId": "d8b75227-c351-40c1-b562-6cee6c68a065",
        "colab": {
          "base_uri": "https://localhost:8080/",
          "height": 402
        }
      },
      "source": [
        "dt = create_model('dt')"
      ],
      "execution_count": null,
      "outputs": [
        {
          "output_type": "display_data",
          "data": {
            "text/html": [
              "<div>\n",
              "<style scoped>\n",
              "    .dataframe tbody tr th:only-of-type {\n",
              "        vertical-align: middle;\n",
              "    }\n",
              "\n",
              "    .dataframe tbody tr th {\n",
              "        vertical-align: top;\n",
              "    }\n",
              "\n",
              "    .dataframe thead th {\n",
              "        text-align: right;\n",
              "    }\n",
              "</style>\n",
              "<table border=\"1\" class=\"dataframe\">\n",
              "  <thead>\n",
              "    <tr style=\"text-align: right;\">\n",
              "      <th></th>\n",
              "      <th>MAE</th>\n",
              "      <th>MSE</th>\n",
              "      <th>RMSE</th>\n",
              "      <th>R2</th>\n",
              "      <th>RMSLE</th>\n",
              "      <th>MAPE</th>\n",
              "    </tr>\n",
              "  </thead>\n",
              "  <tbody>\n",
              "    <tr>\n",
              "      <th>0</th>\n",
              "      <td>859.1907</td>\n",
              "      <td>2.456840e+06</td>\n",
              "      <td>1567.4310</td>\n",
              "      <td>0.9730</td>\n",
              "      <td>0.1016</td>\n",
              "      <td>0.0727</td>\n",
              "    </tr>\n",
              "    <tr>\n",
              "      <th>1</th>\n",
              "      <td>1122.9409</td>\n",
              "      <td>9.852564e+06</td>\n",
              "      <td>3138.8795</td>\n",
              "      <td>0.9245</td>\n",
              "      <td>0.1102</td>\n",
              "      <td>0.0758</td>\n",
              "    </tr>\n",
              "    <tr>\n",
              "      <th>2</th>\n",
              "      <td>911.3452</td>\n",
              "      <td>2.803663e+06</td>\n",
              "      <td>1674.4141</td>\n",
              "      <td>0.9743</td>\n",
              "      <td>0.0988</td>\n",
              "      <td>0.0729</td>\n",
              "    </tr>\n",
              "    <tr>\n",
              "      <th>3</th>\n",
              "      <td>1002.5575</td>\n",
              "      <td>3.926739e+06</td>\n",
              "      <td>1981.6002</td>\n",
              "      <td>0.9567</td>\n",
              "      <td>0.1049</td>\n",
              "      <td>0.0772</td>\n",
              "    </tr>\n",
              "    <tr>\n",
              "      <th>4</th>\n",
              "      <td>1167.8154</td>\n",
              "      <td>9.751516e+06</td>\n",
              "      <td>3122.7418</td>\n",
              "      <td>0.8784</td>\n",
              "      <td>0.1226</td>\n",
              "      <td>0.0876</td>\n",
              "    </tr>\n",
              "    <tr>\n",
              "      <th>5</th>\n",
              "      <td>1047.7778</td>\n",
              "      <td>7.833771e+06</td>\n",
              "      <td>2798.8874</td>\n",
              "      <td>0.9331</td>\n",
              "      <td>0.1128</td>\n",
              "      <td>0.0791</td>\n",
              "    </tr>\n",
              "    <tr>\n",
              "      <th>6</th>\n",
              "      <td>1010.0816</td>\n",
              "      <td>3.989282e+06</td>\n",
              "      <td>1997.3188</td>\n",
              "      <td>0.9625</td>\n",
              "      <td>0.1106</td>\n",
              "      <td>0.0803</td>\n",
              "    </tr>\n",
              "    <tr>\n",
              "      <th>7</th>\n",
              "      <td>846.8085</td>\n",
              "      <td>2.182535e+06</td>\n",
              "      <td>1477.3405</td>\n",
              "      <td>0.9724</td>\n",
              "      <td>0.0933</td>\n",
              "      <td>0.0709</td>\n",
              "    </tr>\n",
              "    <tr>\n",
              "      <th>8</th>\n",
              "      <td>1001.8451</td>\n",
              "      <td>4.904945e+06</td>\n",
              "      <td>2214.7111</td>\n",
              "      <td>0.9518</td>\n",
              "      <td>0.1053</td>\n",
              "      <td>0.0734</td>\n",
              "    </tr>\n",
              "    <tr>\n",
              "      <th>9</th>\n",
              "      <td>1060.8742</td>\n",
              "      <td>5.354348e+06</td>\n",
              "      <td>2313.9463</td>\n",
              "      <td>0.9490</td>\n",
              "      <td>0.1230</td>\n",
              "      <td>0.0847</td>\n",
              "    </tr>\n",
              "    <tr>\n",
              "      <th>Mean</th>\n",
              "      <td>1003.1237</td>\n",
              "      <td>5.305620e+06</td>\n",
              "      <td>2228.7271</td>\n",
              "      <td>0.9476</td>\n",
              "      <td>0.1083</td>\n",
              "      <td>0.0775</td>\n",
              "    </tr>\n",
              "    <tr>\n",
              "      <th>SD</th>\n",
              "      <td>100.2165</td>\n",
              "      <td>2.734195e+06</td>\n",
              "      <td>581.7181</td>\n",
              "      <td>0.0280</td>\n",
              "      <td>0.0091</td>\n",
              "      <td>0.0052</td>\n",
              "    </tr>\n",
              "  </tbody>\n",
              "</table>\n",
              "</div>"
            ],
            "text/plain": [
              "            MAE           MSE       RMSE      R2   RMSLE    MAPE\n",
              "0      859.1907  2.456840e+06  1567.4310  0.9730  0.1016  0.0727\n",
              "1     1122.9409  9.852564e+06  3138.8795  0.9245  0.1102  0.0758\n",
              "2      911.3452  2.803663e+06  1674.4141  0.9743  0.0988  0.0729\n",
              "3     1002.5575  3.926739e+06  1981.6002  0.9567  0.1049  0.0772\n",
              "4     1167.8154  9.751516e+06  3122.7418  0.8784  0.1226  0.0876\n",
              "5     1047.7778  7.833771e+06  2798.8874  0.9331  0.1128  0.0791\n",
              "6     1010.0816  3.989282e+06  1997.3188  0.9625  0.1106  0.0803\n",
              "7      846.8085  2.182535e+06  1477.3405  0.9724  0.0933  0.0709\n",
              "8     1001.8451  4.904945e+06  2214.7111  0.9518  0.1053  0.0734\n",
              "9     1060.8742  5.354348e+06  2313.9463  0.9490  0.1230  0.0847\n",
              "Mean  1003.1237  5.305620e+06  2228.7271  0.9476  0.1083  0.0775\n",
              "SD     100.2165  2.734195e+06   581.7181  0.0280  0.0091  0.0052"
            ]
          },
          "metadata": {
            "tags": []
          }
        }
      ]
    },
    {
      "cell_type": "markdown",
      "metadata": {
        "id": "NsOBIl8szZs1"
      },
      "source": [
        "Notice that the Mean score of all models matches with the score printed in `compare_models()`. This is because the metrics printed in the `compare_models()` score grid are the average scores across all CV folds. Similar to `compare_models()`, if you want to change the fold parameter from the default value of 10 to a different value then you can use the `fold` parameter. For Example: `create_model('dt', fold = 5)` to create Decision Tree using 5 fold cross validation."
      ]
    },
    {
      "cell_type": "markdown",
      "metadata": {
        "id": "8RZB8YllzZs7"
      },
      "source": [
        "# 9.0 Tune a Model"
      ]
    },
    {
      "cell_type": "markdown",
      "metadata": {
        "id": "AYYWC1X5zZs-"
      },
      "source": [
        "When a model is created using the `create_model()` function it uses the default hyperparameters. In order to tune hyperparameters, the `tune_model()` function is used. This function automatically tunes the hyperparameters of a model on a pre-defined search space and scores it using kfold cross validation. The output prints a score grid that shows MAE, MSE, RMSE, R2, RMSLE and MAPE by fold. <br/>\n",
        "<br/>\n",
        "**Note:** `tune_model()` does not take a trained model object as an input. It instead requires a model name to be passed as an abbreviated string similar to how it is passed in `create_model()`. All other functions in`pycaret.regression` require a trained model object as an argument."
      ]
    },
    {
      "cell_type": "markdown",
      "metadata": {
        "id": "5uUSmZLGzZtB"
      },
      "source": [
        "### 9.1 AdaBoost Regressor"
      ]
    },
    {
      "cell_type": "code",
      "metadata": {
        "id": "XM7qgcGIzZtE",
        "outputId": "60a5f162-9b25-41ed-de76-22c5a58f59bf",
        "colab": {
          "base_uri": "https://localhost:8080/",
          "height": 402
        }
      },
      "source": [
        "tuned_ada = tune_model('ada')"
      ],
      "execution_count": null,
      "outputs": [
        {
          "output_type": "display_data",
          "data": {
            "text/html": [
              "<div>\n",
              "<style scoped>\n",
              "    .dataframe tbody tr th:only-of-type {\n",
              "        vertical-align: middle;\n",
              "    }\n",
              "\n",
              "    .dataframe tbody tr th {\n",
              "        vertical-align: top;\n",
              "    }\n",
              "\n",
              "    .dataframe thead th {\n",
              "        text-align: right;\n",
              "    }\n",
              "</style>\n",
              "<table border=\"1\" class=\"dataframe\">\n",
              "  <thead>\n",
              "    <tr style=\"text-align: right;\">\n",
              "      <th></th>\n",
              "      <th>MAE</th>\n",
              "      <th>MSE</th>\n",
              "      <th>RMSE</th>\n",
              "      <th>R2</th>\n",
              "      <th>RMSLE</th>\n",
              "      <th>MAPE</th>\n",
              "    </tr>\n",
              "  </thead>\n",
              "  <tbody>\n",
              "    <tr>\n",
              "      <th>0</th>\n",
              "      <td>2755.4687</td>\n",
              "      <td>1.641891e+07</td>\n",
              "      <td>4052.0257</td>\n",
              "      <td>0.8197</td>\n",
              "      <td>0.2801</td>\n",
              "      <td>0.2603</td>\n",
              "    </tr>\n",
              "    <tr>\n",
              "      <th>1</th>\n",
              "      <td>2865.2921</td>\n",
              "      <td>2.326518e+07</td>\n",
              "      <td>4823.3988</td>\n",
              "      <td>0.8217</td>\n",
              "      <td>0.3017</td>\n",
              "      <td>0.2827</td>\n",
              "    </tr>\n",
              "    <tr>\n",
              "      <th>2</th>\n",
              "      <td>2570.6452</td>\n",
              "      <td>1.554483e+07</td>\n",
              "      <td>3942.6927</td>\n",
              "      <td>0.8574</td>\n",
              "      <td>0.2606</td>\n",
              "      <td>0.2355</td>\n",
              "    </tr>\n",
              "    <tr>\n",
              "      <th>3</th>\n",
              "      <td>2630.2358</td>\n",
              "      <td>1.475497e+07</td>\n",
              "      <td>3841.2197</td>\n",
              "      <td>0.8372</td>\n",
              "      <td>0.2719</td>\n",
              "      <td>0.2329</td>\n",
              "    </tr>\n",
              "    <tr>\n",
              "      <th>4</th>\n",
              "      <td>2422.9553</td>\n",
              "      <td>1.388942e+07</td>\n",
              "      <td>3726.8506</td>\n",
              "      <td>0.8268</td>\n",
              "      <td>0.2656</td>\n",
              "      <td>0.2252</td>\n",
              "    </tr>\n",
              "    <tr>\n",
              "      <th>5</th>\n",
              "      <td>2530.4172</td>\n",
              "      <td>1.962855e+07</td>\n",
              "      <td>4430.4123</td>\n",
              "      <td>0.8325</td>\n",
              "      <td>0.2635</td>\n",
              "      <td>0.2265</td>\n",
              "    </tr>\n",
              "    <tr>\n",
              "      <th>6</th>\n",
              "      <td>2744.5501</td>\n",
              "      <td>1.711563e+07</td>\n",
              "      <td>4137.1039</td>\n",
              "      <td>0.8392</td>\n",
              "      <td>0.2936</td>\n",
              "      <td>0.2696</td>\n",
              "    </tr>\n",
              "    <tr>\n",
              "      <th>7</th>\n",
              "      <td>2820.4718</td>\n",
              "      <td>1.767699e+07</td>\n",
              "      <td>4204.4014</td>\n",
              "      <td>0.7765</td>\n",
              "      <td>0.2999</td>\n",
              "      <td>0.2817</td>\n",
              "    </tr>\n",
              "    <tr>\n",
              "      <th>8</th>\n",
              "      <td>2574.6180</td>\n",
              "      <td>1.489709e+07</td>\n",
              "      <td>3859.6744</td>\n",
              "      <td>0.8537</td>\n",
              "      <td>0.2954</td>\n",
              "      <td>0.2708</td>\n",
              "    </tr>\n",
              "    <tr>\n",
              "      <th>9</th>\n",
              "      <td>2392.6510</td>\n",
              "      <td>1.631377e+07</td>\n",
              "      <td>4039.0306</td>\n",
              "      <td>0.8447</td>\n",
              "      <td>0.2632</td>\n",
              "      <td>0.2225</td>\n",
              "    </tr>\n",
              "    <tr>\n",
              "      <th>Mean</th>\n",
              "      <td>2630.7305</td>\n",
              "      <td>1.695053e+07</td>\n",
              "      <td>4105.6810</td>\n",
              "      <td>0.8309</td>\n",
              "      <td>0.2796</td>\n",
              "      <td>0.2508</td>\n",
              "    </tr>\n",
              "    <tr>\n",
              "      <th>SD</th>\n",
              "      <td>153.6911</td>\n",
              "      <td>2.620557e+06</td>\n",
              "      <td>306.4572</td>\n",
              "      <td>0.0217</td>\n",
              "      <td>0.0158</td>\n",
              "      <td>0.0233</td>\n",
              "    </tr>\n",
              "  </tbody>\n",
              "</table>\n",
              "</div>"
            ],
            "text/plain": [
              "            MAE           MSE       RMSE      R2   RMSLE    MAPE\n",
              "0     2755.4687  1.641891e+07  4052.0257  0.8197  0.2801  0.2603\n",
              "1     2865.2921  2.326518e+07  4823.3988  0.8217  0.3017  0.2827\n",
              "2     2570.6452  1.554483e+07  3942.6927  0.8574  0.2606  0.2355\n",
              "3     2630.2358  1.475497e+07  3841.2197  0.8372  0.2719  0.2329\n",
              "4     2422.9553  1.388942e+07  3726.8506  0.8268  0.2656  0.2252\n",
              "5     2530.4172  1.962855e+07  4430.4123  0.8325  0.2635  0.2265\n",
              "6     2744.5501  1.711563e+07  4137.1039  0.8392  0.2936  0.2696\n",
              "7     2820.4718  1.767699e+07  4204.4014  0.7765  0.2999  0.2817\n",
              "8     2574.6180  1.489709e+07  3859.6744  0.8537  0.2954  0.2708\n",
              "9     2392.6510  1.631377e+07  4039.0306  0.8447  0.2632  0.2225\n",
              "Mean  2630.7305  1.695053e+07  4105.6810  0.8309  0.2796  0.2508\n",
              "SD     153.6911  2.620557e+06   306.4572  0.0217  0.0158  0.0233"
            ]
          },
          "metadata": {
            "tags": []
          }
        }
      ]
    },
    {
      "cell_type": "code",
      "metadata": {
        "id": "Ul0HJFoRzZtU",
        "outputId": "2ae13b19-f2f8-49f4-b0e0-9200fd277624",
        "colab": {
          "base_uri": "https://localhost:8080/",
          "height": 50
        }
      },
      "source": [
        "#tuned model object is stored in the variable 'tuned_dt'. \n",
        "print(tuned_ada)"
      ],
      "execution_count": null,
      "outputs": [
        {
          "output_type": "stream",
          "text": [
            "AdaBoostRegressor(base_estimator=None, learning_rate=0.11, loss='exponential',\n",
            "                  n_estimators=90, random_state=123)\n"
          ],
          "name": "stdout"
        }
      ]
    },
    {
      "cell_type": "markdown",
      "metadata": {
        "id": "3kvdvfdUzZtj"
      },
      "source": [
        "### 9.2 Light Gradient Boosting Machine"
      ]
    },
    {
      "cell_type": "code",
      "metadata": {
        "id": "s1agvmDFzZtm",
        "outputId": "20b4cca7-d6d9-4a3a-8905-bd545ccdd9fb",
        "colab": {
          "base_uri": "https://localhost:8080/",
          "height": 402
        }
      },
      "source": [
        "tuned_lightgbm = tune_model('lightgbm')"
      ],
      "execution_count": null,
      "outputs": [
        {
          "output_type": "display_data",
          "data": {
            "text/html": [
              "<div>\n",
              "<style scoped>\n",
              "    .dataframe tbody tr th:only-of-type {\n",
              "        vertical-align: middle;\n",
              "    }\n",
              "\n",
              "    .dataframe tbody tr th {\n",
              "        vertical-align: top;\n",
              "    }\n",
              "\n",
              "    .dataframe thead th {\n",
              "        text-align: right;\n",
              "    }\n",
              "</style>\n",
              "<table border=\"1\" class=\"dataframe\">\n",
              "  <thead>\n",
              "    <tr style=\"text-align: right;\">\n",
              "      <th></th>\n",
              "      <th>MAE</th>\n",
              "      <th>MSE</th>\n",
              "      <th>RMSE</th>\n",
              "      <th>R2</th>\n",
              "      <th>RMSLE</th>\n",
              "      <th>MAPE</th>\n",
              "    </tr>\n",
              "  </thead>\n",
              "  <tbody>\n",
              "    <tr>\n",
              "      <th>0</th>\n",
              "      <td>696.8135</td>\n",
              "      <td>1.223186e+06</td>\n",
              "      <td>1105.9776</td>\n",
              "      <td>0.9866</td>\n",
              "      <td>0.0816</td>\n",
              "      <td>0.0611</td>\n",
              "    </tr>\n",
              "    <tr>\n",
              "      <th>1</th>\n",
              "      <td>769.7567</td>\n",
              "      <td>2.878033e+06</td>\n",
              "      <td>1696.4767</td>\n",
              "      <td>0.9779</td>\n",
              "      <td>0.0740</td>\n",
              "      <td>0.0569</td>\n",
              "    </tr>\n",
              "    <tr>\n",
              "      <th>2</th>\n",
              "      <td>796.1051</td>\n",
              "      <td>2.123431e+06</td>\n",
              "      <td>1457.1999</td>\n",
              "      <td>0.9805</td>\n",
              "      <td>0.0816</td>\n",
              "      <td>0.0629</td>\n",
              "    </tr>\n",
              "    <tr>\n",
              "      <th>3</th>\n",
              "      <td>766.5171</td>\n",
              "      <td>1.927426e+06</td>\n",
              "      <td>1388.3177</td>\n",
              "      <td>0.9787</td>\n",
              "      <td>0.0815</td>\n",
              "      <td>0.0616</td>\n",
              "    </tr>\n",
              "    <tr>\n",
              "      <th>4</th>\n",
              "      <td>740.2536</td>\n",
              "      <td>2.694766e+06</td>\n",
              "      <td>1641.5743</td>\n",
              "      <td>0.9664</td>\n",
              "      <td>0.0815</td>\n",
              "      <td>0.0601</td>\n",
              "    </tr>\n",
              "    <tr>\n",
              "      <th>5</th>\n",
              "      <td>789.1642</td>\n",
              "      <td>4.094534e+06</td>\n",
              "      <td>2023.4955</td>\n",
              "      <td>0.9651</td>\n",
              "      <td>0.0805</td>\n",
              "      <td>0.0601</td>\n",
              "    </tr>\n",
              "    <tr>\n",
              "      <th>6</th>\n",
              "      <td>720.8130</td>\n",
              "      <td>1.581897e+06</td>\n",
              "      <td>1257.7347</td>\n",
              "      <td>0.9851</td>\n",
              "      <td>0.0801</td>\n",
              "      <td>0.0603</td>\n",
              "    </tr>\n",
              "    <tr>\n",
              "      <th>7</th>\n",
              "      <td>841.3175</td>\n",
              "      <td>3.026922e+06</td>\n",
              "      <td>1739.8053</td>\n",
              "      <td>0.9617</td>\n",
              "      <td>0.0857</td>\n",
              "      <td>0.0649</td>\n",
              "    </tr>\n",
              "    <tr>\n",
              "      <th>8</th>\n",
              "      <td>816.6643</td>\n",
              "      <td>2.177376e+06</td>\n",
              "      <td>1475.5935</td>\n",
              "      <td>0.9786</td>\n",
              "      <td>0.0809</td>\n",
              "      <td>0.0628</td>\n",
              "    </tr>\n",
              "    <tr>\n",
              "      <th>9</th>\n",
              "      <td>765.3249</td>\n",
              "      <td>2.960101e+06</td>\n",
              "      <td>1720.4943</td>\n",
              "      <td>0.9718</td>\n",
              "      <td>0.0933</td>\n",
              "      <td>0.0633</td>\n",
              "    </tr>\n",
              "    <tr>\n",
              "      <th>Mean</th>\n",
              "      <td>770.2730</td>\n",
              "      <td>2.468767e+06</td>\n",
              "      <td>1550.6669</td>\n",
              "      <td>0.9753</td>\n",
              "      <td>0.0821</td>\n",
              "      <td>0.0614</td>\n",
              "    </tr>\n",
              "    <tr>\n",
              "      <th>SD</th>\n",
              "      <td>41.2386</td>\n",
              "      <td>7.905609e+05</td>\n",
              "      <td>253.3759</td>\n",
              "      <td>0.0081</td>\n",
              "      <td>0.0046</td>\n",
              "      <td>0.0021</td>\n",
              "    </tr>\n",
              "  </tbody>\n",
              "</table>\n",
              "</div>"
            ],
            "text/plain": [
              "           MAE           MSE       RMSE      R2   RMSLE    MAPE\n",
              "0     696.8135  1.223186e+06  1105.9776  0.9866  0.0816  0.0611\n",
              "1     769.7567  2.878033e+06  1696.4767  0.9779  0.0740  0.0569\n",
              "2     796.1051  2.123431e+06  1457.1999  0.9805  0.0816  0.0629\n",
              "3     766.5171  1.927426e+06  1388.3177  0.9787  0.0815  0.0616\n",
              "4     740.2536  2.694766e+06  1641.5743  0.9664  0.0815  0.0601\n",
              "5     789.1642  4.094534e+06  2023.4955  0.9651  0.0805  0.0601\n",
              "6     720.8130  1.581897e+06  1257.7347  0.9851  0.0801  0.0603\n",
              "7     841.3175  3.026922e+06  1739.8053  0.9617  0.0857  0.0649\n",
              "8     816.6643  2.177376e+06  1475.5935  0.9786  0.0809  0.0628\n",
              "9     765.3249  2.960101e+06  1720.4943  0.9718  0.0933  0.0633\n",
              "Mean  770.2730  2.468767e+06  1550.6669  0.9753  0.0821  0.0614\n",
              "SD     41.2386  7.905609e+05   253.3759  0.0081  0.0046  0.0021"
            ]
          },
          "metadata": {
            "tags": []
          }
        }
      ]
    },
    {
      "cell_type": "markdown",
      "metadata": {
        "id": "Ovz73MkgzZtx"
      },
      "source": [
        "### 9.3 Decision Tree"
      ]
    },
    {
      "cell_type": "code",
      "metadata": {
        "id": "kFImcOpXzZt0",
        "outputId": "2bc0c573-c378-4327-a9ec-92de88fd01d3",
        "colab": {
          "base_uri": "https://localhost:8080/",
          "height": 402
        }
      },
      "source": [
        "tuned_dt = tune_model('dt')"
      ],
      "execution_count": null,
      "outputs": [
        {
          "output_type": "display_data",
          "data": {
            "text/html": [
              "<div>\n",
              "<style scoped>\n",
              "    .dataframe tbody tr th:only-of-type {\n",
              "        vertical-align: middle;\n",
              "    }\n",
              "\n",
              "    .dataframe tbody tr th {\n",
              "        vertical-align: top;\n",
              "    }\n",
              "\n",
              "    .dataframe thead th {\n",
              "        text-align: right;\n",
              "    }\n",
              "</style>\n",
              "<table border=\"1\" class=\"dataframe\">\n",
              "  <thead>\n",
              "    <tr style=\"text-align: right;\">\n",
              "      <th></th>\n",
              "      <th>MAE</th>\n",
              "      <th>MSE</th>\n",
              "      <th>RMSE</th>\n",
              "      <th>R2</th>\n",
              "      <th>RMSLE</th>\n",
              "      <th>MAPE</th>\n",
              "    </tr>\n",
              "  </thead>\n",
              "  <tbody>\n",
              "    <tr>\n",
              "      <th>0</th>\n",
              "      <td>874.4352</td>\n",
              "      <td>2.276756e+06</td>\n",
              "      <td>1508.8923</td>\n",
              "      <td>0.9750</td>\n",
              "      <td>0.0973</td>\n",
              "      <td>0.0740</td>\n",
              "    </tr>\n",
              "    <tr>\n",
              "      <th>1</th>\n",
              "      <td>961.9344</td>\n",
              "      <td>5.311160e+06</td>\n",
              "      <td>2304.5955</td>\n",
              "      <td>0.9593</td>\n",
              "      <td>0.0947</td>\n",
              "      <td>0.0709</td>\n",
              "    </tr>\n",
              "    <tr>\n",
              "      <th>2</th>\n",
              "      <td>867.5361</td>\n",
              "      <td>2.470714e+06</td>\n",
              "      <td>1571.8506</td>\n",
              "      <td>0.9773</td>\n",
              "      <td>0.0947</td>\n",
              "      <td>0.0732</td>\n",
              "    </tr>\n",
              "    <tr>\n",
              "      <th>3</th>\n",
              "      <td>996.1490</td>\n",
              "      <td>4.213594e+06</td>\n",
              "      <td>2052.7042</td>\n",
              "      <td>0.9535</td>\n",
              "      <td>0.1034</td>\n",
              "      <td>0.0747</td>\n",
              "    </tr>\n",
              "    <tr>\n",
              "      <th>4</th>\n",
              "      <td>1084.2670</td>\n",
              "      <td>8.813849e+06</td>\n",
              "      <td>2968.8127</td>\n",
              "      <td>0.8901</td>\n",
              "      <td>0.1149</td>\n",
              "      <td>0.0816</td>\n",
              "    </tr>\n",
              "    <tr>\n",
              "      <th>5</th>\n",
              "      <td>1062.5522</td>\n",
              "      <td>8.153284e+06</td>\n",
              "      <td>2855.3956</td>\n",
              "      <td>0.9304</td>\n",
              "      <td>0.1131</td>\n",
              "      <td>0.0780</td>\n",
              "    </tr>\n",
              "    <tr>\n",
              "      <th>6</th>\n",
              "      <td>911.7975</td>\n",
              "      <td>3.759584e+06</td>\n",
              "      <td>1938.9647</td>\n",
              "      <td>0.9647</td>\n",
              "      <td>0.0957</td>\n",
              "      <td>0.0693</td>\n",
              "    </tr>\n",
              "    <tr>\n",
              "      <th>7</th>\n",
              "      <td>975.3512</td>\n",
              "      <td>4.392592e+06</td>\n",
              "      <td>2095.8512</td>\n",
              "      <td>0.9445</td>\n",
              "      <td>0.1061</td>\n",
              "      <td>0.0763</td>\n",
              "    </tr>\n",
              "    <tr>\n",
              "      <th>8</th>\n",
              "      <td>1053.7695</td>\n",
              "      <td>4.874987e+06</td>\n",
              "      <td>2207.9373</td>\n",
              "      <td>0.9521</td>\n",
              "      <td>0.1070</td>\n",
              "      <td>0.0802</td>\n",
              "    </tr>\n",
              "    <tr>\n",
              "      <th>9</th>\n",
              "      <td>975.3018</td>\n",
              "      <td>4.146015e+06</td>\n",
              "      <td>2036.1766</td>\n",
              "      <td>0.9605</td>\n",
              "      <td>0.1176</td>\n",
              "      <td>0.0821</td>\n",
              "    </tr>\n",
              "    <tr>\n",
              "      <th>Mean</th>\n",
              "      <td>976.3094</td>\n",
              "      <td>4.841254e+06</td>\n",
              "      <td>2154.1181</td>\n",
              "      <td>0.9507</td>\n",
              "      <td>0.1045</td>\n",
              "      <td>0.0760</td>\n",
              "    </tr>\n",
              "    <tr>\n",
              "      <th>SD</th>\n",
              "      <td>72.1572</td>\n",
              "      <td>2.035135e+06</td>\n",
              "      <td>448.3626</td>\n",
              "      <td>0.0241</td>\n",
              "      <td>0.0083</td>\n",
              "      <td>0.0042</td>\n",
              "    </tr>\n",
              "  </tbody>\n",
              "</table>\n",
              "</div>"
            ],
            "text/plain": [
              "            MAE           MSE       RMSE      R2   RMSLE    MAPE\n",
              "0      874.4352  2.276756e+06  1508.8923  0.9750  0.0973  0.0740\n",
              "1      961.9344  5.311160e+06  2304.5955  0.9593  0.0947  0.0709\n",
              "2      867.5361  2.470714e+06  1571.8506  0.9773  0.0947  0.0732\n",
              "3      996.1490  4.213594e+06  2052.7042  0.9535  0.1034  0.0747\n",
              "4     1084.2670  8.813849e+06  2968.8127  0.8901  0.1149  0.0816\n",
              "5     1062.5522  8.153284e+06  2855.3956  0.9304  0.1131  0.0780\n",
              "6      911.7975  3.759584e+06  1938.9647  0.9647  0.0957  0.0693\n",
              "7      975.3512  4.392592e+06  2095.8512  0.9445  0.1061  0.0763\n",
              "8     1053.7695  4.874987e+06  2207.9373  0.9521  0.1070  0.0802\n",
              "9      975.3018  4.146015e+06  2036.1766  0.9605  0.1176  0.0821\n",
              "Mean   976.3094  4.841254e+06  2154.1181  0.9507  0.1045  0.0760\n",
              "SD      72.1572  2.035135e+06   448.3626  0.0241  0.0083  0.0042"
            ]
          },
          "metadata": {
            "tags": []
          }
        }
      ]
    },
    {
      "cell_type": "markdown",
      "metadata": {
        "id": "TcSjA7SUzZt-"
      },
      "source": [
        "`tune_model()` function is a random grid search of hyperparameters over a pre-defined search space. By default, it is set to optimize `R2` but this can be changed using the `optimize` parameter. For example: `tune_model('dt', optimize = 'MAE')` will search for the hyperparameters of a Decision Tree that result in the lowest `MAE` (lower is better). For the purposes of this example, we have used the default metric `R2` for the sake of simplicity only. The methodology behind selecting the right metric to evaluate a regressor is beyond the scope of this tutorial but if you would like to learn more about it, you can __[click here](https://www.dataquest.io/blog/understanding-regression-error-metrics/)__ to develop an understanding on regression error metrics. \n",
        "\n",
        "Notice how the results after tuning have been improved:\n",
        "\n",
        "- AdaBoost Regressor (Before: **`0.7467`** , After: **`0.8309`**) \n",
        "- Light Gradient Boosting Machine (Before: **`0.9711`** , After: **`0.9753`**)\n",
        "- Decision Tree (Before: **`0.9476`** , After: **`0.9507`**) \n",
        "\n",
        "Metrics alone are not the only criteria you should consider when finalizing the best model for production. Other factors to consider include training time, standard deviation of kfolds etc. As you progress through the tutorial series we will discuss those factors in detail at the intermediate and expert levels. For now, let's move forward considering the Tuned Light Gradient Boosting Machine stored in the `tuned_lightgbm` variable as our best model for the remainder of this tutorial."
      ]
    },
    {
      "cell_type": "markdown",
      "metadata": {
        "id": "HR-mHgtCzZuE"
      },
      "source": [
        "# 10.0 Plot a Model"
      ]
    },
    {
      "cell_type": "markdown",
      "metadata": {
        "id": "N6i7Ggg_zZuH"
      },
      "source": [
        "Before model finalization, the `plot_model()` function can be used to analyze the performance across different aspects such as Residuals Plot, Prediction Error, feature importance etc. This function takes a trained model object and returns a plot based on the test / hold-out set. \n",
        "\n",
        "There are over 10 plots available, please see the `plot_model()` docstring for the list of available plots."
      ]
    },
    {
      "cell_type": "markdown",
      "metadata": {
        "id": "HJCYRQj9zZuU"
      },
      "source": [
        "### 10.1 Residual Plot"
      ]
    },
    {
      "cell_type": "code",
      "metadata": {
        "id": "ml-qe8dTzZuX",
        "outputId": "a0ba1109-607d-46aa-c094-56f09ac098ad",
        "colab": {
          "base_uri": "https://localhost:8080/",
          "height": 376
        }
      },
      "source": [
        "plot_model(tuned_lightgbm)"
      ],
      "execution_count": null,
      "outputs": [
        {
          "output_type": "display_data",
          "data": {
            "image/png": "[encoded data removed]",
            "text/plain": [
              "<Figure size 576x396 with 2 Axes>"
            ]
          },
          "metadata": {
            "tags": []
          }
        }
      ]
    },
    {
      "cell_type": "markdown",
      "metadata": {
        "id": "rM9dWgfVzZuh"
      },
      "source": [
        "### 10.2 Prediction Error Plot"
      ]
    },
    {
      "cell_type": "code",
      "metadata": {
        "id": "GPwWRYehzZuk",
        "outputId": "7a086e40-1a17-4765-ecf0-8cc503c86d78",
        "colab": {
          "base_uri": "https://localhost:8080/",
          "height": 378
        }
      },
      "source": [
        "plot_model(tuned_lightgbm, plot = 'error')"
      ],
      "execution_count": null,
      "outputs": [
        {
          "output_type": "display_data",
          "data": {
            "image/png": "[encoded data removed]",
            "text/plain": [
              "<Figure size 576x396 with 1 Axes>"
            ]
          },
          "metadata": {
            "tags": []
          }
        }
      ]
    },
    {
      "cell_type": "markdown",
      "metadata": {
        "id": "dWu_EtTGzZuu"
      },
      "source": [
        "### 10.3 Feature Importance Plot"
      ]
    },
    {
      "cell_type": "code",
      "metadata": {
        "id": "7Yh852PPzZux",
        "outputId": "932536ae-bb5d-4684-ef49-febf62c8e882",
        "colab": {
          "base_uri": "https://localhost:8080/",
          "height": 349
        }
      },
      "source": [
        "plot_model(tuned_lightgbm, plot='feature')"
      ],
      "execution_count": null,
      "outputs": [
        {
          "output_type": "display_data",
          "data": {
            "image/png": "[encoded data removed]",
            "text/plain": [
              "<Figure size 576x360 with 1 Axes>"
            ]
          },
          "metadata": {
            "tags": []
          }
        }
      ]
    },
    {
      "cell_type": "markdown",
      "metadata": {
        "id": "qI_tk-8RzZu8"
      },
      "source": [
        "*Another* way to analyze the performance of models is to use the `evaluate_model()` function which displays a user interface for all of the available plots for a given model. It internally uses the `plot_model()` function."
      ]
    },
    {
      "cell_type": "code",
      "metadata": {
        "id": "J4ryBACHzZu_",
        "outputId": "c8f0f9d4-1f68-4666-931c-84769b2fde7a",
        "colab": {
          "base_uri": "https://localhost:8080/",
          "height": 699,
          "referenced_widgets": [
            "3166ea061bd84e7f9cf798924b2ad226",
            "ef66e01aaee04bb7a4804c5a7c353d35",
            "972f045b48654b53ae641ea68fd1a628",
            "fd5b73da32254b27a98d891557ea9632",
            "f2d3d754cc2a4cac81e64583ff214999",
            "4401650760f541888d123201c172533b",
            "82bff948c67f44718348fedf46d5e0a2",
            "a3c8715dbf5a43039fc7c1bb8759bffd",
            "eedad0df55ee44f5bf013b09a68aacf9"
          ]
        }
      },
      "source": [
        "evaluate_model(tuned_lightgbm)"
      ],
      "execution_count": null,
      "outputs": [
        {
          "output_type": "display_data",
          "data": {
            "application/vnd.jupyter.widget-view+json": {
              "model_id": "3166ea061bd84e7f9cf798924b2ad226",
              "version_minor": 0,
              "version_major": 2
            },
            "text/plain": [
              "interactive(children=(ToggleButtons(description='Plot Type:', icons=('',), options=(('Hyperparameters', 'param…"
            ]
          },
          "metadata": {
            "tags": []
          }
        }
      ]
    },
    {
      "cell_type": "markdown",
      "metadata": {
        "id": "CxKARgKAzZvJ"
      },
      "source": [
        "# 11.0 Predict on test / hold-out Sample"
      ]
    },
    {
      "cell_type": "markdown",
      "metadata": {
        "id": "r8k_rmplzZvL"
      },
      "source": [
        "Before finalizing the model, it is advisable to perform one final check by predicting the test/hold-out set and reviewing the evaluation metrics. If you look at the information grid in Section 6 above, you will see that 30% (1621 samples) of the data has been separated out as a test/hold-out sample. All of the evaluation metrics we have seen above are cross validated results based on training set (70%) only. Now, using our final trained model stored in the `tuned_lightgbm` variable we will predict the hold-out sample and evaluate the metrics to see if they are materially different than the CV results."
      ]
    },
    {
      "cell_type": "code",
      "metadata": {
        "id": "ozTyeSjCzZvY",
        "outputId": "b2f05ea2-b5bb-43ee-f14f-d7c045661859",
        "colab": {
          "base_uri": "https://localhost:8080/",
          "height": 77
        }
      },
      "source": [
        "predict_model(tuned_lightgbm);"
      ],
      "execution_count": null,
      "outputs": [
        {
          "output_type": "display_data",
          "data": {
            "text/html": [
              "<div>\n",
              "<style scoped>\n",
              "    .dataframe tbody tr th:only-of-type {\n",
              "        vertical-align: middle;\n",
              "    }\n",
              "\n",
              "    .dataframe tbody tr th {\n",
              "        vertical-align: top;\n",
              "    }\n",
              "\n",
              "    .dataframe thead th {\n",
              "        text-align: right;\n",
              "    }\n",
              "</style>\n",
              "<table border=\"1\" class=\"dataframe\">\n",
              "  <thead>\n",
              "    <tr style=\"text-align: right;\">\n",
              "      <th></th>\n",
              "      <th>Model</th>\n",
              "      <th>MAE</th>\n",
              "      <th>MSE</th>\n",
              "      <th>RMSE</th>\n",
              "      <th>R2</th>\n",
              "      <th>RMSLE</th>\n",
              "      <th>MAPE</th>\n",
              "    </tr>\n",
              "  </thead>\n",
              "  <tbody>\n",
              "    <tr>\n",
              "      <th>0</th>\n",
              "      <td>Light Gradient Boosting Machine</td>\n",
              "      <td>789.8498</td>\n",
              "      <td>2.985032e+06</td>\n",
              "      <td>1727.7244</td>\n",
              "      <td>0.9728</td>\n",
              "      <td>0.0841</td>\n",
              "      <td>0.0613</td>\n",
              "    </tr>\n",
              "  </tbody>\n",
              "</table>\n",
              "</div>"
            ],
            "text/plain": [
              "                             Model       MAE  ...   RMSLE    MAPE\n",
              "0  Light Gradient Boosting Machine  789.8498  ...  0.0841  0.0613\n",
              "\n",
              "[1 rows x 7 columns]"
            ]
          },
          "metadata": {
            "tags": []
          }
        }
      ]
    },
    {
      "cell_type": "markdown",
      "metadata": {
        "id": "UouOXHaxzZvo"
      },
      "source": [
        "The R2 on the test/hold-out set is **`0.9728`** compared to **`0.9753`** achieved on `tuned_lightgbm` CV results (in section 9.2 above). This is not a significant difference. If there is a large variation between the test/hold-out and CV results, then this would normally indicate over-fitting but could also be due to several other factors and would require further investigation. In this case, we will move forward with finalizing the model and predicting on unseen data (the 10% that we had separated in the beginning and never exposed to PyCaret).\n",
        "\n",
        "(TIP : It's always good to look at the standard deviation of CV results when using `create_model()`.)"
      ]
    },
    {
      "cell_type": "markdown",
      "metadata": {
        "id": "J0PmhEQFzZvr"
      },
      "source": [
        "# 12.0 Finalize Model for Deployment"
      ]
    },
    {
      "cell_type": "markdown",
      "metadata": {
        "id": "Rtaj0uWgzZvx"
      },
      "source": [
        "Model finalization is the last step in the experiment. A normal machine learning workflow in PyCaret starts with `setup()`, followed by comparing all models using `compare_models()` and shortlisting a few candidate models (based on the metric of interest) to perform several modeling techniques such as hyperparameter tuning, ensembling, stacking etc. This workflow will eventually lead you to the best model for use in making predictions on new and unseen data. The `finalize_model()` function fits the model onto the complete dataset including the test/hold-out sample (30% in this case). The purpose of this function is to train the model on the complete dataset before it is deployed in production."
      ]
    },
    {
      "cell_type": "code",
      "metadata": {
        "id": "UPk310pezZv0"
      },
      "source": [
        "final_lightgbm = finalize_model(tuned_lightgbm)"
      ],
      "execution_count": null,
      "outputs": []
    },
    {
      "cell_type": "code",
      "metadata": {
        "id": "IGFUGDAPzZwF",
        "outputId": "a61f9bcb-7dd4-4973-bfdf-78010c7aa7ed",
        "colab": {
          "base_uri": "https://localhost:8080/",
          "height": 118
        }
      },
      "source": [
        "#Final Light Gradient Boosting Machine parameters for deployment\n",
        "print(final_lightgbm)"
      ],
      "execution_count": null,
      "outputs": [
        {
          "output_type": "stream",
          "text": [
            "LGBMRegressor(boosting_type='gbdt', class_weight=None, colsample_bytree=1.0,\n",
            "              importance_type='split', learning_rate=0.4, max_depth=10,\n",
            "              min_child_samples=20, min_child_weight=0.001, min_split_gain=0.9,\n",
            "              n_estimators=90, n_jobs=-1, num_leaves=10, objective=None,\n",
            "              random_state=123, reg_alpha=0.9, reg_lambda=0.2, silent=True,\n",
            "              subsample=1.0, subsample_for_bin=200000, subsample_freq=0)\n"
          ],
          "name": "stdout"
        }
      ]
    },
    {
      "cell_type": "markdown",
      "metadata": {
        "id": "QmJjaIkrzZwQ"
      },
      "source": [
        "**Caution:** One final word of caution. Once the model is finalized using `finalize_model()`, the entire dataset including the test/hold-out set is used for training. As such, if the model is used for predictions on the hold-out set after `finalize_model()` is used, the information grid printed will be misleading as you are trying to predict on the same data that was used for modeling. In order to demonstrate this point only, we will use `final_knn` under `predict_model()` to compare the information grid with the one above in section 11. "
      ]
    },
    {
      "cell_type": "code",
      "metadata": {
        "id": "bmYJRTAyzZwU",
        "outputId": "7b50ba15-d7f9-43a3-b96c-d3da6cc15569",
        "colab": {
          "base_uri": "https://localhost:8080/",
          "height": 77
        }
      },
      "source": [
        "predict_model(final_lightgbm);"
      ],
      "execution_count": null,
      "outputs": [
        {
          "output_type": "display_data",
          "data": {
            "text/html": [
              "<div>\n",
              "<style scoped>\n",
              "    .dataframe tbody tr th:only-of-type {\n",
              "        vertical-align: middle;\n",
              "    }\n",
              "\n",
              "    .dataframe tbody tr th {\n",
              "        vertical-align: top;\n",
              "    }\n",
              "\n",
              "    .dataframe thead th {\n",
              "        text-align: right;\n",
              "    }\n",
              "</style>\n",
              "<table border=\"1\" class=\"dataframe\">\n",
              "  <thead>\n",
              "    <tr style=\"text-align: right;\">\n",
              "      <th></th>\n",
              "      <th>Model</th>\n",
              "      <th>MAE</th>\n",
              "      <th>MSE</th>\n",
              "      <th>RMSE</th>\n",
              "      <th>R2</th>\n",
              "      <th>RMSLE</th>\n",
              "      <th>MAPE</th>\n",
              "    </tr>\n",
              "  </thead>\n",
              "  <tbody>\n",
              "    <tr>\n",
              "      <th>0</th>\n",
              "      <td>Light Gradient Boosting Machine</td>\n",
              "      <td>582.5217</td>\n",
              "      <td>1221486.605</td>\n",
              "      <td>1105.2089</td>\n",
              "      <td>0.9889</td>\n",
              "      <td>0.0653</td>\n",
              "      <td>0.0493</td>\n",
              "    </tr>\n",
              "  </tbody>\n",
              "</table>\n",
              "</div>"
            ],
            "text/plain": [
              "                             Model       MAE  ...   RMSLE    MAPE\n",
              "0  Light Gradient Boosting Machine  582.5217  ...  0.0653  0.0493\n",
              "\n",
              "[1 rows x 7 columns]"
            ]
          },
          "metadata": {
            "tags": []
          }
        }
      ]
    },
    {
      "cell_type": "markdown",
      "metadata": {
        "id": "5NkpL1ZHzZwr"
      },
      "source": [
        "Notice how the R2 in the `final_lightgbm` has increased to **`0.9889`** from **`0.9728`**, even though the model is same. This is because the `final_lightgbm` variable is trained on the complete dataset including the test/hold-out set."
      ]
    },
    {
      "cell_type": "markdown",
      "metadata": {
        "id": "CgKSkSsZzZwv"
      },
      "source": [
        "# 13.0 Predict on unseen data"
      ]
    },
    {
      "cell_type": "markdown",
      "metadata": {
        "id": "6n7QFM94zZwy"
      },
      "source": [
        "The `predict_model()` function is also used to predict on the unseen dataset. The only difference from section 11 above is that this time we will pass the `data_unseen` parameter. `data_unseen` is the variable created at the beginning of the tutorial and contains 10% (600 samples) of the original dataset which was never exposed to PyCaret. (see section 5 for explanation)"
      ]
    },
    {
      "cell_type": "code",
      "metadata": {
        "id": "YdlpJUx0zZw4",
        "outputId": "7036934a-606a-456c-d9fc-a8b85a65f3f6",
        "colab": {
          "base_uri": "https://localhost:8080/",
          "height": 195
        }
      },
      "source": [
        "unseen_predictions = predict_model(final_lightgbm, data=data_unseen)\n",
        "unseen_predictions.head()"
      ],
      "execution_count": null,
      "outputs": [
        {
          "output_type": "execute_result",
          "data": {
            "text/html": [
              "<div>\n",
              "<style scoped>\n",
              "    .dataframe tbody tr th:only-of-type {\n",
              "        vertical-align: middle;\n",
              "    }\n",
              "\n",
              "    .dataframe tbody tr th {\n",
              "        vertical-align: top;\n",
              "    }\n",
              "\n",
              "    .dataframe thead th {\n",
              "        text-align: right;\n",
              "    }\n",
              "</style>\n",
              "<table border=\"1\" class=\"dataframe\">\n",
              "  <thead>\n",
              "    <tr style=\"text-align: right;\">\n",
              "      <th></th>\n",
              "      <th>Carat Weight</th>\n",
              "      <th>Cut</th>\n",
              "      <th>Color</th>\n",
              "      <th>Clarity</th>\n",
              "      <th>Polish</th>\n",
              "      <th>Symmetry</th>\n",
              "      <th>Report</th>\n",
              "      <th>Price</th>\n",
              "      <th>Label</th>\n",
              "    </tr>\n",
              "  </thead>\n",
              "  <tbody>\n",
              "    <tr>\n",
              "      <th>0</th>\n",
              "      <td>1.21</td>\n",
              "      <td>Ideal</td>\n",
              "      <td>G</td>\n",
              "      <td>VVS1</td>\n",
              "      <td>EX</td>\n",
              "      <td>EX</td>\n",
              "      <td>GIA</td>\n",
              "      <td>11572</td>\n",
              "      <td>10812.8943</td>\n",
              "    </tr>\n",
              "    <tr>\n",
              "      <th>1</th>\n",
              "      <td>2.00</td>\n",
              "      <td>Ideal</td>\n",
              "      <td>I</td>\n",
              "      <td>SI1</td>\n",
              "      <td>EX</td>\n",
              "      <td>VG</td>\n",
              "      <td>GIA</td>\n",
              "      <td>16775</td>\n",
              "      <td>15453.9273</td>\n",
              "    </tr>\n",
              "    <tr>\n",
              "      <th>2</th>\n",
              "      <td>1.51</td>\n",
              "      <td>Good</td>\n",
              "      <td>F</td>\n",
              "      <td>SI1</td>\n",
              "      <td>VG</td>\n",
              "      <td>G</td>\n",
              "      <td>GIA</td>\n",
              "      <td>10429</td>\n",
              "      <td>10591.0952</td>\n",
              "    </tr>\n",
              "    <tr>\n",
              "      <th>3</th>\n",
              "      <td>0.90</td>\n",
              "      <td>Ideal</td>\n",
              "      <td>F</td>\n",
              "      <td>SI1</td>\n",
              "      <td>EX</td>\n",
              "      <td>EX</td>\n",
              "      <td>GIA</td>\n",
              "      <td>4523</td>\n",
              "      <td>4639.1068</td>\n",
              "    </tr>\n",
              "    <tr>\n",
              "      <th>4</th>\n",
              "      <td>1.01</td>\n",
              "      <td>Very Good</td>\n",
              "      <td>I</td>\n",
              "      <td>SI1</td>\n",
              "      <td>VG</td>\n",
              "      <td>VG</td>\n",
              "      <td>GIA</td>\n",
              "      <td>4375</td>\n",
              "      <td>4307.9166</td>\n",
              "    </tr>\n",
              "  </tbody>\n",
              "</table>\n",
              "</div>"
            ],
            "text/plain": [
              "   Carat Weight        Cut Color Clarity  ... Symmetry Report  Price       Label\n",
              "0          1.21      Ideal     G    VVS1  ...       EX    GIA  11572  10812.8943\n",
              "1          2.00      Ideal     I     SI1  ...       VG    GIA  16775  15453.9273\n",
              "2          1.51       Good     F     SI1  ...        G    GIA  10429  10591.0952\n",
              "3          0.90      Ideal     F     SI1  ...       EX    GIA   4523   4639.1068\n",
              "4          1.01  Very Good     I     SI1  ...       VG    GIA   4375   4307.9166\n",
              "\n",
              "[5 rows x 9 columns]"
            ]
          },
          "metadata": {
            "tags": []
          },
          "execution_count": 23
        }
      ]
    },
    {
      "cell_type": "markdown",
      "metadata": {
        "id": "wZnpuHoDzZxG"
      },
      "source": [
        "The `Label` column is added onto the `data_unseen` set. Label is the predicted value using the `final_lightgbm` model. If you want predictions to be rounded, you can use `round` parameter inside `predict_model()`."
      ]
    },
    {
      "cell_type": "markdown",
      "metadata": {
        "id": "os2dbiIrzZxJ"
      },
      "source": [
        "# 14.0 Saving the model"
      ]
    },
    {
      "cell_type": "markdown",
      "metadata": {
        "id": "46CV19RlzZxL"
      },
      "source": [
        "We have now finished the experiment by finalizing the `tuned_lightgbm` model which is now stored in `final_lightgbm` variable. We have also used the model stored in `final_lightgbm` to predict `data_unseen`. This brings us to the end of our experiment, but one question is still to be asked: What happens when you have more new data to predict? Do you have to go through the entire experiment again? The answer is no, PyCaret's inbuilt function `save_model()` allows you to save the model along with entire transformation pipeline for later use."
      ]
    },
    {
      "cell_type": "code",
      "metadata": {
        "id": "tXl6hkG9zZxN",
        "outputId": "dc874a13-8793-4dd6-ead5-507a759be516",
        "colab": {
          "base_uri": "https://localhost:8080/",
          "height": 34
        }
      },
      "source": [
        "save_model(final_lightgbm,'Final Lightgbm Model 08Feb2020')"
      ],
      "execution_count": null,
      "outputs": [
        {
          "output_type": "stream",
          "text": [
            "Transformation Pipeline and Model Succesfully Saved\n"
          ],
          "name": "stdout"
        }
      ]
    },
    {
      "cell_type": "markdown",
      "metadata": {
        "id": "q2wgdZ5ozZxX"
      },
      "source": [
        "(TIP : It's always good to use date in the filename when saving models, it's good for version control.)"
      ]
    },
    {
      "cell_type": "markdown",
      "metadata": {
        "id": "9LsyznpCzZxb"
      },
      "source": [
        "# 15.0 Loading the saved model"
      ]
    },
    {
      "cell_type": "markdown",
      "metadata": {
        "id": "7ZH-4EMLzZxd"
      },
      "source": [
        "To load a saved model at a future date in the same or an alternative environment, we would use PyCaret's `load_model()` function and then easily apply the saved model on new unseen data for prediction."
      ]
    },
    {
      "cell_type": "code",
      "metadata": {
        "id": "2hsqdgn3zZxg",
        "outputId": "a07f3c3f-b0e8-49df-a309-ad5b7da3c8ca",
        "colab": {
          "base_uri": "https://localhost:8080/",
          "height": 34
        }
      },
      "source": [
        "saved_final_lightgbm = load_model('Final Lightgbm Model 08Feb2020')"
      ],
      "execution_count": null,
      "outputs": [
        {
          "output_type": "stream",
          "text": [
            "Transformation Pipeline and Model Sucessfully Loaded\n"
          ],
          "name": "stdout"
        }
      ]
    },
    {
      "cell_type": "markdown",
      "metadata": {
        "id": "NBAXt62nzZx5"
      },
      "source": [
        "Once the model is loaded in the environment, you can simply use it to predict on any new data using the same `predict_model()` function. Below we have applied the loaded model to predict the same `data_unseen` that we used in section 13 above."
      ]
    },
    {
      "cell_type": "code",
      "metadata": {
        "id": "y7debJpCzZx8"
      },
      "source": [
        "new_prediction = predict_model(saved_final_lightgbm, data=data_unseen)"
      ],
      "execution_count": null,
      "outputs": []
    },
    {
      "cell_type": "code",
      "metadata": {
        "id": "8hT1v3N0zZyD",
        "outputId": "745cf807-f744-431e-a9d3-4bbd14a4606e",
        "colab": {
          "base_uri": "https://localhost:8080/",
          "height": 195
        }
      },
      "source": [
        "new_prediction.head()"
      ],
      "execution_count": null,
      "outputs": [
        {
          "output_type": "execute_result",
          "data": {
            "text/html": [
              "<div>\n",
              "<style scoped>\n",
              "    .dataframe tbody tr th:only-of-type {\n",
              "        vertical-align: middle;\n",
              "    }\n",
              "\n",
              "    .dataframe tbody tr th {\n",
              "        vertical-align: top;\n",
              "    }\n",
              "\n",
              "    .dataframe thead th {\n",
              "        text-align: right;\n",
              "    }\n",
              "</style>\n",
              "<table border=\"1\" class=\"dataframe\">\n",
              "  <thead>\n",
              "    <tr style=\"text-align: right;\">\n",
              "      <th></th>\n",
              "      <th>Carat Weight</th>\n",
              "      <th>Cut</th>\n",
              "      <th>Color</th>\n",
              "      <th>Clarity</th>\n",
              "      <th>Polish</th>\n",
              "      <th>Symmetry</th>\n",
              "      <th>Report</th>\n",
              "      <th>Price</th>\n",
              "      <th>Label</th>\n",
              "    </tr>\n",
              "  </thead>\n",
              "  <tbody>\n",
              "    <tr>\n",
              "      <th>0</th>\n",
              "      <td>1.21</td>\n",
              "      <td>Ideal</td>\n",
              "      <td>G</td>\n",
              "      <td>VVS1</td>\n",
              "      <td>EX</td>\n",
              "      <td>EX</td>\n",
              "      <td>GIA</td>\n",
              "      <td>11572</td>\n",
              "      <td>10812.8943</td>\n",
              "    </tr>\n",
              "    <tr>\n",
              "      <th>1</th>\n",
              "      <td>2.00</td>\n",
              "      <td>Ideal</td>\n",
              "      <td>I</td>\n",
              "      <td>SI1</td>\n",
              "      <td>EX</td>\n",
              "      <td>VG</td>\n",
              "      <td>GIA</td>\n",
              "      <td>16775</td>\n",
              "      <td>15453.9273</td>\n",
              "    </tr>\n",
              "    <tr>\n",
              "      <th>2</th>\n",
              "      <td>1.51</td>\n",
              "      <td>Good</td>\n",
              "      <td>F</td>\n",
              "      <td>SI1</td>\n",
              "      <td>VG</td>\n",
              "      <td>G</td>\n",
              "      <td>GIA</td>\n",
              "      <td>10429</td>\n",
              "      <td>10591.0952</td>\n",
              "    </tr>\n",
              "    <tr>\n",
              "      <th>3</th>\n",
              "      <td>0.90</td>\n",
              "      <td>Ideal</td>\n",
              "      <td>F</td>\n",
              "      <td>SI1</td>\n",
              "      <td>EX</td>\n",
              "      <td>EX</td>\n",
              "      <td>GIA</td>\n",
              "      <td>4523</td>\n",
              "      <td>4639.1068</td>\n",
              "    </tr>\n",
              "    <tr>\n",
              "      <th>4</th>\n",
              "      <td>1.01</td>\n",
              "      <td>Very Good</td>\n",
              "      <td>I</td>\n",
              "      <td>SI1</td>\n",
              "      <td>VG</td>\n",
              "      <td>VG</td>\n",
              "      <td>GIA</td>\n",
              "      <td>4375</td>\n",
              "      <td>4307.9166</td>\n",
              "    </tr>\n",
              "  </tbody>\n",
              "</table>\n",
              "</div>"
            ],
            "text/plain": [
              "   Carat Weight        Cut Color Clarity  ... Symmetry Report  Price       Label\n",
              "0          1.21      Ideal     G    VVS1  ...       EX    GIA  11572  10812.8943\n",
              "1          2.00      Ideal     I     SI1  ...       VG    GIA  16775  15453.9273\n",
              "2          1.51       Good     F     SI1  ...        G    GIA  10429  10591.0952\n",
              "3          0.90      Ideal     F     SI1  ...       EX    GIA   4523   4639.1068\n",
              "4          1.01  Very Good     I     SI1  ...       VG    GIA   4375   4307.9166\n",
              "\n",
              "[5 rows x 9 columns]"
            ]
          },
          "metadata": {
            "tags": []
          },
          "execution_count": 27
        }
      ]
    },
    {
      "cell_type": "markdown",
      "metadata": {
        "id": "cuVEPftKzZyK"
      },
      "source": [
        "Notice that the results of `unseen_predictions` and `new_prediction` are identical."
      ]
    },
    {
      "cell_type": "markdown",
      "metadata": {
        "id": "uE3tuIUHzZyL"
      },
      "source": [
        "# 16.0 Wrap-up / Next Steps?"
      ]
    },
    {
      "cell_type": "markdown",
      "metadata": {
        "id": "ct8oOjuvzZyS"
      },
      "source": [
        "This tutorial has covered the entire machine learning pipeline from data ingestion, pre-processing, training the model, hyperparameter tuning, prediction and saving the model for later use. We have completed all of these steps in less than 10 commands which are naturally constructed and very intuitive to remember such as `create_model()`, `tune_model()`, `compare_models()`. Re-creating the entire experiment without PyCaret would have taken well over 100 lines of code in most libraries.\n",
        "\n",
        "We have only covered the basics of `pycaret.regression`. In following tutorials we will go deeper into advanced pre-processing, ensembling, generalized stacking and other techniques that allow you to fully customize your machine learning pipeline and are must know for any data scientist.\n",
        "\n",
        "See you at the next tutorial. Follow the link to __[Regression Tutorial (REG102) - Level Intermediate](https://github.com/pycaret/pycaret/blob/master/Tutorials/Regression%20Tutorial%20Level%20Intermediate%20-%20REG102.ipynb)__"
      ]
    }
  ]
}