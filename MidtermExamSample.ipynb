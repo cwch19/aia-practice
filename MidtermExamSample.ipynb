{
 "cells": [
  {
   "cell_type": "code",
   "execution_count": 1,
   "metadata": {},
   "outputs": [],
   "source": [
    "import os\n",
    "import glob\n",
    "import numpy as np\n",
    "import pandas as pd\n",
    "import matplotlib.pyplot as plt\n",
    "import seaborn as sns \n",
    "%matplotlib inline"
   ]
  },
  {
   "cell_type": "markdown",
   "metadata": {},
   "source": [
    "# 1. 讀取資料"
   ]
  },
  {
   "cell_type": "code",
   "execution_count": 2,
   "metadata": {},
   "outputs": [],
   "source": [
    "def read_files(root):\n",
    "    dataset = {}\n",
    "    files = list(glob.glob(os.path.join(root, \"*.csv\")))\n",
    "    for file_path in files:\n",
    "        print(f'read file:{file_path}')\n",
    "        code = file_path.replace('stock_data\\\\','').replace('.csv','')\n",
    "        df = pd.read_csv(file_path, index_col='date')\n",
    "        df.sort_index(inplace=True)\n",
    "        dataset[code] = df\n",
    "    \n",
    "    return dataset"
   ]
  },
  {
   "cell_type": "code",
   "execution_count": 3,
   "metadata": {},
   "outputs": [
    {
     "name": "stdout",
     "output_type": "stream",
     "text": [
      "read file:stock_data\\0056.csv\n",
      "read file:stock_data\\1101.csv\n",
      "read file:stock_data\\2327.csv\n",
      "read file:stock_data\\2352.csv\n",
      "read file:stock_data\\2385.csv\n",
      "read file:stock_data\\2449.csv\n",
      "read file:stock_data\\2915.csv\n",
      "read file:stock_data\\3005.csv\n",
      "read file:stock_data\\3532.csv\n",
      "read file:stock_data\\6176.csv\n",
      "read file:stock_data\\9945.csv\n"
     ]
    }
   ],
   "source": [
    "ds = read_files('stock_data')"
   ]
  },
  {
   "cell_type": "code",
   "execution_count": 4,
   "metadata": {},
   "outputs": [
    {
     "data": {
      "text/plain": [
       "dict_keys(['0056', '1101', '2327', '2352', '2385', '2449', '2915', '3005', '3532', '6176', '9945'])"
      ]
     },
     "execution_count": 4,
     "metadata": {},
     "output_type": "execute_result"
    }
   ],
   "source": [
    "ds.keys()"
   ]
  },
  {
   "cell_type": "code",
   "execution_count": 5,
   "metadata": {},
   "outputs": [
    {
     "data": {
      "text/plain": [
       "11"
      ]
     },
     "execution_count": 5,
     "metadata": {},
     "output_type": "execute_result"
    }
   ],
   "source": [
    "len(ds.values())"
   ]
  },
  {
   "cell_type": "markdown",
   "metadata": {},
   "source": [
    "### 觀察0056.csv裡面有157筆空值，是我們要預測的"
   ]
  },
  {
   "cell_type": "code",
   "execution_count": 6,
   "metadata": {},
   "outputs": [
    {
     "data": {
      "text/plain": [
       "0056_close_y    157\n",
       "dtype: int64"
      ]
     },
     "execution_count": 6,
     "metadata": {},
     "output_type": "execute_result"
    }
   ],
   "source": [
    "ds['0056'].isna().sum()"
   ]
  },
  {
   "cell_type": "markdown",
   "metadata": {},
   "source": [
    "# 2. 開始觀察資料、缺失值"
   ]
  },
  {
   "cell_type": "code",
   "execution_count": 7,
   "metadata": {},
   "outputs": [],
   "source": [
    "# 觀察資料..."
   ]
  },
  {
   "cell_type": "markdown",
   "metadata": {},
   "source": [
    "# 3. 補值"
   ]
  },
  {
   "cell_type": "code",
   "execution_count": 8,
   "metadata": {},
   "outputs": [],
   "source": [
    "def fill_values(datasets):\n",
    "    for stock_no, stock_df in datasets.items():\n",
    "        if stock_no != '0056':\n",
    "            # 增加欄位-昨日收盤價 close_y\n",
    "            stock_df[f'{stock_no}_close_y'] = stock_df[f'{stock_no}_close'].shift(1)\n",
    "            # 增加欄位-明日開盤價 open_t\n",
    "            stock_df[f'{stock_no}_open_t'] = stock_df[f'{stock_no}_open'].shift(-1)\n",
    "            \n",
    "            # 補開盤價 open = close_y (用昨天的收盤價)\n",
    "            stock_df[f'{stock_no}_open'].fillna(stock_df[f'{stock_no}_close_y'], inplace=True)\n",
    "\n",
    "            # 補收盤價 close = ups_and_downs + close_y \n",
    "            stock_df[f'{stock_no}_close'].fillna(stock_df[f'{stock_no}_close_y']+stock_df[f'{stock_no}_ups_and_downs'], inplace=True)\n",
    "            \n",
    "            # 補收盤價 close = open_t (用明天的開盤價)\n",
    "            stock_df[f'{stock_no}_close'].fillna(stock_df[f'{stock_no}_open_t'], inplace=True)\n",
    "\n",
    "            # 補EPS\n",
    "            stock_df[f'{stock_no}_eps'].fillna(method='ffill', inplace=True) #用昨天的來補\n",
    "            #stock_df[f'{stock_no}_eps'].fillna(method='bfill', inplace=True) #用明天的來補\n",
    "\n",
    "            # 補股價變動 close - close_y\n",
    "            stock_df[f'{stock_no}_ups_and_downs'].fillna(stock_df[f'{stock_no}_close']-stock_df[f'{stock_no}_close_y'], inplace=True)\n",
    "\n",
    "            # 補漲跌百分比 Close-Open / close_y\n",
    "            stock_df[f'{stock_no}_ups_percent'].fillna(stock_df[f'{stock_no}_ups_and_downs']/stock_df[f'{stock_no}_close_y'], inplace=True)\n",
    "\n",
    "            # 補成交金額 turnover = volumn * ((high+low)/2)\n",
    "            stock_df[f'{stock_no}_Turnover'].fillna(stock_df[f'{stock_no}_Volume']*((stock_df[f'{stock_no}_high']+stock_df[f'{stock_no}_low'])/2), inplace=True)\n",
    "\n",
    "            # 補成交量 volumn = turnover / ((high+low)/2)\n",
    "            stock_df[f'{stock_no}_Volume'].fillna(stock_df[f'{stock_no}_Turnover']/((stock_df[f'{stock_no}_high']+stock_df[f'{stock_no}_low'])/2), inplace=True)\n",
    "\n",
    "            # 補今日高點 high = (turnover / volumn)*2 - low\n",
    "            stock_df[f'{stock_no}_high'].fillna((stock_df[f'{stock_no}_Turnover']/stock_df[f'{stock_no}_Volume'])*2-stock_df[f'{stock_no}_low'], inplace=True)\n",
    "\n",
    "            # 補今日低點 low = (turnover / volumn)*2 - high\n",
    "            stock_df[f'{stock_no}_low'].fillna((stock_df[f'{stock_no}_Turnover']/stock_df[f'{stock_no}_Volume'])*2-stock_df[f'{stock_no}_high'], inplace=True)\n",
    "        \n",
    "            # 補今日高點 high\n",
    "            stock_df[f'{stock_no}_high'].fillna(method='bfill', inplace=True)\n",
    "            \n",
    "            # 補今日低點 low\n",
    "            stock_df[f'{stock_no}_low'].fillna(method='bfill', inplace=True)"
   ]
  },
  {
   "cell_type": "markdown",
   "metadata": {},
   "source": [
    "# 4. 移除不需要的特徵(欄位)"
   ]
  },
  {
   "cell_type": "code",
   "execution_count": 9,
   "metadata": {},
   "outputs": [],
   "source": [
    "def remove_features(datasets):\n",
    "    for stock_no, stock_df in datasets.items():\n",
    "        if stock_no != '0056':\n",
    "            # 移除不要的特徵(欄位)\n",
    "            stock_df.drop(columns=[f'{stock_no}_close_y', f'{stock_no}_open_t'], inplace=True)\n",
    "            stock_df.drop(columns=[f'{stock_no}_high', f'{stock_no}_low'], inplace=True)\n",
    "            stock_df.drop(columns=[f'{stock_no}_Turnover', f'{stock_no}_Volume'], inplace=True)\n",
    "            stock_df.drop(columns=[f'{stock_no}_open'], inplace=True)\n",
    "            stock_df.drop(columns=[f'{stock_no}_ups_and_downs'], inplace=True)\n",
    "            stock_df.drop(columns=[f'{stock_no}_ups_percent'], inplace=True)\n",
    "            #stock_df.drop(columns=[f'{stock_no}_eps'], inplace=True)"
   ]
  },
  {
   "cell_type": "code",
   "execution_count": 10,
   "metadata": {},
   "outputs": [],
   "source": [
    "fill_values(ds)\n",
    "remove_features(ds)"
   ]
  },
  {
   "cell_type": "markdown",
   "metadata": {},
   "source": [
    "### 觀察補完值後，每個資料集的缺失值情形"
   ]
  },
  {
   "cell_type": "code",
   "execution_count": 11,
   "metadata": {},
   "outputs": [
    {
     "name": "stdout",
     "output_type": "stream",
     "text": [
      "1101_close    1\n",
      "1101_eps      0\n",
      "dtype: int64\n",
      "2327_close    8\n",
      "2327_eps      0\n",
      "dtype: int64\n",
      "2352_close    0\n",
      "2352_eps      0\n",
      "dtype: int64\n",
      "2385_close    0\n",
      "2385_eps      0\n",
      "dtype: int64\n",
      "2449_close    0\n",
      "2449_eps      0\n",
      "dtype: int64\n",
      "2915_close    6\n",
      "2915_eps      0\n",
      "dtype: int64\n",
      "3005_close    0\n",
      "3005_eps      0\n",
      "dtype: int64\n",
      "3532_close    7\n",
      "3532_eps      0\n",
      "dtype: int64\n",
      "6176_close    0\n",
      "6176_eps      0\n",
      "dtype: int64\n",
      "9945_close    6\n",
      "9945_eps      0\n",
      "dtype: int64\n"
     ]
    }
   ],
   "source": [
    "for stock_no, stock_df in ds.items():\n",
    "    if stock_no != '0056':\n",
    "        print(stock_df.isna().sum())"
   ]
  },
  {
   "cell_type": "markdown",
   "metadata": {},
   "source": [
    "### 把欄位scaling (非必要)"
   ]
  },
  {
   "cell_type": "code",
   "execution_count": 12,
   "metadata": {},
   "outputs": [],
   "source": [
    "from sklearn.preprocessing import MinMaxScaler\n",
    "scaler = MinMaxScaler()"
   ]
  },
  {
   "cell_type": "code",
   "execution_count": 13,
   "metadata": {},
   "outputs": [],
   "source": [
    "for stock_no, stock_df in ds.items():\n",
    "    if stock_no != '0056':\n",
    "        sc_col = stock_df.columns[~stock_df.columns.isin([f'{stock_no}_ups_and_downs', f'{stock_no}_ups_percent'])]\n",
    "        stock_df[sc_col] = scaler.fit_transform(stock_df[sc_col])"
   ]
  },
  {
   "cell_type": "markdown",
   "metadata": {},
   "source": [
    "# 5. 把全部的資料集都合併在一起"
   ]
  },
  {
   "cell_type": "code",
   "execution_count": 14,
   "metadata": {},
   "outputs": [],
   "source": [
    "def merge_ds(datasets):\n",
    "    result = pd.DataFrame()\n",
    "    for dt in datasets.values():\n",
    "        if result.empty:\n",
    "            result = dt\n",
    "        else:\n",
    "            result = pd.merge(result, dt, left_index=True, right_index=True)\n",
    "    \n",
    "    return result"
   ]
  },
  {
   "cell_type": "code",
   "execution_count": 15,
   "metadata": {},
   "outputs": [
    {
     "data": {
      "text/plain": [
       "(852, 21)"
      ]
     },
     "execution_count": 15,
     "metadata": {},
     "output_type": "execute_result"
    }
   ],
   "source": [
    "mds = merge_ds(ds)\n",
    "mds.shape"
   ]
  },
  {
   "cell_type": "code",
   "execution_count": 16,
   "metadata": {},
   "outputs": [
    {
     "data": {
      "text/html": [
       "<div>\n",
       "<style scoped>\n",
       "    .dataframe tbody tr th:only-of-type {\n",
       "        vertical-align: middle;\n",
       "    }\n",
       "\n",
       "    .dataframe tbody tr th {\n",
       "        vertical-align: top;\n",
       "    }\n",
       "\n",
       "    .dataframe thead th {\n",
       "        text-align: right;\n",
       "    }\n",
       "</style>\n",
       "<table border=\"1\" class=\"dataframe\">\n",
       "  <thead>\n",
       "    <tr style=\"text-align: right;\">\n",
       "      <th></th>\n",
       "      <th>0056_close_y</th>\n",
       "      <th>1101_close</th>\n",
       "      <th>1101_eps</th>\n",
       "      <th>2327_close</th>\n",
       "      <th>2327_eps</th>\n",
       "      <th>2352_close</th>\n",
       "      <th>2352_eps</th>\n",
       "      <th>2385_close</th>\n",
       "      <th>2385_eps</th>\n",
       "      <th>2449_close</th>\n",
       "      <th>...</th>\n",
       "      <th>2915_close</th>\n",
       "      <th>2915_eps</th>\n",
       "      <th>3005_close</th>\n",
       "      <th>3005_eps</th>\n",
       "      <th>3532_close</th>\n",
       "      <th>3532_eps</th>\n",
       "      <th>6176_close</th>\n",
       "      <th>6176_eps</th>\n",
       "      <th>9945_close</th>\n",
       "      <th>9945_eps</th>\n",
       "    </tr>\n",
       "    <tr>\n",
       "      <th>date</th>\n",
       "      <th></th>\n",
       "      <th></th>\n",
       "      <th></th>\n",
       "      <th></th>\n",
       "      <th></th>\n",
       "      <th></th>\n",
       "      <th></th>\n",
       "      <th></th>\n",
       "      <th></th>\n",
       "      <th></th>\n",
       "      <th></th>\n",
       "      <th></th>\n",
       "      <th></th>\n",
       "      <th></th>\n",
       "      <th></th>\n",
       "      <th></th>\n",
       "      <th></th>\n",
       "      <th></th>\n",
       "      <th></th>\n",
       "      <th></th>\n",
       "      <th></th>\n",
       "    </tr>\n",
       "  </thead>\n",
       "  <tbody>\n",
       "    <tr>\n",
       "      <th>6815</th>\n",
       "      <td>319.623136</td>\n",
       "      <td>0.181467</td>\n",
       "      <td>0.911360</td>\n",
       "      <td>0.007584</td>\n",
       "      <td>0.122465</td>\n",
       "      <td>0.049587</td>\n",
       "      <td>0.803161</td>\n",
       "      <td>0.580420</td>\n",
       "      <td>0.899624</td>\n",
       "      <td>0.496552</td>\n",
       "      <td>...</td>\n",
       "      <td>0.180498</td>\n",
       "      <td>0.687097</td>\n",
       "      <td>0.163842</td>\n",
       "      <td>0.783482</td>\n",
       "      <td>0.010447</td>\n",
       "      <td>0.138309</td>\n",
       "      <td>0.076734</td>\n",
       "      <td>0.242905</td>\n",
       "      <td>0.486842</td>\n",
       "      <td>0.690049</td>\n",
       "    </tr>\n",
       "    <tr>\n",
       "      <th>6816</th>\n",
       "      <td>320.416337</td>\n",
       "      <td>0.196911</td>\n",
       "      <td>0.918788</td>\n",
       "      <td>0.006987</td>\n",
       "      <td>0.120382</td>\n",
       "      <td>0.049587</td>\n",
       "      <td>0.803161</td>\n",
       "      <td>0.582751</td>\n",
       "      <td>0.902301</td>\n",
       "      <td>0.503448</td>\n",
       "      <td>...</td>\n",
       "      <td>0.148340</td>\n",
       "      <td>0.654839</td>\n",
       "      <td>0.146893</td>\n",
       "      <td>0.768973</td>\n",
       "      <td>0.012968</td>\n",
       "      <td>0.140247</td>\n",
       "      <td>0.077962</td>\n",
       "      <td>0.244202</td>\n",
       "      <td>0.438596</td>\n",
       "      <td>0.657423</td>\n",
       "    </tr>\n",
       "    <tr>\n",
       "      <th>6817</th>\n",
       "      <td>320.416337</td>\n",
       "      <td>0.231660</td>\n",
       "      <td>0.935130</td>\n",
       "      <td>0.006987</td>\n",
       "      <td>0.120382</td>\n",
       "      <td>0.066116</td>\n",
       "      <td>0.829801</td>\n",
       "      <td>0.578089</td>\n",
       "      <td>0.896947</td>\n",
       "      <td>0.512644</td>\n",
       "      <td>...</td>\n",
       "      <td>0.125519</td>\n",
       "      <td>0.633871</td>\n",
       "      <td>0.135593</td>\n",
       "      <td>0.758929</td>\n",
       "      <td>0.010086</td>\n",
       "      <td>0.137975</td>\n",
       "      <td>0.074279</td>\n",
       "      <td>0.240313</td>\n",
       "      <td>0.418860</td>\n",
       "      <td>0.644372</td>\n",
       "    </tr>\n",
       "    <tr>\n",
       "      <th>6818</th>\n",
       "      <td>319.358946</td>\n",
       "      <td>0.247104</td>\n",
       "      <td>0.942557</td>\n",
       "      <td>0.006646</td>\n",
       "      <td>0.119341</td>\n",
       "      <td>0.061983</td>\n",
       "      <td>0.823881</td>\n",
       "      <td>0.578089</td>\n",
       "      <td>0.896947</td>\n",
       "      <td>0.512644</td>\n",
       "      <td>...</td>\n",
       "      <td>0.120332</td>\n",
       "      <td>0.627419</td>\n",
       "      <td>0.158192</td>\n",
       "      <td>0.779018</td>\n",
       "      <td>0.010086</td>\n",
       "      <td>0.137975</td>\n",
       "      <td>0.062001</td>\n",
       "      <td>0.223460</td>\n",
       "      <td>0.410088</td>\n",
       "      <td>0.639478</td>\n",
       "    </tr>\n",
       "    <tr>\n",
       "      <th>6819</th>\n",
       "      <td>314.621555</td>\n",
       "      <td>0.250965</td>\n",
       "      <td>0.944538</td>\n",
       "      <td>0.006646</td>\n",
       "      <td>0.119341</td>\n",
       "      <td>0.045455</td>\n",
       "      <td>0.795761</td>\n",
       "      <td>0.571096</td>\n",
       "      <td>0.888917</td>\n",
       "      <td>0.498851</td>\n",
       "      <td>...</td>\n",
       "      <td>0.133817</td>\n",
       "      <td>0.641935</td>\n",
       "      <td>0.177966</td>\n",
       "      <td>0.795759</td>\n",
       "      <td>0.008646</td>\n",
       "      <td>0.136905</td>\n",
       "      <td>0.043585</td>\n",
       "      <td>0.198828</td>\n",
       "      <td>0.425439</td>\n",
       "      <td>0.649266</td>\n",
       "    </tr>\n",
       "  </tbody>\n",
       "</table>\n",
       "<p>5 rows × 21 columns</p>\n",
       "</div>"
      ],
      "text/plain": [
       "      0056_close_y  1101_close  1101_eps  2327_close  2327_eps  2352_close  \\\n",
       "date                                                                         \n",
       "6815    319.623136    0.181467  0.911360    0.007584  0.122465    0.049587   \n",
       "6816    320.416337    0.196911  0.918788    0.006987  0.120382    0.049587   \n",
       "6817    320.416337    0.231660  0.935130    0.006987  0.120382    0.066116   \n",
       "6818    319.358946    0.247104  0.942557    0.006646  0.119341    0.061983   \n",
       "6819    314.621555    0.250965  0.944538    0.006646  0.119341    0.045455   \n",
       "\n",
       "      2352_eps  2385_close  2385_eps  2449_close  ...  2915_close  2915_eps  \\\n",
       "date                                              ...                         \n",
       "6815  0.803161    0.580420  0.899624    0.496552  ...    0.180498  0.687097   \n",
       "6816  0.803161    0.582751  0.902301    0.503448  ...    0.148340  0.654839   \n",
       "6817  0.829801    0.578089  0.896947    0.512644  ...    0.125519  0.633871   \n",
       "6818  0.823881    0.578089  0.896947    0.512644  ...    0.120332  0.627419   \n",
       "6819  0.795761    0.571096  0.888917    0.498851  ...    0.133817  0.641935   \n",
       "\n",
       "      3005_close  3005_eps  3532_close  3532_eps  6176_close  6176_eps  \\\n",
       "date                                                                     \n",
       "6815    0.163842  0.783482    0.010447  0.138309    0.076734  0.242905   \n",
       "6816    0.146893  0.768973    0.012968  0.140247    0.077962  0.244202   \n",
       "6817    0.135593  0.758929    0.010086  0.137975    0.074279  0.240313   \n",
       "6818    0.158192  0.779018    0.010086  0.137975    0.062001  0.223460   \n",
       "6819    0.177966  0.795759    0.008646  0.136905    0.043585  0.198828   \n",
       "\n",
       "      9945_close  9945_eps  \n",
       "date                        \n",
       "6815    0.486842  0.690049  \n",
       "6816    0.438596  0.657423  \n",
       "6817    0.418860  0.644372  \n",
       "6818    0.410088  0.639478  \n",
       "6819    0.425439  0.649266  \n",
       "\n",
       "[5 rows x 21 columns]"
      ]
     },
     "execution_count": 16,
     "metadata": {},
     "output_type": "execute_result"
    }
   ],
   "source": [
    "mds.head()"
   ]
  },
  {
   "cell_type": "code",
   "execution_count": 17,
   "metadata": {},
   "outputs": [
    {
     "data": {
      "text/plain": [
       "0056_close_y    157\n",
       "1101_close        1\n",
       "1101_eps          0\n",
       "2327_close        8\n",
       "2327_eps          0\n",
       "2352_close        0\n",
       "2352_eps          0\n",
       "2385_close        0\n",
       "2385_eps          0\n",
       "2449_close        0\n",
       "2449_eps          0\n",
       "2915_close        6\n",
       "2915_eps          0\n",
       "3005_close        0\n",
       "3005_eps          0\n",
       "3532_close        7\n",
       "3532_eps          0\n",
       "6176_close        0\n",
       "6176_eps          0\n",
       "9945_close        6\n",
       "9945_eps          0\n",
       "dtype: int64"
      ]
     },
     "execution_count": 17,
     "metadata": {},
     "output_type": "execute_result"
    }
   ],
   "source": [
    "mds.isna().sum()"
   ]
  },
  {
   "cell_type": "markdown",
   "metadata": {},
   "source": [
    "### 把資料分成訓練部分(train_part) 和考試最終要預測的部分(exam_part)"
   ]
  },
  {
   "cell_type": "code",
   "execution_count": 18,
   "metadata": {},
   "outputs": [],
   "source": [
    "train_part = mds[~mds['0056_close_y'].isna()]\n",
    "exam_part = mds[mds['0056_close_y'].isna()]"
   ]
  },
  {
   "cell_type": "markdown",
   "metadata": {},
   "source": [
    "### 把訓練部分(train_part) 仍有缺失的部分都補起來"
   ]
  },
  {
   "cell_type": "code",
   "execution_count": 19,
   "metadata": {},
   "outputs": [
    {
     "name": "stderr",
     "output_type": "stream",
     "text": [
      "D:\\anaconda3\\lib\\site-packages\\pandas\\core\\frame.py:4153: SettingWithCopyWarning: \n",
      "A value is trying to be set on a copy of a slice from a DataFrame\n",
      "\n",
      "See the caveats in the documentation: https://pandas.pydata.org/pandas-docs/stable/user_guide/indexing.html#returning-a-view-versus-a-copy\n",
      "  downcast=downcast,\n"
     ]
    }
   ],
   "source": [
    "#train_set.dropna(inplace=True)\n",
    "train_part.fillna(method='ffill', inplace=True) #用昨天的資料來補"
   ]
  },
  {
   "cell_type": "code",
   "execution_count": 20,
   "metadata": {},
   "outputs": [
    {
     "data": {
      "text/html": [
       "<div>\n",
       "<style scoped>\n",
       "    .dataframe tbody tr th:only-of-type {\n",
       "        vertical-align: middle;\n",
       "    }\n",
       "\n",
       "    .dataframe tbody tr th {\n",
       "        vertical-align: top;\n",
       "    }\n",
       "\n",
       "    .dataframe thead th {\n",
       "        text-align: right;\n",
       "    }\n",
       "</style>\n",
       "<table border=\"1\" class=\"dataframe\">\n",
       "  <thead>\n",
       "    <tr style=\"text-align: right;\">\n",
       "      <th></th>\n",
       "      <th>0056_close_y</th>\n",
       "      <th>1101_close</th>\n",
       "      <th>1101_eps</th>\n",
       "      <th>2327_close</th>\n",
       "      <th>2327_eps</th>\n",
       "      <th>2352_close</th>\n",
       "      <th>2352_eps</th>\n",
       "      <th>2385_close</th>\n",
       "      <th>2385_eps</th>\n",
       "      <th>2449_close</th>\n",
       "      <th>...</th>\n",
       "      <th>2915_close</th>\n",
       "      <th>2915_eps</th>\n",
       "      <th>3005_close</th>\n",
       "      <th>3005_eps</th>\n",
       "      <th>3532_close</th>\n",
       "      <th>3532_eps</th>\n",
       "      <th>6176_close</th>\n",
       "      <th>6176_eps</th>\n",
       "      <th>9945_close</th>\n",
       "      <th>9945_eps</th>\n",
       "    </tr>\n",
       "    <tr>\n",
       "      <th>date</th>\n",
       "      <th></th>\n",
       "      <th></th>\n",
       "      <th></th>\n",
       "      <th></th>\n",
       "      <th></th>\n",
       "      <th></th>\n",
       "      <th></th>\n",
       "      <th></th>\n",
       "      <th></th>\n",
       "      <th></th>\n",
       "      <th></th>\n",
       "      <th></th>\n",
       "      <th></th>\n",
       "      <th></th>\n",
       "      <th></th>\n",
       "      <th></th>\n",
       "      <th></th>\n",
       "      <th></th>\n",
       "      <th></th>\n",
       "      <th></th>\n",
       "      <th></th>\n",
       "    </tr>\n",
       "  </thead>\n",
       "  <tbody>\n",
       "    <tr>\n",
       "      <th>6815</th>\n",
       "      <td>319.623136</td>\n",
       "      <td>0.181467</td>\n",
       "      <td>0.911360</td>\n",
       "      <td>0.007584</td>\n",
       "      <td>0.122465</td>\n",
       "      <td>0.049587</td>\n",
       "      <td>0.803161</td>\n",
       "      <td>0.580420</td>\n",
       "      <td>0.899624</td>\n",
       "      <td>0.496552</td>\n",
       "      <td>...</td>\n",
       "      <td>0.180498</td>\n",
       "      <td>0.687097</td>\n",
       "      <td>0.163842</td>\n",
       "      <td>0.783482</td>\n",
       "      <td>0.010447</td>\n",
       "      <td>0.138309</td>\n",
       "      <td>0.076734</td>\n",
       "      <td>0.242905</td>\n",
       "      <td>0.486842</td>\n",
       "      <td>0.690049</td>\n",
       "    </tr>\n",
       "    <tr>\n",
       "      <th>6816</th>\n",
       "      <td>320.416337</td>\n",
       "      <td>0.196911</td>\n",
       "      <td>0.918788</td>\n",
       "      <td>0.006987</td>\n",
       "      <td>0.120382</td>\n",
       "      <td>0.049587</td>\n",
       "      <td>0.803161</td>\n",
       "      <td>0.582751</td>\n",
       "      <td>0.902301</td>\n",
       "      <td>0.503448</td>\n",
       "      <td>...</td>\n",
       "      <td>0.148340</td>\n",
       "      <td>0.654839</td>\n",
       "      <td>0.146893</td>\n",
       "      <td>0.768973</td>\n",
       "      <td>0.012968</td>\n",
       "      <td>0.140247</td>\n",
       "      <td>0.077962</td>\n",
       "      <td>0.244202</td>\n",
       "      <td>0.438596</td>\n",
       "      <td>0.657423</td>\n",
       "    </tr>\n",
       "    <tr>\n",
       "      <th>6817</th>\n",
       "      <td>320.416337</td>\n",
       "      <td>0.231660</td>\n",
       "      <td>0.935130</td>\n",
       "      <td>0.006987</td>\n",
       "      <td>0.120382</td>\n",
       "      <td>0.066116</td>\n",
       "      <td>0.829801</td>\n",
       "      <td>0.578089</td>\n",
       "      <td>0.896947</td>\n",
       "      <td>0.512644</td>\n",
       "      <td>...</td>\n",
       "      <td>0.125519</td>\n",
       "      <td>0.633871</td>\n",
       "      <td>0.135593</td>\n",
       "      <td>0.758929</td>\n",
       "      <td>0.010086</td>\n",
       "      <td>0.137975</td>\n",
       "      <td>0.074279</td>\n",
       "      <td>0.240313</td>\n",
       "      <td>0.418860</td>\n",
       "      <td>0.644372</td>\n",
       "    </tr>\n",
       "    <tr>\n",
       "      <th>6818</th>\n",
       "      <td>319.358946</td>\n",
       "      <td>0.247104</td>\n",
       "      <td>0.942557</td>\n",
       "      <td>0.006646</td>\n",
       "      <td>0.119341</td>\n",
       "      <td>0.061983</td>\n",
       "      <td>0.823881</td>\n",
       "      <td>0.578089</td>\n",
       "      <td>0.896947</td>\n",
       "      <td>0.512644</td>\n",
       "      <td>...</td>\n",
       "      <td>0.120332</td>\n",
       "      <td>0.627419</td>\n",
       "      <td>0.158192</td>\n",
       "      <td>0.779018</td>\n",
       "      <td>0.010086</td>\n",
       "      <td>0.137975</td>\n",
       "      <td>0.062001</td>\n",
       "      <td>0.223460</td>\n",
       "      <td>0.410088</td>\n",
       "      <td>0.639478</td>\n",
       "    </tr>\n",
       "    <tr>\n",
       "      <th>6819</th>\n",
       "      <td>314.621555</td>\n",
       "      <td>0.250965</td>\n",
       "      <td>0.944538</td>\n",
       "      <td>0.006646</td>\n",
       "      <td>0.119341</td>\n",
       "      <td>0.045455</td>\n",
       "      <td>0.795761</td>\n",
       "      <td>0.571096</td>\n",
       "      <td>0.888917</td>\n",
       "      <td>0.498851</td>\n",
       "      <td>...</td>\n",
       "      <td>0.133817</td>\n",
       "      <td>0.641935</td>\n",
       "      <td>0.177966</td>\n",
       "      <td>0.795759</td>\n",
       "      <td>0.008646</td>\n",
       "      <td>0.136905</td>\n",
       "      <td>0.043585</td>\n",
       "      <td>0.198828</td>\n",
       "      <td>0.425439</td>\n",
       "      <td>0.649266</td>\n",
       "    </tr>\n",
       "  </tbody>\n",
       "</table>\n",
       "<p>5 rows × 21 columns</p>\n",
       "</div>"
      ],
      "text/plain": [
       "      0056_close_y  1101_close  1101_eps  2327_close  2327_eps  2352_close  \\\n",
       "date                                                                         \n",
       "6815    319.623136    0.181467  0.911360    0.007584  0.122465    0.049587   \n",
       "6816    320.416337    0.196911  0.918788    0.006987  0.120382    0.049587   \n",
       "6817    320.416337    0.231660  0.935130    0.006987  0.120382    0.066116   \n",
       "6818    319.358946    0.247104  0.942557    0.006646  0.119341    0.061983   \n",
       "6819    314.621555    0.250965  0.944538    0.006646  0.119341    0.045455   \n",
       "\n",
       "      2352_eps  2385_close  2385_eps  2449_close  ...  2915_close  2915_eps  \\\n",
       "date                                              ...                         \n",
       "6815  0.803161    0.580420  0.899624    0.496552  ...    0.180498  0.687097   \n",
       "6816  0.803161    0.582751  0.902301    0.503448  ...    0.148340  0.654839   \n",
       "6817  0.829801    0.578089  0.896947    0.512644  ...    0.125519  0.633871   \n",
       "6818  0.823881    0.578089  0.896947    0.512644  ...    0.120332  0.627419   \n",
       "6819  0.795761    0.571096  0.888917    0.498851  ...    0.133817  0.641935   \n",
       "\n",
       "      3005_close  3005_eps  3532_close  3532_eps  6176_close  6176_eps  \\\n",
       "date                                                                     \n",
       "6815    0.163842  0.783482    0.010447  0.138309    0.076734  0.242905   \n",
       "6816    0.146893  0.768973    0.012968  0.140247    0.077962  0.244202   \n",
       "6817    0.135593  0.758929    0.010086  0.137975    0.074279  0.240313   \n",
       "6818    0.158192  0.779018    0.010086  0.137975    0.062001  0.223460   \n",
       "6819    0.177966  0.795759    0.008646  0.136905    0.043585  0.198828   \n",
       "\n",
       "      9945_close  9945_eps  \n",
       "date                        \n",
       "6815    0.486842  0.690049  \n",
       "6816    0.438596  0.657423  \n",
       "6817    0.418860  0.644372  \n",
       "6818    0.410088  0.639478  \n",
       "6819    0.425439  0.649266  \n",
       "\n",
       "[5 rows x 21 columns]"
      ]
     },
     "execution_count": 20,
     "metadata": {},
     "output_type": "execute_result"
    }
   ],
   "source": [
    "train_part.head()"
   ]
  },
  {
   "cell_type": "code",
   "execution_count": 75,
   "metadata": {},
   "outputs": [
    {
     "data": {
      "text/html": [
       "<div>\n",
       "<style scoped>\n",
       "    .dataframe tbody tr th:only-of-type {\n",
       "        vertical-align: middle;\n",
       "    }\n",
       "\n",
       "    .dataframe tbody tr th {\n",
       "        vertical-align: top;\n",
       "    }\n",
       "\n",
       "    .dataframe thead th {\n",
       "        text-align: right;\n",
       "    }\n",
       "</style>\n",
       "<table border=\"1\" class=\"dataframe\">\n",
       "  <thead>\n",
       "    <tr style=\"text-align: right;\">\n",
       "      <th></th>\n",
       "      <th>0056_close_y</th>\n",
       "      <th>1101_close</th>\n",
       "      <th>1101_eps</th>\n",
       "      <th>2327_close</th>\n",
       "      <th>2327_eps</th>\n",
       "      <th>2352_close</th>\n",
       "      <th>2352_eps</th>\n",
       "      <th>2385_close</th>\n",
       "      <th>2385_eps</th>\n",
       "      <th>2449_close</th>\n",
       "      <th>...</th>\n",
       "      <th>2915_close</th>\n",
       "      <th>2915_eps</th>\n",
       "      <th>3005_close</th>\n",
       "      <th>3005_eps</th>\n",
       "      <th>3532_close</th>\n",
       "      <th>3532_eps</th>\n",
       "      <th>6176_close</th>\n",
       "      <th>6176_eps</th>\n",
       "      <th>9945_close</th>\n",
       "      <th>9945_eps</th>\n",
       "    </tr>\n",
       "    <tr>\n",
       "      <th>date</th>\n",
       "      <th></th>\n",
       "      <th></th>\n",
       "      <th></th>\n",
       "      <th></th>\n",
       "      <th></th>\n",
       "      <th></th>\n",
       "      <th></th>\n",
       "      <th></th>\n",
       "      <th></th>\n",
       "      <th></th>\n",
       "      <th></th>\n",
       "      <th></th>\n",
       "      <th></th>\n",
       "      <th></th>\n",
       "      <th></th>\n",
       "      <th></th>\n",
       "      <th></th>\n",
       "      <th></th>\n",
       "      <th></th>\n",
       "      <th></th>\n",
       "      <th></th>\n",
       "    </tr>\n",
       "  </thead>\n",
       "  <tbody>\n",
       "    <tr>\n",
       "      <th>7847</th>\n",
       "      <td>NaN</td>\n",
       "      <td>0.822394</td>\n",
       "      <td>0.112033</td>\n",
       "      <td>0.178596</td>\n",
       "      <td>0.006590</td>\n",
       "      <td>0.549587</td>\n",
       "      <td>0.435384</td>\n",
       "      <td>0.580420</td>\n",
       "      <td>0.479142</td>\n",
       "      <td>0.696552</td>\n",
       "      <td>...</td>\n",
       "      <td>0.481328</td>\n",
       "      <td>0.259435</td>\n",
       "      <td>0.661017</td>\n",
       "      <td>0.373940</td>\n",
       "      <td>0.571326</td>\n",
       "      <td>0.005991</td>\n",
       "      <td>0.969306</td>\n",
       "      <td>0.567989</td>\n",
       "      <td>0.587719</td>\n",
       "      <td>0.259250</td>\n",
       "    </tr>\n",
       "    <tr>\n",
       "      <th>7848</th>\n",
       "      <td>NaN</td>\n",
       "      <td>0.783784</td>\n",
       "      <td>0.106110</td>\n",
       "      <td>0.171353</td>\n",
       "      <td>0.004257</td>\n",
       "      <td>0.524793</td>\n",
       "      <td>0.413184</td>\n",
       "      <td>0.557110</td>\n",
       "      <td>0.459374</td>\n",
       "      <td>0.620690</td>\n",
       "      <td>...</td>\n",
       "      <td>0.458506</td>\n",
       "      <td>0.249339</td>\n",
       "      <td>0.666667</td>\n",
       "      <td>0.377054</td>\n",
       "      <td>0.553314</td>\n",
       "      <td>0.004811</td>\n",
       "      <td>0.907919</td>\n",
       "      <td>0.520671</td>\n",
       "      <td>0.554825</td>\n",
       "      <td>0.246297</td>\n",
       "    </tr>\n",
       "    <tr>\n",
       "      <th>7851</th>\n",
       "      <td>NaN</td>\n",
       "      <td>0.783784</td>\n",
       "      <td>0.106110</td>\n",
       "      <td>0.173483</td>\n",
       "      <td>0.004943</td>\n",
       "      <td>0.524793</td>\n",
       "      <td>0.413184</td>\n",
       "      <td>0.529138</td>\n",
       "      <td>0.435646</td>\n",
       "      <td>0.604598</td>\n",
       "      <td>...</td>\n",
       "      <td>0.425311</td>\n",
       "      <td>0.234645</td>\n",
       "      <td>0.703390</td>\n",
       "      <td>0.397254</td>\n",
       "      <td>0.549712</td>\n",
       "      <td>0.004575</td>\n",
       "      <td>0.889503</td>\n",
       "      <td>0.506475</td>\n",
       "      <td>0.539474</td>\n",
       "      <td>0.240261</td>\n",
       "    </tr>\n",
       "    <tr>\n",
       "      <th>7852</th>\n",
       "      <td>NaN</td>\n",
       "      <td>0.764479</td>\n",
       "      <td>0.103149</td>\n",
       "      <td>0.172205</td>\n",
       "      <td>0.033981</td>\n",
       "      <td>0.516529</td>\n",
       "      <td>0.405784</td>\n",
       "      <td>0.545455</td>\n",
       "      <td>0.449484</td>\n",
       "      <td>0.659770</td>\n",
       "      <td>...</td>\n",
       "      <td>0.408714</td>\n",
       "      <td>0.227290</td>\n",
       "      <td>0.655367</td>\n",
       "      <td>0.370826</td>\n",
       "      <td>0.538905</td>\n",
       "      <td>0.003868</td>\n",
       "      <td>0.889503</td>\n",
       "      <td>0.506475</td>\n",
       "      <td>0.574561</td>\n",
       "      <td>0.254078</td>\n",
       "    </tr>\n",
       "    <tr>\n",
       "      <th>7853</th>\n",
       "      <td>NaN</td>\n",
       "      <td>0.768340</td>\n",
       "      <td>0.103738</td>\n",
       "      <td>0.165389</td>\n",
       "      <td>0.030871</td>\n",
       "      <td>0.508264</td>\n",
       "      <td>0.398384</td>\n",
       "      <td>0.564103</td>\n",
       "      <td>0.465303</td>\n",
       "      <td>0.643678</td>\n",
       "      <td>...</td>\n",
       "      <td>0.404564</td>\n",
       "      <td>0.225452</td>\n",
       "      <td>0.635593</td>\n",
       "      <td>0.359955</td>\n",
       "      <td>0.506484</td>\n",
       "      <td>0.001745</td>\n",
       "      <td>0.883364</td>\n",
       "      <td>0.501744</td>\n",
       "      <td>0.557018</td>\n",
       "      <td>0.247162</td>\n",
       "    </tr>\n",
       "  </tbody>\n",
       "</table>\n",
       "<p>5 rows × 21 columns</p>\n",
       "</div>"
      ],
      "text/plain": [
       "      0056_close_y  1101_close  1101_eps  2327_close  2327_eps  2352_close  \\\n",
       "date                                                                         \n",
       "7847           NaN    0.822394  0.112033    0.178596  0.006590    0.549587   \n",
       "7848           NaN    0.783784  0.106110    0.171353  0.004257    0.524793   \n",
       "7851           NaN    0.783784  0.106110    0.173483  0.004943    0.524793   \n",
       "7852           NaN    0.764479  0.103149    0.172205  0.033981    0.516529   \n",
       "7853           NaN    0.768340  0.103738    0.165389  0.030871    0.508264   \n",
       "\n",
       "      2352_eps  2385_close  2385_eps  2449_close  ...  2915_close  2915_eps  \\\n",
       "date                                              ...                         \n",
       "7847  0.435384    0.580420  0.479142    0.696552  ...    0.481328  0.259435   \n",
       "7848  0.413184    0.557110  0.459374    0.620690  ...    0.458506  0.249339   \n",
       "7851  0.413184    0.529138  0.435646    0.604598  ...    0.425311  0.234645   \n",
       "7852  0.405784    0.545455  0.449484    0.659770  ...    0.408714  0.227290   \n",
       "7853  0.398384    0.564103  0.465303    0.643678  ...    0.404564  0.225452   \n",
       "\n",
       "      3005_close  3005_eps  3532_close  3532_eps  6176_close  6176_eps  \\\n",
       "date                                                                     \n",
       "7847    0.661017  0.373940    0.571326  0.005991    0.969306  0.567989   \n",
       "7848    0.666667  0.377054    0.553314  0.004811    0.907919  0.520671   \n",
       "7851    0.703390  0.397254    0.549712  0.004575    0.889503  0.506475   \n",
       "7852    0.655367  0.370826    0.538905  0.003868    0.889503  0.506475   \n",
       "7853    0.635593  0.359955    0.506484  0.001745    0.883364  0.501744   \n",
       "\n",
       "      9945_close  9945_eps  \n",
       "date                        \n",
       "7847    0.587719  0.259250  \n",
       "7848    0.554825  0.246297  \n",
       "7851    0.539474  0.240261  \n",
       "7852    0.574561  0.254078  \n",
       "7853    0.557018  0.247162  \n",
       "\n",
       "[5 rows x 21 columns]"
      ]
     },
     "execution_count": 75,
     "metadata": {},
     "output_type": "execute_result"
    }
   ],
   "source": [
    "exam_part.head()"
   ]
  },
  {
   "cell_type": "markdown",
   "metadata": {},
   "source": [
    "### 把訓練部分 (train_part) 分成訓練集和測試集，等一下要跑模型用"
   ]
  },
  {
   "cell_type": "code",
   "execution_count": 21,
   "metadata": {},
   "outputs": [],
   "source": [
    "from sklearn.model_selection import train_test_split"
   ]
  },
  {
   "cell_type": "code",
   "execution_count": 22,
   "metadata": {},
   "outputs": [],
   "source": [
    "from sklearn.metrics import r2_score\n",
    "from sklearn.metrics import mean_absolute_error\n",
    "from sklearn.metrics import mean_squared_error"
   ]
  },
  {
   "cell_type": "code",
   "execution_count": 23,
   "metadata": {},
   "outputs": [],
   "source": [
    "X = train_part.drop('0056_close_y', axis = 1)\n",
    "Y = train_part['0056_close_y']\n",
    "X_train, X_test, Y_train, Y_test = train_test_split(X, Y, test_size = 0.33, random_state = 5)"
   ]
  },
  {
   "cell_type": "markdown",
   "metadata": {},
   "source": [
    "# 6. 使用模型並且評估結果"
   ]
  },
  {
   "cell_type": "markdown",
   "metadata": {},
   "source": [
    "### SVM模型"
   ]
  },
  {
   "cell_type": "code",
   "execution_count": 70,
   "metadata": {},
   "outputs": [],
   "source": [
    "from sklearn.svm import SVR"
   ]
  },
  {
   "cell_type": "code",
   "execution_count": 71,
   "metadata": {},
   "outputs": [
    {
     "data": {
      "text/plain": [
       "Text(0.5, 1.0, 'mse of svm = 30.592843995324387, r2=0.9693243508815839')"
      ]
     },
     "execution_count": 71,
     "metadata": {},
     "output_type": "execute_result"
    },
    {
     "data": {
      "image/png": "[encoded data removed]",
      "text/plain": [
       "<Figure size 432x288 with 1 Axes>"
      ]
     },
     "metadata": {
      "needs_background": "light"
     },
     "output_type": "display_data"
    }
   ],
   "source": [
    "model4 = SVR(kernel='rbf', C=1000)\n",
    "model4.fit(X_train, Y_train)\n",
    "pred4 = model4.predict(X_test)\n",
    "\n",
    "plt.scatter(Y_test, pred4)\n",
    "plt.plot([200, 400], [200, 400], 'r')\n",
    "plt.title(f'mse of svm = {mean_squared_error(Y_test, pred4)}, r2={r2_score(Y_test, pred4)}')"
   ]
  },
  {
   "cell_type": "markdown",
   "metadata": {},
   "source": [
    "### 隨機森林模型"
   ]
  },
  {
   "cell_type": "code",
   "execution_count": 29,
   "metadata": {},
   "outputs": [],
   "source": [
    "from sklearn.ensemble import RandomForestRegressor"
   ]
  },
  {
   "cell_type": "code",
   "execution_count": 64,
   "metadata": {},
   "outputs": [
    {
     "data": {
      "text/plain": [
       "Text(0.5, 1.0, 'mse of random forest = 37.31414999525357, r2=0.9625848524386524')"
      ]
     },
     "execution_count": 64,
     "metadata": {},
     "output_type": "execute_result"
    },
    {
     "data": {
      "image/png": "[encoded data removed]",
      "text/plain": [
       "<Figure size 432x288 with 1 Axes>"
      ]
     },
     "metadata": {
      "needs_background": "light"
     },
     "output_type": "display_data"
    }
   ],
   "source": [
    "model5 = RandomForestRegressor(n_estimators=300)\n",
    "model5.fit(X_train, Y_train)\n",
    "pred5 = model5.predict(X_test)\n",
    "\n",
    "plt.scatter(Y_test, pred5)\n",
    "plt.plot([200, 400], [200, 400], 'r')\n",
    "plt.title(f'mse of random forest = {mean_squared_error(Y_test, pred5)}, r2={r2_score(Y_test, pred5)}')"
   ]
  },
  {
   "cell_type": "code",
   "execution_count": 65,
   "metadata": {},
   "outputs": [
    {
     "data": {
      "text/plain": [
       "<matplotlib.axes._subplots.AxesSubplot at 0x13b40da0630>"
      ]
     },
     "execution_count": 65,
     "metadata": {},
     "output_type": "execute_result"
    },
    {
     "data": {
      "image/png": "[encoded data removed]",
      "text/plain": [
       "<Figure size 432x288 with 1 Axes>"
      ]
     },
     "metadata": {
      "needs_background": "light"
     },
     "output_type": "display_data"
    }
   ],
   "source": [
    "feat_importances = pd.Series(model5.feature_importances_, index=X_train.columns)\n",
    "feat_importances.nlargest(50).plot(kind='bar')"
   ]
  },
  {
   "cell_type": "markdown",
   "metadata": {},
   "source": [
    "### 把exam_part裡面的0056_close_y欄位刪除，因為本來就是空的，等一下要用F_test來考試"
   ]
  },
  {
   "cell_type": "code",
   "execution_count": 66,
   "metadata": {},
   "outputs": [],
   "source": [
    "F_test = exam_part.drop('0056_close_y', axis = 1)"
   ]
  },
  {
   "cell_type": "markdown",
   "metadata": {},
   "source": [
    "### 用模型來考試"
   ]
  },
  {
   "cell_type": "code",
   "execution_count": 72,
   "metadata": {},
   "outputs": [],
   "source": [
    "final_model = model4\n",
    "F_pred = final_model.predict(F_test) # F_pred 就是預測結果"
   ]
  },
  {
   "cell_type": "markdown",
   "metadata": {},
   "source": [
    "### 把預測結果輸出成 result.csv，並上傳到 kaggle"
   ]
  },
  {
   "cell_type": "code",
   "execution_count": 73,
   "metadata": {},
   "outputs": [],
   "source": [
    "F_pred = pd.DataFrame(F_pred)\n",
    "F_pred.columns = [\"prediction\"]\n",
    "F_pred.index = F_test.index\n",
    "output=pd.DataFrame(data={\"date\":F_test.index,\"0056_close_y\":F_pred[\"prediction\"]})\n",
    "output.to_csv(path_or_buf=\"results.csv\",index=False,quoting=3,sep=',')"
   ]
  },
  {
   "cell_type": "markdown",
   "metadata": {},
   "source": [
    "### 觀察 result.csv的結果"
   ]
  },
  {
   "cell_type": "code",
   "execution_count": 74,
   "metadata": {},
   "outputs": [
    {
     "data": {
      "text/html": [
       "<div>\n",
       "<style scoped>\n",
       "    .dataframe tbody tr th:only-of-type {\n",
       "        vertical-align: middle;\n",
       "    }\n",
       "\n",
       "    .dataframe tbody tr th {\n",
       "        vertical-align: top;\n",
       "    }\n",
       "\n",
       "    .dataframe thead th {\n",
       "        text-align: right;\n",
       "    }\n",
       "</style>\n",
       "<table border=\"1\" class=\"dataframe\">\n",
       "  <thead>\n",
       "    <tr style=\"text-align: right;\">\n",
       "      <th></th>\n",
       "      <th>date</th>\n",
       "      <th>0056_close_y</th>\n",
       "    </tr>\n",
       "    <tr>\n",
       "      <th>date</th>\n",
       "      <th></th>\n",
       "      <th></th>\n",
       "    </tr>\n",
       "  </thead>\n",
       "  <tbody>\n",
       "    <tr>\n",
       "      <th>7847</th>\n",
       "      <td>7847</td>\n",
       "      <td>375.321827</td>\n",
       "    </tr>\n",
       "    <tr>\n",
       "      <th>7848</th>\n",
       "      <td>7848</td>\n",
       "      <td>366.075709</td>\n",
       "    </tr>\n",
       "    <tr>\n",
       "      <th>7851</th>\n",
       "      <td>7851</td>\n",
       "      <td>362.340407</td>\n",
       "    </tr>\n",
       "    <tr>\n",
       "      <th>7852</th>\n",
       "      <td>7852</td>\n",
       "      <td>364.270726</td>\n",
       "    </tr>\n",
       "    <tr>\n",
       "      <th>7853</th>\n",
       "      <td>7853</td>\n",
       "      <td>359.996882</td>\n",
       "    </tr>\n",
       "    <tr>\n",
       "      <th>...</th>\n",
       "      <td>...</td>\n",
       "      <td>...</td>\n",
       "    </tr>\n",
       "    <tr>\n",
       "      <th>8082</th>\n",
       "      <td>8082</td>\n",
       "      <td>317.819061</td>\n",
       "    </tr>\n",
       "    <tr>\n",
       "      <th>8083</th>\n",
       "      <td>8083</td>\n",
       "      <td>322.402701</td>\n",
       "    </tr>\n",
       "    <tr>\n",
       "      <th>8084</th>\n",
       "      <td>8084</td>\n",
       "      <td>327.162400</td>\n",
       "    </tr>\n",
       "    <tr>\n",
       "      <th>8085</th>\n",
       "      <td>8085</td>\n",
       "      <td>326.588127</td>\n",
       "    </tr>\n",
       "    <tr>\n",
       "      <th>8086</th>\n",
       "      <td>8086</td>\n",
       "      <td>327.813926</td>\n",
       "    </tr>\n",
       "  </tbody>\n",
       "</table>\n",
       "<p>157 rows × 2 columns</p>\n",
       "</div>"
      ],
      "text/plain": [
       "      date  0056_close_y\n",
       "date                    \n",
       "7847  7847    375.321827\n",
       "7848  7848    366.075709\n",
       "7851  7851    362.340407\n",
       "7852  7852    364.270726\n",
       "7853  7853    359.996882\n",
       "...    ...           ...\n",
       "8082  8082    317.819061\n",
       "8083  8083    322.402701\n",
       "8084  8084    327.162400\n",
       "8085  8085    326.588127\n",
       "8086  8086    327.813926\n",
       "\n",
       "[157 rows x 2 columns]"
      ]
     },
     "execution_count": 74,
     "metadata": {},
     "output_type": "execute_result"
    }
   ],
   "source": [
    "output"
   ]
  },
  {
   "cell_type": "code",
   "execution_count": null,
   "metadata": {},
   "outputs": [],
   "source": []
  },
  {
   "cell_type": "code",
   "execution_count": null,
   "metadata": {},
   "outputs": [],
   "source": []
  }
 ],
 "metadata": {
  "kernelspec": {
   "display_name": "Python 3",
   "language": "python",
   "name": "python3"
  },
  "language_info": {
   "codemirror_mode": {
    "name": "ipython",
    "version": 3
   },
   "file_extension": ".py",
   "mimetype": "text/x-python",
   "name": "python",
   "nbconvert_exporter": "python",
   "pygments_lexer": "ipython3",
   "version": "3.6.10"
  }
 },
 "nbformat": 4,
 "nbformat_minor": 4
}
