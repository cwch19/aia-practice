{
 "cells": [
  {
   "cell_type": "code",
   "execution_count": 1,
   "metadata": {},
   "outputs": [],
   "source": [
    "def exam_1(mylist):\n",
    "    ### code ###\n",
    "    a = []\n",
    "    b = []\n",
    "    c = []\n",
    "    for ch in mylist:\n",
    "        ascValue = ord(ch)\n",
    "        if (ascValue >= 48 and ascValue <= 57):\n",
    "            a.append(ch)\n",
    "        elif (ascValue >= 65 and ascValue <= 90) or (ascValue >= 97 and ascValue <= 122):\n",
    "            b.append(ch)\n",
    "        else:\n",
    "            c.append(ch)\n",
    "    return a,b,c"
   ]
  },
  {
   "cell_type": "code",
   "execution_count": 2,
   "metadata": {},
   "outputs": [
    {
     "name": "stdout",
     "output_type": "stream",
     "text": [
      "(['1', '2', '3'], ['q', 'w', 'e'], ['&', '*', '(', ')'])\n"
     ]
    }
   ],
   "source": [
    "list_1 = \"123qwe&*()\"\n",
    "print(exam_1(list_1))"
   ]
  },
  {
   "cell_type": "code",
   "execution_count": null,
   "metadata": {},
   "outputs": [],
   "source": []
  }
 ],
 "metadata": {
  "kernelspec": {
   "display_name": "Python 3",
   "language": "python",
   "name": "python3"
  },
  "language_info": {
   "codemirror_mode": {
    "name": "ipython",
    "version": 3
   },
   "file_extension": ".py",
   "mimetype": "text/x-python",
   "name": "python",
   "nbconvert_exporter": "python",
   "pygments_lexer": "ipython3",
   "version": "3.6.10"
  }
 },
 "nbformat": 4,
 "nbformat_minor": 4
}
