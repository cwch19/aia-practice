{
 "cells": [
  {
   "cell_type": "code",
   "execution_count": 4,
   "metadata": {},
   "outputs": [],
   "source": [
    "def exam_2(wallet, price):\n",
    "    Thou = 0\n",
    "    Hund = 0\n",
    "    Ten = 0\n",
    "    Unit = 0\n",
    "    if (price >= 1000):\n",
    "        Thou = price // 1000\n",
    "        price = price % 1000\n",
    "    \n",
    "    if (price >= 100):\n",
    "        Hund = price // 100\n",
    "        price = price % 100\n",
    "    \n",
    "    if (price >= 10):\n",
    "        Ten = price // 10\n",
    "        price = price % 10\n",
    "    \n",
    "    if (price >= 1):\n",
    "        Unit = price\n",
    "        \n",
    "    ans = Thou, Hund, Ten, Unit\n",
    "\n",
    "    return ans"
   ]
  },
  {
   "cell_type": "code",
   "execution_count": 5,
   "metadata": {},
   "outputs": [
    {
     "name": "stdout",
     "output_type": "stream",
     "text": [
      "(0, 3, 1, 2)\n"
     ]
    }
   ],
   "source": [
    "wallet = {'Thou':5, 'Hund':3, 'Ten':7, 'Unit':3}\n",
    "price = 312\n",
    "print(exam_2(wallet, price))"
   ]
  },
  {
   "cell_type": "code",
   "execution_count": 6,
   "metadata": {},
   "outputs": [],
   "source": [
    "def exam_2_2(wallet, price):\n",
    "    Thou = wallet['Thou']\n",
    "    Hund = wallet['Hund']\n",
    "    Ten = wallet['Ten']\n",
    "    Unit = wallet['Unit']\n",
    "    \n",
    "    if (Thou * 1000 + Hund * 100 + Ten * 10 + Unit * 1 < price): return False\n",
    "    \n",
    "    if (price >= 1000):\n",
    "        Thou -= price // 1000\n",
    "        price = price % 1000\n",
    "    \n",
    "    if (price >= 100):\n",
    "        Hund -= price // 100\n",
    "        price = price % 100\n",
    "    \n",
    "    if (price >= 10):\n",
    "        Ten -= price // 10\n",
    "        price = price % 10\n",
    "    \n",
    "    if (price >= 1):\n",
    "        Unit -= price\n",
    "        \n",
    "    ans = Thou, Hund, Ten, Unit\n",
    "\n",
    "    return ans"
   ]
  },
  {
   "cell_type": "code",
   "execution_count": 7,
   "metadata": {},
   "outputs": [
    {
     "name": "stdout",
     "output_type": "stream",
     "text": [
      "(5, 0, 6, 1)\n"
     ]
    }
   ],
   "source": [
    "print(exam_2_2(wallet, price))"
   ]
  },
  {
   "cell_type": "code",
   "execution_count": null,
   "metadata": {},
   "outputs": [],
   "source": []
  }
 ],
 "metadata": {
  "kernelspec": {
   "display_name": "Python 3",
   "language": "python",
   "name": "python3"
  },
  "language_info": {
   "codemirror_mode": {
    "name": "ipython",
    "version": 3
   },
   "file_extension": ".py",
   "mimetype": "text/x-python",
   "name": "python",
   "nbconvert_exporter": "python",
   "pygments_lexer": "ipython3",
   "version": "3.6.10"
  }
 },
 "nbformat": 4,
 "nbformat_minor": 4
}
