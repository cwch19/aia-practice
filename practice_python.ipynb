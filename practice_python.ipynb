{
 "cells": [
  {
   "cell_type": "markdown",
   "metadata": {},
   "source": [
    "### 題目1.\n",
    "- 給定三個邊長，判斷是否能成為一個三角形，題目會給一個list，list內會含多個list，每個小list內含有三個數字，即三角形的三個邊長，請幫忙檢查每個list內的三邊長能否構成一個三角形，可以的話請回傳True，不行的請回傳False。\n",
    "- example 1:\n",
    "    - input : [ [1,2,3], [4,5,6], [7,8,9], [0,2,3] ]\n",
    "    - output: [ False, True, True, False]\n",
    "    "
   ]
  },
  {
   "cell_type": "code",
   "execution_count": 47,
   "metadata": {},
   "outputs": [],
   "source": [
    "def exam_1(mylist):\n",
    "    ans = []\n",
    "    for tri in mylist:\n",
    "        tri.sort()\n",
    "        isTriangle = (tri[0] + tri[1] > tri[2])\n",
    "        ans.append(isTriangle)\n",
    "    \n",
    "    return ans"
   ]
  },
  {
   "cell_type": "code",
   "execution_count": 48,
   "metadata": {},
   "outputs": [
    {
     "name": "stdout",
     "output_type": "stream",
     "text": [
      "[False, True, True, False]\n"
     ]
    }
   ],
   "source": [
    "list_1 = [ [1,2,3], [4,5,6], [7,8,9], [0,2,3] ]\n",
    "\n",
    "print(exam_1(list_1))"
   ]
  },
  {
   "cell_type": "code",
   "execution_count": null,
   "metadata": {},
   "outputs": [],
   "source": []
  }
 ],
 "metadata": {
  "kernelspec": {
   "display_name": "Python 3",
   "language": "python",
   "name": "python3"
  },
  "language_info": {
   "codemirror_mode": {
    "name": "ipython",
    "version": 3
   },
   "file_extension": ".py",
   "mimetype": "text/x-python",
   "name": "python",
   "nbconvert_exporter": "python",
   "pygments_lexer": "ipython3",
   "version": "3.7.3"
  }
 },
 "nbformat": 4,
 "nbformat_minor": 4
}
